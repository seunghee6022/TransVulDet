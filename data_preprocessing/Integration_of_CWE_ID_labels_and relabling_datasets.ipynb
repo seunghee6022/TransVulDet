{
 "cells": [
  {
   "cell_type": "markdown",
   "id": "e94d8faa",
   "metadata": {},
   "source": [
    "# Integration of CWE ID labels\n",
    "* Generate new cwe_id label which integrate the cwe id labels of all three dataset"
   ]
  },
  {
   "cell_type": "code",
   "execution_count": 1,
   "id": "a40149f2",
   "metadata": {},
   "outputs": [],
   "source": [
    "import numpy as np\n",
    "import pandas as pd"
   ]
  },
  {
   "cell_type": "code",
   "execution_count": 2,
   "id": "554f1528",
   "metadata": {},
   "outputs": [],
   "source": [
    "def concat_to_df(df):\n",
    "    df_temp = []\n",
    "    for chunk in df:\n",
    "        df_temp.append(chunk)\n",
    "\n",
    "    df = pd.concat(df_temp,ignore_index = True)\n",
    "    return df"
   ]
  },
  {
   "cell_type": "code",
   "execution_count": 3,
   "id": "5aa90096",
   "metadata": {},
   "outputs": [],
   "source": [
    "msr_df = pd.read_csv('preprocessed_datasets/MSR_new.csv', chunksize=10000, index_col=0)"
   ]
  },
  {
   "cell_type": "code",
   "execution_count": 4,
   "id": "7ed65774",
   "metadata": {},
   "outputs": [],
   "source": [
    "mvd_df = pd.read_csv('preprocessed_datasets/MVD.csv', chunksize=10000, index_col=0)"
   ]
  },
  {
   "cell_type": "code",
   "execution_count": 5,
   "id": "31ed5427",
   "metadata": {},
   "outputs": [],
   "source": [
    "cfd_df = pd.read_csv('preprocessed_datasets/CFD_cwe_id.csv', index_col=0)"
   ]
  },
  {
   "cell_type": "code",
   "execution_count": 6,
   "id": "253bf630",
   "metadata": {},
   "outputs": [
    {
     "name": "stdout",
     "output_type": "stream",
     "text": [
      "(186519, 7)\n"
     ]
    },
    {
     "data": {
      "text/html": [
       "<div>\n",
       "<style scoped>\n",
       "    .dataframe tbody tr th:only-of-type {\n",
       "        vertical-align: middle;\n",
       "    }\n",
       "\n",
       "    .dataframe tbody tr th {\n",
       "        vertical-align: top;\n",
       "    }\n",
       "\n",
       "    .dataframe thead th {\n",
       "        text-align: right;\n",
       "    }\n",
       "</style>\n",
       "<table border=\"1\" class=\"dataframe\">\n",
       "  <thead>\n",
       "    <tr style=\"text-align: right;\">\n",
       "      <th></th>\n",
       "      <th>CWE ID</th>\n",
       "      <th>vul</th>\n",
       "      <th>func_before</th>\n",
       "      <th>func_after</th>\n",
       "      <th>vul_func_with_fix</th>\n",
       "      <th>lang</th>\n",
       "      <th>cwe_id</th>\n",
       "    </tr>\n",
       "  </thead>\n",
       "  <tbody>\n",
       "    <tr>\n",
       "      <th>0</th>\n",
       "      <td>CWE-264</td>\n",
       "      <td>0</td>\n",
       "      <td>static bool check_rodc_critical_attribute(stru...</td>\n",
       "      <td>static bool check_rodc_critical_attribute(stru...</td>\n",
       "      <td>static bool check_rodc_critical_attribute(stru...</td>\n",
       "      <td>C</td>\n",
       "      <td>non-vulnerable</td>\n",
       "    </tr>\n",
       "    <tr>\n",
       "      <th>1</th>\n",
       "      <td>CWE-264</td>\n",
       "      <td>0</td>\n",
       "      <td>static int samldb_add_entry(struct samldb_ctx ...</td>\n",
       "      <td>static int samldb_add_entry(struct samldb_ctx ...</td>\n",
       "      <td>static int samldb_add_entry(struct samldb_ctx ...</td>\n",
       "      <td>C</td>\n",
       "      <td>non-vulnerable</td>\n",
       "    </tr>\n",
       "    <tr>\n",
       "      <th>2</th>\n",
       "      <td>CWE-264</td>\n",
       "      <td>0</td>\n",
       "      <td>static int samldb_add_entry_callback(struct ld...</td>\n",
       "      <td>static int samldb_add_entry_callback(struct ld...</td>\n",
       "      <td>static int samldb_add_entry_callback(struct ld...</td>\n",
       "      <td>C</td>\n",
       "      <td>non-vulnerable</td>\n",
       "    </tr>\n",
       "    <tr>\n",
       "      <th>3</th>\n",
       "      <td>CWE-264</td>\n",
       "      <td>0</td>\n",
       "      <td>static int samldb_add_handle_msDS_IntId(struct...</td>\n",
       "      <td>static int samldb_add_handle_msDS_IntId(struct...</td>\n",
       "      <td>static int samldb_add_handle_msDS_IntId(struct...</td>\n",
       "      <td>C</td>\n",
       "      <td>non-vulnerable</td>\n",
       "    </tr>\n",
       "    <tr>\n",
       "      <th>4</th>\n",
       "      <td>CWE-264</td>\n",
       "      <td>0</td>\n",
       "      <td>static int samldb_add_step(struct samldb_ctx *...</td>\n",
       "      <td>static int samldb_add_step(struct samldb_ctx *...</td>\n",
       "      <td>static int samldb_add_step(struct samldb_ctx *...</td>\n",
       "      <td>C</td>\n",
       "      <td>non-vulnerable</td>\n",
       "    </tr>\n",
       "  </tbody>\n",
       "</table>\n",
       "</div>"
      ],
      "text/plain": [
       "    CWE ID  vul                                        func_before  \\\n",
       "0  CWE-264    0  static bool check_rodc_critical_attribute(stru...   \n",
       "1  CWE-264    0  static int samldb_add_entry(struct samldb_ctx ...   \n",
       "2  CWE-264    0  static int samldb_add_entry_callback(struct ld...   \n",
       "3  CWE-264    0  static int samldb_add_handle_msDS_IntId(struct...   \n",
       "4  CWE-264    0  static int samldb_add_step(struct samldb_ctx *...   \n",
       "\n",
       "                                          func_after  \\\n",
       "0  static bool check_rodc_critical_attribute(stru...   \n",
       "1  static int samldb_add_entry(struct samldb_ctx ...   \n",
       "2  static int samldb_add_entry_callback(struct ld...   \n",
       "3  static int samldb_add_handle_msDS_IntId(struct...   \n",
       "4  static int samldb_add_step(struct samldb_ctx *...   \n",
       "\n",
       "                                   vul_func_with_fix lang          cwe_id  \n",
       "0  static bool check_rodc_critical_attribute(stru...    C  non-vulnerable  \n",
       "1  static int samldb_add_entry(struct samldb_ctx ...    C  non-vulnerable  \n",
       "2  static int samldb_add_entry_callback(struct ld...    C  non-vulnerable  \n",
       "3  static int samldb_add_handle_msDS_IntId(struct...    C  non-vulnerable  \n",
       "4  static int samldb_add_step(struct samldb_ctx *...    C  non-vulnerable  "
      ]
     },
     "execution_count": 6,
     "metadata": {},
     "output_type": "execute_result"
    }
   ],
   "source": [
    "msr_df = concat_to_df(msr_df)\n",
    "print(msr_df.shape)\n",
    "msr_df.head(5)"
   ]
  },
  {
   "cell_type": "code",
   "execution_count": 7,
   "id": "39cb0605",
   "metadata": {},
   "outputs": [
    {
     "name": "stdout",
     "output_type": "stream",
     "text": [
      "(181641, 5)\n"
     ]
    },
    {
     "data": {
      "text/html": [
       "<div>\n",
       "<style scoped>\n",
       "    .dataframe tbody tr th:only-of-type {\n",
       "        vertical-align: middle;\n",
       "    }\n",
       "\n",
       "    .dataframe tbody tr th {\n",
       "        vertical-align: top;\n",
       "    }\n",
       "\n",
       "    .dataframe thead th {\n",
       "        text-align: right;\n",
       "    }\n",
       "</style>\n",
       "<table border=\"1\" class=\"dataframe\">\n",
       "  <thead>\n",
       "    <tr style=\"text-align: right;\">\n",
       "      <th></th>\n",
       "      <th>info</th>\n",
       "      <th>cwe_id</th>\n",
       "      <th>mvd_label</th>\n",
       "      <th>code</th>\n",
       "      <th>vul</th>\n",
       "    </tr>\n",
       "  </thead>\n",
       "  <tbody>\n",
       "    <tr>\n",
       "      <th>0</th>\n",
       "      <td>150200/dirent_uri.c memset 405</td>\n",
       "      <td>non-vulnerable</td>\n",
       "      <td>0</td>\n",
       "      <td>const char *svn_relpath__internal_style(const ...</td>\n",
       "      <td>0</td>\n",
       "    </tr>\n",
       "    <tr>\n",
       "      <th>1</th>\n",
       "      <td>79848/CWE134_Uncontrolled_Format_String__char...</td>\n",
       "      <td>non-vulnerable</td>\n",
       "      <td>0</td>\n",
       "      <td>static void goodG2B() 64\\nchar * data ; 66\\nch...</td>\n",
       "      <td>0</td>\n",
       "    </tr>\n",
       "    <tr>\n",
       "      <th>2</th>\n",
       "      <td>94203/CWE319_Cleartext_Tx_Sensitive_Info__w32...</td>\n",
       "      <td>non-vulnerable</td>\n",
       "      <td>0</td>\n",
       "      <td>static void goodB2G2() 289\\nwchar_t * password...</td>\n",
       "      <td>0</td>\n",
       "    </tr>\n",
       "    <tr>\n",
       "      <th>3</th>\n",
       "      <td>151133/utils.c strcmp 737</td>\n",
       "      <td>non-vulnerable</td>\n",
       "      <td>0</td>\n",
       "      <td>int avformat_open_input(AVFormatContext **ps,c...</td>\n",
       "      <td>0</td>\n",
       "    </tr>\n",
       "    <tr>\n",
       "      <th>4</th>\n",
       "      <td>94266/CWE319_Cleartext_Tx_Sensitive_Info__w32...</td>\n",
       "      <td>CWE-311</td>\n",
       "      <td>32</td>\n",
       "      <td>void CWE319_Cleartext_Tx_Sensitive_Info__w32_w...</td>\n",
       "      <td>1</td>\n",
       "    </tr>\n",
       "  </tbody>\n",
       "</table>\n",
       "</div>"
      ],
      "text/plain": [
       "                                                info          cwe_id  \\\n",
       "0                     150200/dirent_uri.c memset 405  non-vulnerable   \n",
       "1   79848/CWE134_Uncontrolled_Format_String__char...  non-vulnerable   \n",
       "2   94203/CWE319_Cleartext_Tx_Sensitive_Info__w32...  non-vulnerable   \n",
       "3                          151133/utils.c strcmp 737  non-vulnerable   \n",
       "4   94266/CWE319_Cleartext_Tx_Sensitive_Info__w32...         CWE-311   \n",
       "\n",
       "   mvd_label                                               code  vul  \n",
       "0          0  const char *svn_relpath__internal_style(const ...    0  \n",
       "1          0  static void goodG2B() 64\\nchar * data ; 66\\nch...    0  \n",
       "2          0  static void goodB2G2() 289\\nwchar_t * password...    0  \n",
       "3          0  int avformat_open_input(AVFormatContext **ps,c...    0  \n",
       "4         32  void CWE319_Cleartext_Tx_Sensitive_Info__w32_w...    1  "
      ]
     },
     "execution_count": 7,
     "metadata": {},
     "output_type": "execute_result"
    }
   ],
   "source": [
    "mvd_df = concat_to_df(mvd_df)\n",
    "print(mvd_df.shape)\n",
    "mvd_df.head(5)"
   ]
  },
  {
   "cell_type": "code",
   "execution_count": 8,
   "id": "eaebe024",
   "metadata": {},
   "outputs": [
    {
     "name": "stdout",
     "output_type": "stream",
     "text": [
      "7909\n"
     ]
    },
    {
     "data": {
      "text/html": [
       "<div>\n",
       "<style scoped>\n",
       "    .dataframe tbody tr th:only-of-type {\n",
       "        vertical-align: middle;\n",
       "    }\n",
       "\n",
       "    .dataframe tbody tr th {\n",
       "        vertical-align: top;\n",
       "    }\n",
       "\n",
       "    .dataframe thead th {\n",
       "        text-align: right;\n",
       "    }\n",
       "</style>\n",
       "<table border=\"1\" class=\"dataframe\">\n",
       "  <thead>\n",
       "    <tr style=\"text-align: right;\">\n",
       "      <th></th>\n",
       "      <th>cwe_id</th>\n",
       "    </tr>\n",
       "  </thead>\n",
       "  <tbody>\n",
       "    <tr>\n",
       "      <th>0</th>\n",
       "      <td>CWE-252</td>\n",
       "    </tr>\n",
       "    <tr>\n",
       "      <th>1</th>\n",
       "      <td>NVD-CWE-Other</td>\n",
       "    </tr>\n",
       "    <tr>\n",
       "      <th>2</th>\n",
       "      <td>CWE-20</td>\n",
       "    </tr>\n",
       "    <tr>\n",
       "      <th>3</th>\n",
       "      <td>CWE-119</td>\n",
       "    </tr>\n",
       "    <tr>\n",
       "      <th>4</th>\n",
       "      <td>CWE-19</td>\n",
       "    </tr>\n",
       "  </tbody>\n",
       "</table>\n",
       "</div>"
      ],
      "text/plain": [
       "          cwe_id\n",
       "0        CWE-252\n",
       "1  NVD-CWE-Other\n",
       "2         CWE-20\n",
       "3        CWE-119\n",
       "4         CWE-19"
      ]
     },
     "execution_count": 8,
     "metadata": {},
     "output_type": "execute_result"
    }
   ],
   "source": [
    "print(cfd_df.size)\n",
    "cfd_df.head(5)"
   ]
  },
  {
   "cell_type": "markdown",
   "id": "f5d4cafc",
   "metadata": {},
   "source": [
    "### Check overlapped dataset"
   ]
  },
  {
   "cell_type": "code",
   "execution_count": 9,
   "id": "8f455c39",
   "metadata": {},
   "outputs": [],
   "source": [
    "def normalize_cwe(cwe_list):\n",
    "    normalized_cwe_list = []\n",
    "    for cwe in cwe_list:\n",
    "        #split the CWEs that contain multiple entries\n",
    "        multiple_cwe = cwe.split(',')\n",
    "        for single_cwe in multiple_cwe:\n",
    "            single_cwe = single_cwe.strip() #remove leading/trailing whitespaces\n",
    "            if '-' in single_cwe:\n",
    "                cwe_prefix, cwe_number = single_cwe.split('-')\n",
    "                # remove leading zeroes\n",
    "                cwe_number = str(int(cwe_number))\n",
    "                normalized_cwe = cwe_prefix + '-' + cwe_number\n",
    "            else:\n",
    "                normalized_cwe = single_cwe\n",
    "            normalized_cwe_list.append(normalized_cwe)\n",
    "    return list(set(normalized_cwe_list))"
   ]
  },
  {
   "cell_type": "code",
   "execution_count": 10,
   "id": "78518e76",
   "metadata": {},
   "outputs": [
    {
     "name": "stdout",
     "output_type": "stream",
     "text": [
      "89\n"
     ]
    },
    {
     "data": {
      "text/plain": [
       "array(['non-vulnerable', 'CWE-264', 'CWE-119', 'CWE-310', 'CWE-189',\n",
       "       'CWE-200', 'CWE-20', 'CWE-416', 'CWE-399', 'CWE-835', 'CWE-125',\n",
       "       'CWE-347', 'CWE-190', 'CWE-17', 'CWE-362', 'CWE-704', 'CWE-354',\n",
       "       'CWE-209', 'CWE-78', 'CWE-59', 'CWE-388', 'CWE-617', 'CWE-476',\n",
       "       'CWE-787', 'CWE-682', 'CWE-754', 'CWE-502', 'CWE-22', 'CWE-665',\n",
       "       'CWE-254', 'CWE-772', 'CWE-400', 'CWE-369', 'CWE-284', 'CWE-345',\n",
       "       'CWE-674', 'CWE-311', 'CWE-330', 'CWE-327', 'CWE-320', 'CWE-94',\n",
       "       'CWE-415', 'CWE-134', 'CWE-732', 'CWE-331', 'CWE-287', 'CWE-16',\n",
       "       'CWE-89', 'CWE-255', 'CWE-18', 'CWE-19', 'CWE-285', 'CWE-74',\n",
       "       'CWE-79', 'CWE-862', 'CWE-269', 'CWE-834', 'CWE-494', 'CWE-770',\n",
       "       'CWE-755', 'CWE-129', 'CWE-404', 'CWE-191', 'CWE-522', 'CWE-918',\n",
       "       'CWE-358', 'CWE-295', 'CWE-346', 'CWE-532', 'CWE-426', 'CWE-77',\n",
       "       'CWE-824', 'CWE-693', 'CWE-352', 'CWE-436', 'CWE-90', 'CWE-290',\n",
       "       'CWE-763', 'CWE-120', 'CWE-611', 'CWE-601', 'CWE-361', 'CWE-281',\n",
       "       'CWE-1021', 'CWE-668', 'CWE-664', 'CWE-172', 'CWE-252', 'CWE-909'],\n",
       "      dtype=object)"
      ]
     },
     "execution_count": 10,
     "metadata": {},
     "output_type": "execute_result"
    }
   ],
   "source": [
    "msr_cwe_list = msr_df['cwe_id'].unique().tolist()\n",
    "print(len(msr_cwe_list))\n",
    "msr_df['cwe_id'].unique()"
   ]
  },
  {
   "cell_type": "code",
   "execution_count": 11,
   "id": "a66dcb12",
   "metadata": {
    "scrolled": true
   },
   "outputs": [
    {
     "name": "stdout",
     "output_type": "stream",
     "text": [
      "41\n"
     ]
    },
    {
     "data": {
      "text/plain": [
       "array(['non-vulnerable', 'CWE-311', 'CWE-706', 'CWE-400, CWE-665, CWE-20',\n",
       "       'CWE-704', 'CWE-666', 'CWE-119', 'CWE-404', 'CWE-400', 'CWE-369',\n",
       "       'CWE-74', 'CWE-506', 'CWE-362', 'CWE-662', 'CWE-476', 'CWE-20',\n",
       "       'CWE-758', 'CWE-327', 'CWE-668', 'CWE-400, CWE-404',\n",
       "       'CWE-119, CWE-666, CWE-573', 'CWE-190', 'CWE-467', 'CWE-170',\n",
       "       'CWE-676', 'CWE-187', 'CWE-670', 'CWE-573', 'CWE-191', 'CWE-754',\n",
       "       'CWE-666, CWE-573', 'CWE-404, CWE-668', 'CWE-400, CWE-665',\n",
       "       'CWE-221', 'CWE-610', 'CWE-469', 'CWE-662, CWE-573', 'CWE-665',\n",
       "       'CWE-138', 'CWE-834', 'CWE-673'], dtype=object)"
      ]
     },
     "execution_count": 11,
     "metadata": {},
     "output_type": "execute_result"
    }
   ],
   "source": [
    "mvd_cwe_list = mvd_df['cwe_id'].unique().tolist()\n",
    "print(len(mvd_cwe_list))\n",
    "mvd_df['cwe_id'].unique()"
   ]
  },
  {
   "cell_type": "code",
   "execution_count": 12,
   "id": "97b65548",
   "metadata": {},
   "outputs": [
    {
     "name": "stdout",
     "output_type": "stream",
     "text": [
      "209\n"
     ]
    },
    {
     "data": {
      "text/plain": [
       "array(['CWE-252', 'NVD-CWE-Other', 'CWE-20', 'CWE-119', 'CWE-19',\n",
       "       'CWE-94', 'CWE-255', 'CWE-189', 'CWE-79', 'CWE-264',\n",
       "       'NVD-CWE-noinfo', 'CWE-120', 'CWE-399', 'CWE-362', 'CWE-193',\n",
       "       'CWE-310', 'CWE-200', 'CWE-787', 'CWE-772', 'CWE-134', 'CWE-22',\n",
       "       'CWE-476', 'CWE-400', 'CWE-59', 'CWE-89', 'CWE-665', 'CWE-434',\n",
       "       'CWE-835', 'CWE-190', 'CWE-369', 'CWE-16', 'CWE-287', 'CWE-78',\n",
       "       'CWE-352', 'CWE-640', 'CWE-284', 'CWE-330', 'CWE-276', 'CWE-611',\n",
       "       'CWE-269', 'CWE-275', 'CWE-502', 'CWE-668', 'CWE-74', 'CWE-77',\n",
       "       'CWE-125', 'CWE-916', 'CWE-416', 'CWE-732', 'CWE-754', 'CWE-918',\n",
       "       'CWE-415', 'CWE-17', 'CWE-191', 'CWE-704', 'CWE-254', 'CWE-203',\n",
       "       'CWE-116', 'CWE-273', 'CWE-295', 'CWE-763', 'CWE-18', 'CWE-681',\n",
       "       'CWE-601', 'CWE-426', 'CWE-444', 'CWE-534', 'CWE-90', 'CWE-617',\n",
       "       'CWE-521', 'CWE-199', 'CWE-331', 'CWE-93', 'CWE-327', 'CWE-384',\n",
       "       'CWE-908', 'CWE-345', 'CWE-843', 'CWE-347', 'CWE-361', 'CWE-320',\n",
       "       'CWE-358', 'CWE-798', 'CWE-21', 'CWE-335', 'CWE-184', 'CWE-285',\n",
       "       'CWE-326', 'CWE-388', 'CWE-532', 'CWE-863', 'CWE-862', 'CWE-346',\n",
       "       'CWE-755', 'CWE-404', 'CWE-129', 'CWE-674', 'CWE-613', 'CWE-770',\n",
       "       'CWE-943', 'CWE-354', 'CWE-494', 'CWE-834', 'CWE-639', 'CWE-311',\n",
       "       'CWE-290', 'CWE-121', 'CWE-1188', 'CWE-338', 'CWE-522', 'CWE-682',\n",
       "       'CWE-1187', 'CWE-667', 'CWE-774', 'CWE-470', 'CWE-91', 'CWE-1236',\n",
       "       'CWE-824', 'CWE-307', 'CWE-88', 'CWE-113', 'CWE-425', 'CWE-185',\n",
       "       'CWE-401', 'CWE-471', 'CWE-436', 'CWE-312', 'CWE-749', 'CWE-178',\n",
       "       'CWE-915', 'CWE-1321', 'CWE-670', 'CWE-306', 'CWE-672', 'CWE-776',\n",
       "       'CWE-1021', 'CWE-909', 'CWE-209', 'CWE-838', 'CWE-427', 'CWE-459',\n",
       "       'CWE-131', 'CWE-319', 'CWE-684', 'CWE-697', 'CWE-707', 'CWE-114',\n",
       "       'CWE-350', 'CWE-212', 'CWE-706', 'CWE-281', 'CWE-552', 'CWE-208',\n",
       "       'CWE-669', 'CWE-297', 'CWE-428', 'CWE-73', 'CWE-441', 'CWE-250',\n",
       "       'CWE-122', 'CWE-117', 'CWE-294', 'CWE-80', 'CWE-829', 'CWE-98',\n",
       "       'CWE-610', 'CWE-87', 'CWE-367', 'CWE-538', 'CWE-759', 'CWE-378',\n",
       "       'CWE-379', 'CWE-303', 'CWE-924', 'CWE-305', 'CWE-913', 'CWE-527',\n",
       "       'CWE-680', 'CWE-565', 'CWE-1333', 'CWE-328', 'CWE-590', 'CWE-457',\n",
       "       'CWE-359', 'CWE-644', 'CWE-23', 'CWE-641', 'CWE-277', 'CWE-1336',\n",
       "       'CWE-786', 'CWE-840', 'CWE-805', 'CWE-788', 'CWE-825', 'CWE-823',\n",
       "       'CWE-321', 'CWE-922', 'CWE-126', 'CWE-662', 'CWE-791', 'CWE-279',\n",
       "       'CWE-324', 'CWE-27', 'CWE-288', 'CWE-475', 'CWE-266', 'CWE-304',\n",
       "       'CWE-241', 'CWE-248'], dtype=object)"
      ]
     },
     "execution_count": 12,
     "metadata": {},
     "output_type": "execute_result"
    }
   ],
   "source": [
    "cfd_cwe_list = cfd_df['cwe_id'].unique().tolist()\n",
    "print(len(cfd_cwe_list))\n",
    "cfd_df['cwe_id'].unique()"
   ]
  },
  {
   "cell_type": "code",
   "execution_count": 13,
   "id": "57dd81a0",
   "metadata": {},
   "outputs": [
    {
     "name": "stdout",
     "output_type": "stream",
     "text": [
      "['CWE-252', 'CWE-20', 'CWE-119', 'CWE-19', 'CWE-94', 'CWE-255', 'CWE-189', 'CWE-79', 'CWE-264', 'CWE-120', 'CWE-399', 'CWE-362', 'CWE-193', 'CWE-310', 'CWE-200', 'CWE-787', 'CWE-772', 'CWE-134', 'CWE-22', 'CWE-476', 'CWE-400', 'CWE-59', 'CWE-89', 'CWE-665', 'CWE-434', 'CWE-835', 'CWE-190', 'CWE-369', 'CWE-16', 'CWE-287', 'CWE-78', 'CWE-352', 'CWE-640', 'CWE-284', 'CWE-330', 'CWE-276', 'CWE-611', 'CWE-269', 'CWE-275', 'CWE-502', 'CWE-668', 'CWE-74', 'CWE-77', 'CWE-125', 'CWE-916', 'CWE-416', 'CWE-732', 'CWE-754', 'CWE-918', 'CWE-415', 'CWE-17', 'CWE-191', 'CWE-704', 'CWE-254', 'CWE-203', 'CWE-116', 'CWE-273', 'CWE-295', 'CWE-763', 'CWE-18', 'CWE-681', 'CWE-601', 'CWE-426', 'CWE-444', 'CWE-534', 'CWE-90', 'CWE-617', 'CWE-521', 'CWE-199', 'CWE-331', 'CWE-93', 'CWE-327', 'CWE-384', 'CWE-908', 'CWE-345', 'CWE-843', 'CWE-347', 'CWE-361', 'CWE-320', 'CWE-358', 'CWE-798', 'CWE-21', 'CWE-335', 'CWE-184', 'CWE-285', 'CWE-326', 'CWE-388', 'CWE-532', 'CWE-863', 'CWE-862', 'CWE-346', 'CWE-755', 'CWE-404', 'CWE-129', 'CWE-674', 'CWE-613', 'CWE-770', 'CWE-943', 'CWE-354', 'CWE-494', 'CWE-834', 'CWE-639', 'CWE-311', 'CWE-290', 'CWE-121', 'CWE-1188', 'CWE-338', 'CWE-522', 'CWE-682', 'CWE-1187', 'CWE-667', 'CWE-774', 'CWE-470', 'CWE-91', 'CWE-1236', 'CWE-824', 'CWE-307', 'CWE-88', 'CWE-113', 'CWE-425', 'CWE-185', 'CWE-401', 'CWE-471', 'CWE-436', 'CWE-312', 'CWE-749', 'CWE-178', 'CWE-915', 'CWE-1321', 'CWE-670', 'CWE-306', 'CWE-672', 'CWE-776', 'CWE-1021', 'CWE-909', 'CWE-209', 'CWE-838', 'CWE-427', 'CWE-459', 'CWE-131', 'CWE-319', 'CWE-684', 'CWE-697', 'CWE-707', 'CWE-114', 'CWE-350', 'CWE-212', 'CWE-706', 'CWE-281', 'CWE-552', 'CWE-208', 'CWE-669', 'CWE-297', 'CWE-428', 'CWE-73', 'CWE-441', 'CWE-250', 'CWE-122', 'CWE-117', 'CWE-294', 'CWE-80', 'CWE-829', 'CWE-98', 'CWE-610', 'CWE-87', 'CWE-367', 'CWE-538', 'CWE-759', 'CWE-378', 'CWE-379', 'CWE-303', 'CWE-924', 'CWE-305', 'CWE-913', 'CWE-527', 'CWE-680', 'CWE-565', 'CWE-1333', 'CWE-328', 'CWE-590', 'CWE-457', 'CWE-359', 'CWE-644', 'CWE-23', 'CWE-641', 'CWE-277', 'CWE-1336', 'CWE-786', 'CWE-840', 'CWE-805', 'CWE-788', 'CWE-825', 'CWE-823', 'CWE-321', 'CWE-922', 'CWE-126', 'CWE-662', 'CWE-791', 'CWE-279', 'CWE-324', 'CWE-27', 'CWE-288', 'CWE-475', 'CWE-266', 'CWE-304', 'CWE-241', 'CWE-248']\n"
     ]
    }
   ],
   "source": [
    "if 'NVD-CWE-Other' in cfd_cwe_list:\n",
    "    cfd_cwe_list.remove('NVD-CWE-Other')\n",
    "if 'NVD-CWE-noinfo' in cfd_cwe_list:\n",
    "    cfd_cwe_list.remove('NVD-CWE-noinfo')\n",
    "print(cfd_cwe_list)"
   ]
  },
  {
   "cell_type": "code",
   "execution_count": 14,
   "id": "10efe627",
   "metadata": {},
   "outputs": [
    {
     "name": "stdout",
     "output_type": "stream",
     "text": [
      "Before removing overlapped cwe ids:  337\n",
      "After removing overlapped cwe ids:  230\n"
     ]
    }
   ],
   "source": [
    "total_cwe_id_list = msr_cwe_list + mvd_cwe_list + cfd_cwe_list\n",
    "print(\"Before removing overlapped cwe ids: \",len(total_cwe_id_list))\n",
    "total_cwe_id_list = list(set(total_cwe_id_list))\n",
    "print(\"After removing overlapped cwe ids: \",len(total_cwe_id_list))"
   ]
  },
  {
   "cell_type": "code",
   "execution_count": 15,
   "id": "62932f34",
   "metadata": {},
   "outputs": [
    {
     "data": {
      "text/plain": [
       "True"
      ]
     },
     "execution_count": 15,
     "metadata": {},
     "output_type": "execute_result"
    }
   ],
   "source": [
    "'non-vulnerable' in total_cwe_id_list"
   ]
  },
  {
   "cell_type": "code",
   "execution_count": 16,
   "id": "0bc10451",
   "metadata": {},
   "outputs": [
    {
     "data": {
      "text/plain": [
       "False"
      ]
     },
     "execution_count": 16,
     "metadata": {},
     "output_type": "execute_result"
    }
   ],
   "source": [
    "# Check NaN\n",
    "'NaN' in total_cwe_id_list"
   ]
  },
  {
   "cell_type": "markdown",
   "id": "83d01f3a",
   "metadata": {},
   "source": [
    "### Define integrated cwe_ids labels"
   ]
  },
  {
   "cell_type": "code",
   "execution_count": 17,
   "id": "11466237",
   "metadata": {},
   "outputs": [
    {
     "name": "stdout",
     "output_type": "stream",
     "text": [
      "['non-vulnerable', 'CWE-16', 'CWE-17', 'CWE-18', 'CWE-19', 'CWE-20', 'CWE-21', 'CWE-22', 'CWE-23', 'CWE-27', 'CWE-59', 'CWE-73', 'CWE-74', 'CWE-77', 'CWE-78', 'CWE-79', 'CWE-80', 'CWE-87', 'CWE-88', 'CWE-89', 'CWE-90', 'CWE-91', 'CWE-93', 'CWE-94', 'CWE-98', 'CWE-113', 'CWE-114', 'CWE-116', 'CWE-117', 'CWE-119', 'CWE-119, CWE-666, CWE-573', 'CWE-120', 'CWE-121', 'CWE-122', 'CWE-125', 'CWE-126', 'CWE-129', 'CWE-131', 'CWE-134', 'CWE-138', 'CWE-170', 'CWE-172', 'CWE-178', 'CWE-184', 'CWE-185', 'CWE-187', 'CWE-189', 'CWE-190', 'CWE-191', 'CWE-193', 'CWE-199', 'CWE-200', 'CWE-203', 'CWE-208', 'CWE-209', 'CWE-212', 'CWE-221', 'CWE-241', 'CWE-248', 'CWE-250', 'CWE-252', 'CWE-254', 'CWE-255', 'CWE-264', 'CWE-266', 'CWE-269', 'CWE-273', 'CWE-275', 'CWE-276', 'CWE-277', 'CWE-279', 'CWE-281', 'CWE-284', 'CWE-285', 'CWE-287', 'CWE-288', 'CWE-290', 'CWE-294', 'CWE-295', 'CWE-297', 'CWE-303', 'CWE-304', 'CWE-305', 'CWE-306', 'CWE-307', 'CWE-310', 'CWE-311', 'CWE-312', 'CWE-319', 'CWE-320', 'CWE-321', 'CWE-324', 'CWE-326', 'CWE-327', 'CWE-328', 'CWE-330', 'CWE-331', 'CWE-335', 'CWE-338', 'CWE-345', 'CWE-346', 'CWE-347', 'CWE-350', 'CWE-352', 'CWE-354', 'CWE-358', 'CWE-359', 'CWE-361', 'CWE-362', 'CWE-367', 'CWE-369', 'CWE-378', 'CWE-379', 'CWE-384', 'CWE-388', 'CWE-399', 'CWE-400', 'CWE-400, CWE-665, CWE-20', 'CWE-400, CWE-665', 'CWE-400, CWE-404', 'CWE-401', 'CWE-404, CWE-668', 'CWE-404', 'CWE-415', 'CWE-416', 'CWE-425', 'CWE-426', 'CWE-427', 'CWE-428', 'CWE-434', 'CWE-436', 'CWE-441', 'CWE-444', 'CWE-457', 'CWE-459', 'CWE-467', 'CWE-469', 'CWE-470', 'CWE-471', 'CWE-475', 'CWE-476', 'CWE-494', 'CWE-502', 'CWE-506', 'CWE-521', 'CWE-522', 'CWE-527', 'CWE-532', 'CWE-534', 'CWE-538', 'CWE-552', 'CWE-565', 'CWE-573', 'CWE-590', 'CWE-601', 'CWE-610', 'CWE-611', 'CWE-613', 'CWE-617', 'CWE-639', 'CWE-640', 'CWE-641', 'CWE-644', 'CWE-662, CWE-573', 'CWE-662', 'CWE-664', 'CWE-665', 'CWE-666, CWE-573', 'CWE-666', 'CWE-667', 'CWE-668', 'CWE-669', 'CWE-670', 'CWE-672', 'CWE-673', 'CWE-674', 'CWE-676', 'CWE-680', 'CWE-681', 'CWE-682', 'CWE-684', 'CWE-693', 'CWE-697', 'CWE-704', 'CWE-706', 'CWE-707', 'CWE-732', 'CWE-749', 'CWE-754', 'CWE-755', 'CWE-758', 'CWE-759', 'CWE-763', 'CWE-770', 'CWE-772', 'CWE-774', 'CWE-776', 'CWE-786', 'CWE-787', 'CWE-788', 'CWE-791', 'CWE-798', 'CWE-805', 'CWE-823', 'CWE-824', 'CWE-825', 'CWE-829', 'CWE-834', 'CWE-835', 'CWE-838', 'CWE-840', 'CWE-843', 'CWE-862', 'CWE-863', 'CWE-908', 'CWE-909', 'CWE-913', 'CWE-915', 'CWE-916', 'CWE-918', 'CWE-922', 'CWE-924', 'CWE-943', 'CWE-1021', 'CWE-1187', 'CWE-1188', 'CWE-1236', 'CWE-1321', 'CWE-1333', 'CWE-1336']\n"
     ]
    }
   ],
   "source": [
    "# sorted by cwe_ids and non-vulnerable as index: 0\n",
    "\n",
    "import re\n",
    "\n",
    "def sort_by_number(my_list):\n",
    "    def extract_number(string):\n",
    "        match = re.search(r'\\d+', string)\n",
    "        if match:\n",
    "            return int(match.group())\n",
    "        else:\n",
    "            return float('inf')\n",
    "    return sorted(my_list, key=extract_number)\n",
    "\n",
    "total_cwe_id_list = sort_by_number(total_cwe_id_list)\n",
    "total_cwe_id_list.remove('non-vulnerable')\n",
    "total_cwe_id_list.insert(0, 'non-vulnerable')\n",
    "print(total_cwe_id_list)  # prints ['item1', 'item2', 'item3', 'item10', 'item25']\n"
   ]
  },
  {
   "cell_type": "code",
   "execution_count": 18,
   "id": "890d8bb0",
   "metadata": {
    "scrolled": true
   },
   "outputs": [
    {
     "name": "stdout",
     "output_type": "stream",
     "text": [
      "{'non-vulnerable': 0, 'CWE-16': 1, 'CWE-17': 2, 'CWE-18': 3, 'CWE-19': 4, 'CWE-20': 5, 'CWE-21': 6, 'CWE-22': 7, 'CWE-23': 8, 'CWE-27': 9, 'CWE-59': 10, 'CWE-73': 11, 'CWE-74': 12, 'CWE-77': 13, 'CWE-78': 14, 'CWE-79': 15, 'CWE-80': 16, 'CWE-87': 17, 'CWE-88': 18, 'CWE-89': 19, 'CWE-90': 20, 'CWE-91': 21, 'CWE-93': 22, 'CWE-94': 23, 'CWE-98': 24, 'CWE-113': 25, 'CWE-114': 26, 'CWE-116': 27, 'CWE-117': 28, 'CWE-119': 29, 'CWE-119, CWE-666, CWE-573': 30, 'CWE-120': 31, 'CWE-121': 32, 'CWE-122': 33, 'CWE-125': 34, 'CWE-126': 35, 'CWE-129': 36, 'CWE-131': 37, 'CWE-134': 38, 'CWE-138': 39, 'CWE-170': 40, 'CWE-172': 41, 'CWE-178': 42, 'CWE-184': 43, 'CWE-185': 44, 'CWE-187': 45, 'CWE-189': 46, 'CWE-190': 47, 'CWE-191': 48, 'CWE-193': 49, 'CWE-199': 50, 'CWE-200': 51, 'CWE-203': 52, 'CWE-208': 53, 'CWE-209': 54, 'CWE-212': 55, 'CWE-221': 56, 'CWE-241': 57, 'CWE-248': 58, 'CWE-250': 59, 'CWE-252': 60, 'CWE-254': 61, 'CWE-255': 62, 'CWE-264': 63, 'CWE-266': 64, 'CWE-269': 65, 'CWE-273': 66, 'CWE-275': 67, 'CWE-276': 68, 'CWE-277': 69, 'CWE-279': 70, 'CWE-281': 71, 'CWE-284': 72, 'CWE-285': 73, 'CWE-287': 74, 'CWE-288': 75, 'CWE-290': 76, 'CWE-294': 77, 'CWE-295': 78, 'CWE-297': 79, 'CWE-303': 80, 'CWE-304': 81, 'CWE-305': 82, 'CWE-306': 83, 'CWE-307': 84, 'CWE-310': 85, 'CWE-311': 86, 'CWE-312': 87, 'CWE-319': 88, 'CWE-320': 89, 'CWE-321': 90, 'CWE-324': 91, 'CWE-326': 92, 'CWE-327': 93, 'CWE-328': 94, 'CWE-330': 95, 'CWE-331': 96, 'CWE-335': 97, 'CWE-338': 98, 'CWE-345': 99, 'CWE-346': 100, 'CWE-347': 101, 'CWE-350': 102, 'CWE-352': 103, 'CWE-354': 104, 'CWE-358': 105, 'CWE-359': 106, 'CWE-361': 107, 'CWE-362': 108, 'CWE-367': 109, 'CWE-369': 110, 'CWE-378': 111, 'CWE-379': 112, 'CWE-384': 113, 'CWE-388': 114, 'CWE-399': 115, 'CWE-400': 116, 'CWE-400, CWE-665, CWE-20': 117, 'CWE-400, CWE-665': 118, 'CWE-400, CWE-404': 119, 'CWE-401': 120, 'CWE-404, CWE-668': 121, 'CWE-404': 122, 'CWE-415': 123, 'CWE-416': 124, 'CWE-425': 125, 'CWE-426': 126, 'CWE-427': 127, 'CWE-428': 128, 'CWE-434': 129, 'CWE-436': 130, 'CWE-441': 131, 'CWE-444': 132, 'CWE-457': 133, 'CWE-459': 134, 'CWE-467': 135, 'CWE-469': 136, 'CWE-470': 137, 'CWE-471': 138, 'CWE-475': 139, 'CWE-476': 140, 'CWE-494': 141, 'CWE-502': 142, 'CWE-506': 143, 'CWE-521': 144, 'CWE-522': 145, 'CWE-527': 146, 'CWE-532': 147, 'CWE-534': 148, 'CWE-538': 149, 'CWE-552': 150, 'CWE-565': 151, 'CWE-573': 152, 'CWE-590': 153, 'CWE-601': 154, 'CWE-610': 155, 'CWE-611': 156, 'CWE-613': 157, 'CWE-617': 158, 'CWE-639': 159, 'CWE-640': 160, 'CWE-641': 161, 'CWE-644': 162, 'CWE-662, CWE-573': 163, 'CWE-662': 164, 'CWE-664': 165, 'CWE-665': 166, 'CWE-666, CWE-573': 167, 'CWE-666': 168, 'CWE-667': 169, 'CWE-668': 170, 'CWE-669': 171, 'CWE-670': 172, 'CWE-672': 173, 'CWE-673': 174, 'CWE-674': 175, 'CWE-676': 176, 'CWE-680': 177, 'CWE-681': 178, 'CWE-682': 179, 'CWE-684': 180, 'CWE-693': 181, 'CWE-697': 182, 'CWE-704': 183, 'CWE-706': 184, 'CWE-707': 185, 'CWE-732': 186, 'CWE-749': 187, 'CWE-754': 188, 'CWE-755': 189, 'CWE-758': 190, 'CWE-759': 191, 'CWE-763': 192, 'CWE-770': 193, 'CWE-772': 194, 'CWE-774': 195, 'CWE-776': 196, 'CWE-786': 197, 'CWE-787': 198, 'CWE-788': 199, 'CWE-791': 200, 'CWE-798': 201, 'CWE-805': 202, 'CWE-823': 203, 'CWE-824': 204, 'CWE-825': 205, 'CWE-829': 206, 'CWE-834': 207, 'CWE-835': 208, 'CWE-838': 209, 'CWE-840': 210, 'CWE-843': 211, 'CWE-862': 212, 'CWE-863': 213, 'CWE-908': 214, 'CWE-909': 215, 'CWE-913': 216, 'CWE-915': 217, 'CWE-916': 218, 'CWE-918': 219, 'CWE-922': 220, 'CWE-924': 221, 'CWE-943': 222, 'CWE-1021': 223, 'CWE-1187': 224, 'CWE-1188': 225, 'CWE-1236': 226, 'CWE-1321': 227, 'CWE-1333': 228, 'CWE-1336': 229}\n"
     ]
    }
   ],
   "source": [
    "total_cwe_dict = { cwe_id_key: idx for idx, cwe_id_key in enumerate(total_cwe_id_list)}\n",
    "print(total_cwe_dict)"
   ]
  },
  {
   "cell_type": "code",
   "execution_count": 19,
   "id": "d0e77eee",
   "metadata": {},
   "outputs": [],
   "source": [
    "# save dict for later retrieval\n",
    "import pickle\n",
    "\n",
    "with open(\"preprocessed_datasets/total_cwe_dict.txt\", \"wb\") as myFile:\n",
    "    pickle.dump(total_cwe_dict, myFile)"
   ]
  },
  {
   "cell_type": "code",
   "execution_count": 20,
   "id": "d17631c4",
   "metadata": {},
   "outputs": [],
   "source": [
    "def check_match_vul_and_CWE_ID(df,cwe_id_col_name):\n",
    "    count = 0\n",
    "    for index, row in df.iterrows():\n",
    "        if row['vul'] == 0 and row[cwe_id_col_name] != 'non-vulnerable':\n",
    "            print(\"vul and CWE ID are not matched!!!!!\",row['vul'], row['CWE ID'])\n",
    "            break\n",
    "\n",
    "    if count==0:\n",
    "        print(\"All vul and CWE ID are matched correctly\")\n",
    "        \n",
    "def check_match_vul_and_label(df):\n",
    "    count = 0\n",
    "   \n",
    "    for index, row in df.iterrows():\n",
    "        if row['vul'] == 0 and row['label'] != 0:\n",
    "            print(\"vul and label are not matched!!!!!\",row['vul'], row['label'])\n",
    "            break\n",
    "    if count==0:\n",
    "        print(\"All vul and label are matched correctly\")\n",
    "\n",
    "\n",
    "            "
   ]
  },
  {
   "cell_type": "code",
   "execution_count": 21,
   "id": "608e4543",
   "metadata": {},
   "outputs": [
    {
     "name": "stdout",
     "output_type": "stream",
     "text": [
      "All vul and CWE ID are matched correctly\n"
     ]
    }
   ],
   "source": [
    "check_match_vul_and_CWE_ID(msr_df,'cwe_id')"
   ]
  },
  {
   "cell_type": "code",
   "execution_count": 22,
   "id": "a898212b",
   "metadata": {},
   "outputs": [
    {
     "name": "stdout",
     "output_type": "stream",
     "text": [
      "All vul and CWE ID are matched correctly\n"
     ]
    }
   ],
   "source": [
    "check_match_vul_and_CWE_ID(mvd_df,'cwe_id')"
   ]
  },
  {
   "cell_type": "code",
   "execution_count": 23,
   "id": "a10345f6",
   "metadata": {},
   "outputs": [
    {
     "data": {
      "text/html": [
       "<div>\n",
       "<style scoped>\n",
       "    .dataframe tbody tr th:only-of-type {\n",
       "        vertical-align: middle;\n",
       "    }\n",
       "\n",
       "    .dataframe tbody tr th {\n",
       "        vertical-align: top;\n",
       "    }\n",
       "\n",
       "    .dataframe thead th {\n",
       "        text-align: right;\n",
       "    }\n",
       "</style>\n",
       "<table border=\"1\" class=\"dataframe\">\n",
       "  <thead>\n",
       "    <tr style=\"text-align: right;\">\n",
       "      <th></th>\n",
       "      <th>code</th>\n",
       "      <th>vul</th>\n",
       "      <th>cwe_id</th>\n",
       "      <th>label</th>\n",
       "    </tr>\n",
       "  </thead>\n",
       "  <tbody>\n",
       "    <tr>\n",
       "      <th>0</th>\n",
       "      <td>const char *svn_relpath__internal_style(const ...</td>\n",
       "      <td>0</td>\n",
       "      <td>non-vulnerable</td>\n",
       "      <td>0</td>\n",
       "    </tr>\n",
       "    <tr>\n",
       "      <th>1</th>\n",
       "      <td>static void goodG2B() 64\\nchar * data ; 66\\nch...</td>\n",
       "      <td>0</td>\n",
       "      <td>non-vulnerable</td>\n",
       "      <td>0</td>\n",
       "    </tr>\n",
       "    <tr>\n",
       "      <th>2</th>\n",
       "      <td>static void goodB2G2() 289\\nwchar_t * password...</td>\n",
       "      <td>0</td>\n",
       "      <td>non-vulnerable</td>\n",
       "      <td>0</td>\n",
       "    </tr>\n",
       "    <tr>\n",
       "      <th>3</th>\n",
       "      <td>int avformat_open_input(AVFormatContext **ps,c...</td>\n",
       "      <td>0</td>\n",
       "      <td>non-vulnerable</td>\n",
       "      <td>0</td>\n",
       "    </tr>\n",
       "    <tr>\n",
       "      <th>4</th>\n",
       "      <td>void CWE319_Cleartext_Tx_Sensitive_Info__w32_w...</td>\n",
       "      <td>1</td>\n",
       "      <td>CWE-311</td>\n",
       "      <td>86</td>\n",
       "    </tr>\n",
       "  </tbody>\n",
       "</table>\n",
       "</div>"
      ],
      "text/plain": [
       "                                                code  vul          cwe_id  \\\n",
       "0  const char *svn_relpath__internal_style(const ...    0  non-vulnerable   \n",
       "1  static void goodG2B() 64\\nchar * data ; 66\\nch...    0  non-vulnerable   \n",
       "2  static void goodB2G2() 289\\nwchar_t * password...    0  non-vulnerable   \n",
       "3  int avformat_open_input(AVFormatContext **ps,c...    0  non-vulnerable   \n",
       "4  void CWE319_Cleartext_Tx_Sensitive_Info__w32_w...    1         CWE-311   \n",
       "\n",
       "   label  \n",
       "0      0  \n",
       "1      0  \n",
       "2      0  \n",
       "3      0  \n",
       "4     86  "
      ]
     },
     "execution_count": 23,
     "metadata": {},
     "output_type": "execute_result"
    }
   ],
   "source": [
    "# add new column based on dictionary values\n",
    "mvd_df['label'] = mvd_df['cwe_id'].apply(lambda x: total_cwe_dict.get(x))\n",
    "\n",
    "mvd_pre_df = mvd_df[['code', 'vul', 'cwe_id','label']]\n",
    "mvd_pre_df.head(5)"
   ]
  },
  {
   "cell_type": "code",
   "execution_count": 26,
   "id": "e92ab200",
   "metadata": {},
   "outputs": [
    {
     "data": {
      "text/html": [
       "<div>\n",
       "<style scoped>\n",
       "    .dataframe tbody tr th:only-of-type {\n",
       "        vertical-align: middle;\n",
       "    }\n",
       "\n",
       "    .dataframe tbody tr th {\n",
       "        vertical-align: top;\n",
       "    }\n",
       "\n",
       "    .dataframe thead th {\n",
       "        text-align: right;\n",
       "    }\n",
       "</style>\n",
       "<table border=\"1\" class=\"dataframe\">\n",
       "  <thead>\n",
       "    <tr style=\"text-align: right;\">\n",
       "      <th></th>\n",
       "      <th>code</th>\n",
       "      <th>vul</th>\n",
       "      <th>cwe_id</th>\n",
       "      <th>label</th>\n",
       "    </tr>\n",
       "  </thead>\n",
       "  <tbody>\n",
       "    <tr>\n",
       "      <th>0</th>\n",
       "      <td>static bool check_rodc_critical_attribute(stru...</td>\n",
       "      <td>0</td>\n",
       "      <td>non-vulnerable</td>\n",
       "      <td>0</td>\n",
       "    </tr>\n",
       "    <tr>\n",
       "      <th>1</th>\n",
       "      <td>static int samldb_add_entry(struct samldb_ctx ...</td>\n",
       "      <td>0</td>\n",
       "      <td>non-vulnerable</td>\n",
       "      <td>0</td>\n",
       "    </tr>\n",
       "    <tr>\n",
       "      <th>2</th>\n",
       "      <td>static int samldb_add_entry_callback(struct ld...</td>\n",
       "      <td>0</td>\n",
       "      <td>non-vulnerable</td>\n",
       "      <td>0</td>\n",
       "    </tr>\n",
       "    <tr>\n",
       "      <th>3</th>\n",
       "      <td>static int samldb_add_handle_msDS_IntId(struct...</td>\n",
       "      <td>0</td>\n",
       "      <td>non-vulnerable</td>\n",
       "      <td>0</td>\n",
       "    </tr>\n",
       "    <tr>\n",
       "      <th>4</th>\n",
       "      <td>static int samldb_add_step(struct samldb_ctx *...</td>\n",
       "      <td>0</td>\n",
       "      <td>non-vulnerable</td>\n",
       "      <td>0</td>\n",
       "    </tr>\n",
       "  </tbody>\n",
       "</table>\n",
       "</div>"
      ],
      "text/plain": [
       "                                                code  vul          cwe_id  \\\n",
       "0  static bool check_rodc_critical_attribute(stru...    0  non-vulnerable   \n",
       "1  static int samldb_add_entry(struct samldb_ctx ...    0  non-vulnerable   \n",
       "2  static int samldb_add_entry_callback(struct ld...    0  non-vulnerable   \n",
       "3  static int samldb_add_handle_msDS_IntId(struct...    0  non-vulnerable   \n",
       "4  static int samldb_add_step(struct samldb_ctx *...    0  non-vulnerable   \n",
       "\n",
       "   label  \n",
       "0      0  \n",
       "1      0  \n",
       "2      0  \n",
       "3      0  \n",
       "4      0  "
      ]
     },
     "execution_count": 26,
     "metadata": {},
     "output_type": "execute_result"
    }
   ],
   "source": [
    "# add new column based on dictionary values\n",
    "msr_df['label'] = msr_df['cwe_id'].apply(lambda x: total_cwe_dict.get(x))\n",
    "\n",
    "msr_pre_df = msr_df[['func_before', 'vul', 'cwe_id','label']]\n",
    "msr_pre_df = msr_pre_df.rename(columns={'func_before':'code'})\n",
    "msr_pre_df.head(5)"
   ]
  },
  {
   "cell_type": "code",
   "execution_count": 27,
   "id": "b3575481",
   "metadata": {},
   "outputs": [
    {
     "name": "stdout",
     "output_type": "stream",
     "text": [
      "All vul and label are matched correctly\n"
     ]
    }
   ],
   "source": [
    "check_match_vul_and_label(mvd_pre_df)"
   ]
  },
  {
   "cell_type": "code",
   "execution_count": 28,
   "id": "3aefd00b",
   "metadata": {},
   "outputs": [
    {
     "name": "stdout",
     "output_type": "stream",
     "text": [
      "All vul and label are matched correctly\n"
     ]
    }
   ],
   "source": [
    "check_match_vul_and_label(mvd_pre_df)"
   ]
  },
  {
   "cell_type": "code",
   "execution_count": 29,
   "id": "d81f1be0",
   "metadata": {},
   "outputs": [],
   "source": [
    "# save it \n",
    "# concatenated_df.to_csv('preprocessed datasets/mvd_msr.csv')\n",
    "\n",
    "msr_pre_df.to_csv('preprocessed_datasets/MSR_labeled.csv')\n",
    "mvd_pre_df.to_csv('preprocessed_datasets/MVD_labeled.csv')"
   ]
  }
 ],
 "metadata": {
  "kernelspec": {
   "display_name": "Python 3 (ipykernel)",
   "language": "python",
   "name": "python3"
  },
  "language_info": {
   "codemirror_mode": {
    "name": "ipython",
    "version": 3
   },
   "file_extension": ".py",
   "mimetype": "text/x-python",
   "name": "python",
   "nbconvert_exporter": "python",
   "pygments_lexer": "ipython3",
   "version": "3.9.16"
  }
 },
 "nbformat": 4,
 "nbformat_minor": 5
}
