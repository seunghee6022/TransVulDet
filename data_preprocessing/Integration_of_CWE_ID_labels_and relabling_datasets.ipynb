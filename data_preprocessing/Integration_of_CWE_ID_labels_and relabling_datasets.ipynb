{
 "cells": [
  {
   "cell_type": "markdown",
   "id": "fd4de5d6",
   "metadata": {},
   "source": [
    "# Integration of CWE ID labels\n",
    "* Generate new cwe_id label which integrate the cwe id labels of all three dataset"
   ]
  },
  {
   "cell_type": "code",
   "execution_count": 47,
   "id": "7dce1e6b",
   "metadata": {},
   "outputs": [],
   "source": [
    "import numpy as np\n",
    "import pandas as pd\n",
    "import os"
   ]
  },
  {
   "cell_type": "code",
   "execution_count": 48,
   "id": "f027a49d",
   "metadata": {},
   "outputs": [
    {
     "name": "stdout",
     "output_type": "stream",
     "text": [
      "/home/user/TransVulDet/data_preprocessing\n"
     ]
    }
   ],
   "source": [
    "print(os.getcwd())\n",
    "data_path = '../datasets_'"
   ]
  },
  {
   "cell_type": "code",
   "execution_count": 49,
   "id": "36c584f7",
   "metadata": {},
   "outputs": [],
   "source": [
    "def concat_to_df(df):\n",
    "    df_temp = []\n",
    "    for chunk in df:\n",
    "        df_temp.append(chunk)\n",
    "\n",
    "    df = pd.concat(df_temp,ignore_index = True)\n",
    "    return df"
   ]
  },
  {
   "cell_type": "code",
   "execution_count": 50,
   "id": "0a1a07b7",
   "metadata": {},
   "outputs": [],
   "source": [
    "\n",
    "msr_df = pd.read_csv(f'{data_path}/MSR.csv', chunksize=10000, index_col=0)"
   ]
  },
  {
   "cell_type": "code",
   "execution_count": 51,
   "id": "83dbd901",
   "metadata": {},
   "outputs": [],
   "source": [
    "mvd_df = pd.read_csv(f'{data_path}/MVD.csv', chunksize=10000, index_col=0)"
   ]
  },
  {
   "cell_type": "code",
   "execution_count": 52,
   "id": "ef6d8d10",
   "metadata": {},
   "outputs": [],
   "source": [
    "cfd_df = pd.read_csv('CVEfixes/CFD_cwe_id.csv', index_col=0)"
   ]
  },
  {
   "cell_type": "code",
   "execution_count": 53,
   "id": "4cd3ed8f",
   "metadata": {},
   "outputs": [
    {
     "name": "stdout",
     "output_type": "stream",
     "text": [
      "(145743, 3)\n"
     ]
    },
    {
     "data": {
      "text/html": [
       "<div>\n",
       "<style scoped>\n",
       "    .dataframe tbody tr th:only-of-type {\n",
       "        vertical-align: middle;\n",
       "    }\n",
       "\n",
       "    .dataframe tbody tr th {\n",
       "        vertical-align: top;\n",
       "    }\n",
       "\n",
       "    .dataframe thead th {\n",
       "        text-align: right;\n",
       "    }\n",
       "</style>\n",
       "<table border=\"1\" class=\"dataframe\">\n",
       "  <thead>\n",
       "    <tr style=\"text-align: right;\">\n",
       "      <th></th>\n",
       "      <th>code</th>\n",
       "      <th>cwe_id</th>\n",
       "      <th>vul</th>\n",
       "    </tr>\n",
       "  </thead>\n",
       "  <tbody>\n",
       "    <tr>\n",
       "      <th>0</th>\n",
       "      <td>static PHP_FUNCTION(preg_match)\\n{\\n\\tphp_do_p...</td>\n",
       "      <td>119</td>\n",
       "      <td>0</td>\n",
       "    </tr>\n",
       "    <tr>\n",
       "      <th>1</th>\n",
       "      <td>static PHP_FUNCTION(preg_match_all)\\n{\\n\\tphp_...</td>\n",
       "      <td>119</td>\n",
       "      <td>0</td>\n",
       "    </tr>\n",
       "    <tr>\n",
       "      <th>2</th>\n",
       "      <td>static PHP_FUNCTION(preg_replace)\\n{\\n\\tpreg_r...</td>\n",
       "      <td>119</td>\n",
       "      <td>0</td>\n",
       "    </tr>\n",
       "    <tr>\n",
       "      <th>3</th>\n",
       "      <td>static PHP_FUNCTION(preg_replace_callback)\\n{\\...</td>\n",
       "      <td>119</td>\n",
       "      <td>0</td>\n",
       "    </tr>\n",
       "    <tr>\n",
       "      <th>4</th>\n",
       "      <td>static PHP_FUNCTION(preg_filter)\\n{\\n\\tpreg_re...</td>\n",
       "      <td>119</td>\n",
       "      <td>0</td>\n",
       "    </tr>\n",
       "  </tbody>\n",
       "</table>\n",
       "</div>"
      ],
      "text/plain": [
       "                                                code  cwe_id  vul\n",
       "0  static PHP_FUNCTION(preg_match)\\n{\\n\\tphp_do_p...     119    0\n",
       "1  static PHP_FUNCTION(preg_match_all)\\n{\\n\\tphp_...     119    0\n",
       "2  static PHP_FUNCTION(preg_replace)\\n{\\n\\tpreg_r...     119    0\n",
       "3  static PHP_FUNCTION(preg_replace_callback)\\n{\\...     119    0\n",
       "4  static PHP_FUNCTION(preg_filter)\\n{\\n\\tpreg_re...     119    0"
      ]
     },
     "execution_count": 53,
     "metadata": {},
     "output_type": "execute_result"
    }
   ],
   "source": [
    "msr_df = concat_to_df(msr_df)\n",
    "print(msr_df.shape)\n",
    "msr_df.head(5)"
   ]
  },
  {
   "cell_type": "code",
   "execution_count": 54,
   "id": "29808a97",
   "metadata": {},
   "outputs": [
    {
     "name": "stdout",
     "output_type": "stream",
     "text": [
      "(178865, 3)\n"
     ]
    },
    {
     "data": {
      "text/html": [
       "<div>\n",
       "<style scoped>\n",
       "    .dataframe tbody tr th:only-of-type {\n",
       "        vertical-align: middle;\n",
       "    }\n",
       "\n",
       "    .dataframe tbody tr th {\n",
       "        vertical-align: top;\n",
       "    }\n",
       "\n",
       "    .dataframe thead th {\n",
       "        text-align: right;\n",
       "    }\n",
       "</style>\n",
       "<table border=\"1\" class=\"dataframe\">\n",
       "  <thead>\n",
       "    <tr style=\"text-align: right;\">\n",
       "      <th></th>\n",
       "      <th>code</th>\n",
       "      <th>cwe_id</th>\n",
       "      <th>vul</th>\n",
       "    </tr>\n",
       "  </thead>\n",
       "  <tbody>\n",
       "    <tr>\n",
       "      <th>0</th>\n",
       "      <td>const char *svn_relpath__internal_style(const ...</td>\n",
       "      <td>0</td>\n",
       "      <td>0</td>\n",
       "    </tr>\n",
       "    <tr>\n",
       "      <th>1</th>\n",
       "      <td>static void goodG2B() 64\\nchar * data ; 66\\nch...</td>\n",
       "      <td>0</td>\n",
       "      <td>0</td>\n",
       "    </tr>\n",
       "    <tr>\n",
       "      <th>2</th>\n",
       "      <td>static void goodB2G2() 289\\nwchar_t * password...</td>\n",
       "      <td>0</td>\n",
       "      <td>0</td>\n",
       "    </tr>\n",
       "    <tr>\n",
       "      <th>3</th>\n",
       "      <td>int avformat_open_input(AVFormatContext **ps,c...</td>\n",
       "      <td>0</td>\n",
       "      <td>0</td>\n",
       "    </tr>\n",
       "    <tr>\n",
       "      <th>4</th>\n",
       "      <td>void CWE319_Cleartext_Tx_Sensitive_Info__w32_w...</td>\n",
       "      <td>311</td>\n",
       "      <td>1</td>\n",
       "    </tr>\n",
       "  </tbody>\n",
       "</table>\n",
       "</div>"
      ],
      "text/plain": [
       "                                                code  cwe_id  vul\n",
       "0  const char *svn_relpath__internal_style(const ...       0    0\n",
       "1  static void goodG2B() 64\\nchar * data ; 66\\nch...       0    0\n",
       "2  static void goodB2G2() 289\\nwchar_t * password...       0    0\n",
       "3  int avformat_open_input(AVFormatContext **ps,c...       0    0\n",
       "4  void CWE319_Cleartext_Tx_Sensitive_Info__w32_w...     311    1"
      ]
     },
     "execution_count": 54,
     "metadata": {},
     "output_type": "execute_result"
    }
   ],
   "source": [
    "mvd_df = concat_to_df(mvd_df)\n",
    "print(mvd_df.shape)\n",
    "mvd_df.head(5)"
   ]
  },
  {
   "cell_type": "code",
   "execution_count": 55,
   "id": "157da01f",
   "metadata": {},
   "outputs": [
    {
     "name": "stdout",
     "output_type": "stream",
     "text": [
      "7909\n"
     ]
    },
    {
     "data": {
      "text/html": [
       "<div>\n",
       "<style scoped>\n",
       "    .dataframe tbody tr th:only-of-type {\n",
       "        vertical-align: middle;\n",
       "    }\n",
       "\n",
       "    .dataframe tbody tr th {\n",
       "        vertical-align: top;\n",
       "    }\n",
       "\n",
       "    .dataframe thead th {\n",
       "        text-align: right;\n",
       "    }\n",
       "</style>\n",
       "<table border=\"1\" class=\"dataframe\">\n",
       "  <thead>\n",
       "    <tr style=\"text-align: right;\">\n",
       "      <th></th>\n",
       "      <th>cwe_id</th>\n",
       "    </tr>\n",
       "  </thead>\n",
       "  <tbody>\n",
       "    <tr>\n",
       "      <th>0</th>\n",
       "      <td>CWE-252</td>\n",
       "    </tr>\n",
       "    <tr>\n",
       "      <th>1</th>\n",
       "      <td>NVD-CWE-Other</td>\n",
       "    </tr>\n",
       "    <tr>\n",
       "      <th>2</th>\n",
       "      <td>CWE-20</td>\n",
       "    </tr>\n",
       "    <tr>\n",
       "      <th>3</th>\n",
       "      <td>CWE-119</td>\n",
       "    </tr>\n",
       "    <tr>\n",
       "      <th>4</th>\n",
       "      <td>CWE-19</td>\n",
       "    </tr>\n",
       "  </tbody>\n",
       "</table>\n",
       "</div>"
      ],
      "text/plain": [
       "          cwe_id\n",
       "0        CWE-252\n",
       "1  NVD-CWE-Other\n",
       "2         CWE-20\n",
       "3        CWE-119\n",
       "4         CWE-19"
      ]
     },
     "execution_count": 55,
     "metadata": {},
     "output_type": "execute_result"
    }
   ],
   "source": [
    "print(cfd_df.size)\n",
    "cfd_df.head(5)"
   ]
  },
  {
   "cell_type": "markdown",
   "id": "862b191c",
   "metadata": {},
   "source": [
    "### Check overlapped dataset"
   ]
  },
  {
   "cell_type": "code",
   "execution_count": 56,
   "id": "10be8005",
   "metadata": {},
   "outputs": [],
   "source": [
    "def normalize_cwe(cwe_list):\n",
    "    normalized_cwe_list = []\n",
    "    for cwe in cwe_list:\n",
    "        #split the CWEs that contain multiple entries\n",
    "        multiple_cwe = cwe.split(',')\n",
    "        for single_cwe in multiple_cwe:\n",
    "            single_cwe = single_cwe.strip() #remove leading/trailing whitespaces\n",
    "            if '-' in single_cwe:\n",
    "                cwe_prefix, cwe_number = single_cwe.split('-')\n",
    "                # remove leading zeroes\n",
    "                cwe_number = str(int(cwe_number))\n",
    "                normalized_cwe = cwe_prefix + '-' + cwe_number\n",
    "            else:\n",
    "                normalized_cwe = single_cwe\n",
    "            normalized_cwe_list.append(normalized_cwe)\n",
    "    return list(set(normalized_cwe_list))"
   ]
  },
  {
   "cell_type": "code",
   "execution_count": 57,
   "id": "26a42cf2",
   "metadata": {},
   "outputs": [
    {
     "name": "stdout",
     "output_type": "stream",
     "text": [
      "78\n"
     ]
    },
    {
     "data": {
      "text/plain": [
       "array([ 119,  200,    0,   20,  416,  835,  125,  347,  190,   94,  362,\n",
       "        704,  354,   78,   59,  269,  617,  476,  787,  754,  502,   22,\n",
       "        665,  772,  290,  400,  369,  284,   93,  415,  674,  311,  330,\n",
       "        327,   77,  134,  732,  287,   89,  285,   74,   79,  404,  862,\n",
       "        834,  494,  755,  129,  191,  682,  522,  918,  358,  295,  770,\n",
       "        346,  532,  426,  824,  693,  352,  436,   90,  763,  120,  611,\n",
       "        601,  706,  281, 1021,  668,  664,  172,  909,  209,  345,  331,\n",
       "        252])"
      ]
     },
     "execution_count": 57,
     "metadata": {},
     "output_type": "execute_result"
    }
   ],
   "source": [
    "msr_cwe_list = msr_df['cwe_id'].unique().tolist()\n",
    "print(len(msr_cwe_list))\n",
    "msr_df['cwe_id'].unique()"
   ]
  },
  {
   "cell_type": "code",
   "execution_count": 58,
   "id": "0e02a4dd",
   "metadata": {
    "scrolled": true
   },
   "outputs": [
    {
     "name": "stdout",
     "output_type": "stream",
     "text": [
      "34\n"
     ]
    },
    {
     "data": {
      "text/plain": [
       "array([  0, 311, 706, 704, 666, 119, 404, 400, 369,  74, 506, 362, 662,\n",
       "       476,  20, 758, 327, 668, 190, 467, 170, 676, 187, 670, 573, 191,\n",
       "       754, 221, 610, 469, 665, 138, 834, 673])"
      ]
     },
     "execution_count": 58,
     "metadata": {},
     "output_type": "execute_result"
    }
   ],
   "source": [
    "mvd_cwe_list = mvd_df['cwe_id'].unique().tolist()\n",
    "print(len(mvd_cwe_list))\n",
    "mvd_df['cwe_id'].unique()"
   ]
  },
  {
   "cell_type": "code",
   "execution_count": 59,
   "id": "ea9ea277",
   "metadata": {},
   "outputs": [
    {
     "name": "stdout",
     "output_type": "stream",
     "text": [
      "209\n",
      "207\n",
      "[252, 20, 119, 19, 94, 255, 189, 79, 264, 120, 399, 362, 193, 310, 200, 787, 772, 134, 22, 476, 400, 59, 89, 665, 434, 835, 190, 369, 16, 287, 78, 352, 640, 284, 330, 276, 611, 269, 275, 502, 668, 74, 77, 125, 916, 416, 732, 754, 918, 415, 17, 191, 704, 254, 203, 116, 273, 295, 763, 18, 681, 601, 426, 444, 534, 90, 617, 521, 199, 331, 93, 327, 384, 908, 345, 843, 347, 361, 320, 358, 798, 21, 335, 184, 285, 326, 388, 532, 863, 862, 346, 755, 404, 129, 674, 613, 770, 943, 354, 494, 834, 639, 311, 290, 121, 1188, 338, 522, 682, 1187, 667, 774, 470, 91, 1236, 824, 307, 88, 113, 425, 185, 401, 471, 436, 312, 749, 178, 915, 1321, 670, 306, 672, 776, 1021, 909, 209, 838, 427, 459, 131, 319, 684, 697, 707, 114, 350, 212, 706, 281, 552, 208, 669, 297, 428, 73, 441, 250, 122, 117, 294, 80, 829, 98, 610, 87, 367, 538, 759, 378, 379, 303, 924, 305, 913, 527, 680, 565, 1333, 328, 590, 457, 359, 644, 23, 641, 277, 1336, 786, 840, 805, 788, 825, 823, 321, 922, 126, 662, 791, 279, 324, 27, 288, 475, 266, 304, 241, 248]\n"
     ]
    }
   ],
   "source": [
    "cfd_cwe_list = cfd_df['cwe_id'].unique().tolist()\n",
    "print(len(cfd_cwe_list))\n",
    "# print(cfd_df['cwe_id'].unique())\n",
    "\n",
    "cfd_df['cwe_id'] = cfd_df['cwe_id'].astype(str)\n",
    "cfd_df = cfd_df[~cfd_df['cwe_id'].str.contains('NVD-')]\n",
    "cfd_df = cfd_df[~cfd_df['cwe_id'].str.contains(',')]\n",
    "cfd_df['cwe_id'] = cfd_df['cwe_id'].str.replace('CWE-', '')\n",
    "cfd_df['cwe_id'] = cfd_df['cwe_id'].replace('non-vulnerable', 0)\n",
    "cfd_df['cwe_id'] = cfd_df['cwe_id'].astype(int)\n",
    "\n",
    "cfd_cwe_list = cfd_df['cwe_id'].unique().tolist()\n",
    "print(len(cfd_cwe_list))\n",
    "print(cfd_cwe_list)"
   ]
  },
  {
   "cell_type": "code",
   "execution_count": 67,
   "id": "f8f608c5",
   "metadata": {},
   "outputs": [
    {
     "name": "stdout",
     "output_type": "stream",
     "text": [
      "Before removing overlapped cwe ids:  319\n",
      "After removing overlapped cwe ids:  223\n",
      "After removing non existing cwe ids:  204\n",
      "[0, 20, 22, 23, 27, 59, 73, 74, 77, 78, 79, 80, 87, 88, 89, 90, 91, 93, 94, 98, 113, 114, 116, 117, 119, 120, 121, 122, 125, 126, 129, 131, 134, 138, 170, 172, 178, 184, 185, 187, 190, 191, 193, 200, 203, 208, 209, 212, 221, 241, 248, 250, 252, 266, 269, 273, 276, 277, 279, 281, 284, 285, 287, 288, 290, 294, 295, 297, 303, 304, 305, 306, 307, 311, 312, 319, 321, 324, 326, 327, 328, 330, 331, 335, 338, 345, 346, 347, 350, 352, 354, 358, 359, 362, 367, 369, 378, 379, 384, 400, 401, 404, 415, 416, 425, 426, 427, 428, 434, 436, 441, 444, 457, 459, 467, 469, 470, 471, 475, 476, 494, 502, 506, 521, 522, 527, 532, 538, 552, 565, 573, 590, 601, 610, 611, 613, 617, 639, 640, 641, 644, 662, 664, 665, 666, 667, 668, 669, 670, 672, 673, 674, 676, 680, 681, 682, 684, 693, 697, 704, 706, 707, 732, 749, 754, 755, 758, 759, 763, 770, 772, 774, 776, 786, 787, 788, 791, 798, 805, 823, 824, 825, 829, 834, 835, 838, 843, 862, 863, 908, 909, 913, 915, 916, 918, 922, 924, 943, 1021, 1188, 1236, 1321, 1333, 1336]\n"
     ]
    }
   ],
   "source": [
    "# List of non-existing CWE IDs\n",
    "non_exist_cwe_id_list = [16, 17, 18, 19, 21, 189, 199, 254, 255, 264, 275, 310, 320, 361, 388, 399, 534, 769, 840, 1187]\n",
    "\n",
    "total_cwe_id_list = msr_cwe_list + mvd_cwe_list + cfd_cwe_list\n",
    "print(\"Before removing overlapped cwe ids: \",len(total_cwe_id_list))\n",
    "total_cwe_id_list = sorted(list(set(total_cwe_id_list)))\n",
    "print(\"After removing overlapped cwe ids: \",len(total_cwe_id_list))\n",
    "# Remove values from total_cwe_id_list that exist in non_exist_cwe_id_list\n",
    "total_cwe_id_list = [cwe_id for cwe_id in total_cwe_id_list if cwe_id not in non_exist_cwe_id_list]\n",
    "print(\"After removing non existing cwe ids: \",len(total_cwe_id_list))\n",
    "print(total_cwe_id_list)"
   ]
  },
  {
   "cell_type": "code",
   "execution_count": 68,
   "id": "a34e1399",
   "metadata": {},
   "outputs": [],
   "source": [
    "import csv\n",
    "with open(\"preprocessed_datasets/total_cwe_id_list.csv\", \"w\") as file:\n",
    "    writer = csv.writer(file)\n",
    "    for item in total_cwe_id_list:\n",
    "        writer.writerow([item])"
   ]
  },
  {
   "cell_type": "code",
   "execution_count": 64,
   "id": "db6d0723",
   "metadata": {},
   "outputs": [],
   "source": [
    "# def check_match_vul_and_CWE_ID(df,cwe_id_col_name):\n",
    "#     count = 0\n",
    "#     for index, row in df.iterrows():\n",
    "#         if row['vul'] == 0 and row[cwe_id_col_name] != 'non-vulnerable':\n",
    "#             print(\"vul and CWE ID are not matched!!!!!\",row['vul'], row['cwe_id'])\n",
    "#             break\n",
    "\n",
    "#     if count==0:\n",
    "#         print(\"All vul and CWE ID are matched correctly\")\n",
    "        \n",
    "# def check_match_vul_and_label(df):\n",
    "#     count = 0\n",
    "   \n",
    "#     for index, row in df.iterrows():\n",
    "#         if row['vul'] == 0 and row['label'] != 0:\n",
    "#             print(\"vul and label are not matched!!!!!\",row['vul'], row['label'])\n",
    "#             break\n",
    "#     if count==0:\n",
    "#         print(\"All vul and label are matched correctly\")\n",
    "\n",
    "\n",
    "            "
   ]
  },
  {
   "cell_type": "code",
   "execution_count": 65,
   "id": "7373f525",
   "metadata": {},
   "outputs": [
    {
     "ename": "KeyError",
     "evalue": "'CWE ID'",
     "output_type": "error",
     "traceback": [
      "\u001b[0;31m---------------------------------------------------------------------------\u001b[0m",
      "\u001b[0;31mKeyError\u001b[0m                                  Traceback (most recent call last)",
      "File \u001b[0;32m~/.local/lib/python3.10/site-packages/pandas/core/indexes/base.py:3790\u001b[0m, in \u001b[0;36mIndex.get_loc\u001b[0;34m(self, key)\u001b[0m\n\u001b[1;32m   3789\u001b[0m \u001b[39mtry\u001b[39;00m:\n\u001b[0;32m-> 3790\u001b[0m     \u001b[39mreturn\u001b[39;00m \u001b[39mself\u001b[39;49m\u001b[39m.\u001b[39;49m_engine\u001b[39m.\u001b[39;49mget_loc(casted_key)\n\u001b[1;32m   3791\u001b[0m \u001b[39mexcept\u001b[39;00m \u001b[39mKeyError\u001b[39;00m \u001b[39mas\u001b[39;00m err:\n",
      "File \u001b[0;32mindex.pyx:152\u001b[0m, in \u001b[0;36mpandas._libs.index.IndexEngine.get_loc\u001b[0;34m()\u001b[0m\n",
      "File \u001b[0;32mindex.pyx:181\u001b[0m, in \u001b[0;36mpandas._libs.index.IndexEngine.get_loc\u001b[0;34m()\u001b[0m\n",
      "File \u001b[0;32mpandas/_libs/hashtable_class_helper.pxi:7080\u001b[0m, in \u001b[0;36mpandas._libs.hashtable.PyObjectHashTable.get_item\u001b[0;34m()\u001b[0m\n",
      "File \u001b[0;32mpandas/_libs/hashtable_class_helper.pxi:7088\u001b[0m, in \u001b[0;36mpandas._libs.hashtable.PyObjectHashTable.get_item\u001b[0;34m()\u001b[0m\n",
      "\u001b[0;31mKeyError\u001b[0m: 'CWE ID'",
      "\nThe above exception was the direct cause of the following exception:\n",
      "\u001b[0;31mKeyError\u001b[0m                                  Traceback (most recent call last)",
      "Cell \u001b[0;32mIn[65], line 1\u001b[0m\n\u001b[0;32m----> 1\u001b[0m check_match_vul_and_CWE_ID(msr_df,\u001b[39m'\u001b[39;49m\u001b[39mcwe_id\u001b[39;49m\u001b[39m'\u001b[39;49m)\n",
      "Cell \u001b[0;32mIn[64], line 5\u001b[0m, in \u001b[0;36mcheck_match_vul_and_CWE_ID\u001b[0;34m(df, cwe_id_col_name)\u001b[0m\n\u001b[1;32m      3\u001b[0m \u001b[39mfor\u001b[39;00m index, row \u001b[39min\u001b[39;00m df\u001b[39m.\u001b[39miterrows():\n\u001b[1;32m      4\u001b[0m     \u001b[39mif\u001b[39;00m row[\u001b[39m'\u001b[39m\u001b[39mvul\u001b[39m\u001b[39m'\u001b[39m] \u001b[39m==\u001b[39m \u001b[39m0\u001b[39m \u001b[39mand\u001b[39;00m row[cwe_id_col_name] \u001b[39m!=\u001b[39m \u001b[39m'\u001b[39m\u001b[39mnon-vulnerable\u001b[39m\u001b[39m'\u001b[39m:\n\u001b[0;32m----> 5\u001b[0m         \u001b[39mprint\u001b[39m(\u001b[39m\"\u001b[39m\u001b[39mvul and CWE ID are not matched!!!!!\u001b[39m\u001b[39m\"\u001b[39m,row[\u001b[39m'\u001b[39m\u001b[39mvul\u001b[39m\u001b[39m'\u001b[39m], row[\u001b[39m'\u001b[39;49m\u001b[39mCWE ID\u001b[39;49m\u001b[39m'\u001b[39;49m])\n\u001b[1;32m      6\u001b[0m         \u001b[39mbreak\u001b[39;00m\n\u001b[1;32m      8\u001b[0m \u001b[39mif\u001b[39;00m count\u001b[39m==\u001b[39m\u001b[39m0\u001b[39m:\n",
      "File \u001b[0;32m~/.local/lib/python3.10/site-packages/pandas/core/series.py:1040\u001b[0m, in \u001b[0;36mSeries.__getitem__\u001b[0;34m(self, key)\u001b[0m\n\u001b[1;32m   1037\u001b[0m     \u001b[39mreturn\u001b[39;00m \u001b[39mself\u001b[39m\u001b[39m.\u001b[39m_values[key]\n\u001b[1;32m   1039\u001b[0m \u001b[39melif\u001b[39;00m key_is_scalar:\n\u001b[0;32m-> 1040\u001b[0m     \u001b[39mreturn\u001b[39;00m \u001b[39mself\u001b[39;49m\u001b[39m.\u001b[39;49m_get_value(key)\n\u001b[1;32m   1042\u001b[0m \u001b[39m# Convert generator to list before going through hashable part\u001b[39;00m\n\u001b[1;32m   1043\u001b[0m \u001b[39m# (We will iterate through the generator there to check for slices)\u001b[39;00m\n\u001b[1;32m   1044\u001b[0m \u001b[39mif\u001b[39;00m is_iterator(key):\n",
      "File \u001b[0;32m~/.local/lib/python3.10/site-packages/pandas/core/series.py:1156\u001b[0m, in \u001b[0;36mSeries._get_value\u001b[0;34m(self, label, takeable)\u001b[0m\n\u001b[1;32m   1153\u001b[0m     \u001b[39mreturn\u001b[39;00m \u001b[39mself\u001b[39m\u001b[39m.\u001b[39m_values[label]\n\u001b[1;32m   1155\u001b[0m \u001b[39m# Similar to Index.get_value, but we do not fall back to positional\u001b[39;00m\n\u001b[0;32m-> 1156\u001b[0m loc \u001b[39m=\u001b[39m \u001b[39mself\u001b[39;49m\u001b[39m.\u001b[39;49mindex\u001b[39m.\u001b[39;49mget_loc(label)\n\u001b[1;32m   1158\u001b[0m \u001b[39mif\u001b[39;00m is_integer(loc):\n\u001b[1;32m   1159\u001b[0m     \u001b[39mreturn\u001b[39;00m \u001b[39mself\u001b[39m\u001b[39m.\u001b[39m_values[loc]\n",
      "File \u001b[0;32m~/.local/lib/python3.10/site-packages/pandas/core/indexes/base.py:3797\u001b[0m, in \u001b[0;36mIndex.get_loc\u001b[0;34m(self, key)\u001b[0m\n\u001b[1;32m   3792\u001b[0m     \u001b[39mif\u001b[39;00m \u001b[39misinstance\u001b[39m(casted_key, \u001b[39mslice\u001b[39m) \u001b[39mor\u001b[39;00m (\n\u001b[1;32m   3793\u001b[0m         \u001b[39misinstance\u001b[39m(casted_key, abc\u001b[39m.\u001b[39mIterable)\n\u001b[1;32m   3794\u001b[0m         \u001b[39mand\u001b[39;00m \u001b[39many\u001b[39m(\u001b[39misinstance\u001b[39m(x, \u001b[39mslice\u001b[39m) \u001b[39mfor\u001b[39;00m x \u001b[39min\u001b[39;00m casted_key)\n\u001b[1;32m   3795\u001b[0m     ):\n\u001b[1;32m   3796\u001b[0m         \u001b[39mraise\u001b[39;00m InvalidIndexError(key)\n\u001b[0;32m-> 3797\u001b[0m     \u001b[39mraise\u001b[39;00m \u001b[39mKeyError\u001b[39;00m(key) \u001b[39mfrom\u001b[39;00m \u001b[39merr\u001b[39;00m\n\u001b[1;32m   3798\u001b[0m \u001b[39mexcept\u001b[39;00m \u001b[39mTypeError\u001b[39;00m:\n\u001b[1;32m   3799\u001b[0m     \u001b[39m# If we have a listlike key, _check_indexing_error will raise\u001b[39;00m\n\u001b[1;32m   3800\u001b[0m     \u001b[39m#  InvalidIndexError. Otherwise we fall through and re-raise\u001b[39;00m\n\u001b[1;32m   3801\u001b[0m     \u001b[39m#  the TypeError.\u001b[39;00m\n\u001b[1;32m   3802\u001b[0m     \u001b[39mself\u001b[39m\u001b[39m.\u001b[39m_check_indexing_error(key)\n",
      "\u001b[0;31mKeyError\u001b[0m: 'CWE ID'"
     ]
    }
   ],
   "source": [
    "# check_match_vul_and_CWE_ID(msr_df,'cwe_id')"
   ]
  },
  {
   "cell_type": "code",
   "execution_count": null,
   "id": "dda6069e",
   "metadata": {},
   "outputs": [
    {
     "name": "stdout",
     "output_type": "stream",
     "text": [
      "All vul and CWE ID are matched correctly\n"
     ]
    }
   ],
   "source": [
    "# check_match_vul_and_CWE_ID(mvd_df,'cwe_id')"
   ]
  },
  {
   "cell_type": "code",
   "execution_count": null,
   "id": "ff7f267a",
   "metadata": {},
   "outputs": [
    {
     "data": {
      "text/html": [
       "<div>\n",
       "<style scoped>\n",
       "    .dataframe tbody tr th:only-of-type {\n",
       "        vertical-align: middle;\n",
       "    }\n",
       "\n",
       "    .dataframe tbody tr th {\n",
       "        vertical-align: top;\n",
       "    }\n",
       "\n",
       "    .dataframe thead th {\n",
       "        text-align: right;\n",
       "    }\n",
       "</style>\n",
       "<table border=\"1\" class=\"dataframe\">\n",
       "  <thead>\n",
       "    <tr style=\"text-align: right;\">\n",
       "      <th></th>\n",
       "      <th>code</th>\n",
       "      <th>vul</th>\n",
       "      <th>cwe_id</th>\n",
       "      <th>label</th>\n",
       "    </tr>\n",
       "  </thead>\n",
       "  <tbody>\n",
       "    <tr>\n",
       "      <th>0</th>\n",
       "      <td>const char *svn_relpath__internal_style(const ...</td>\n",
       "      <td>0</td>\n",
       "      <td>non-vulnerable</td>\n",
       "      <td>0</td>\n",
       "    </tr>\n",
       "    <tr>\n",
       "      <th>1</th>\n",
       "      <td>static void goodG2B() 64\\nchar * data ; 66\\nch...</td>\n",
       "      <td>0</td>\n",
       "      <td>non-vulnerable</td>\n",
       "      <td>0</td>\n",
       "    </tr>\n",
       "    <tr>\n",
       "      <th>2</th>\n",
       "      <td>static void goodB2G2() 289\\nwchar_t * password...</td>\n",
       "      <td>0</td>\n",
       "      <td>non-vulnerable</td>\n",
       "      <td>0</td>\n",
       "    </tr>\n",
       "    <tr>\n",
       "      <th>3</th>\n",
       "      <td>int avformat_open_input(AVFormatContext **ps,c...</td>\n",
       "      <td>0</td>\n",
       "      <td>non-vulnerable</td>\n",
       "      <td>0</td>\n",
       "    </tr>\n",
       "    <tr>\n",
       "      <th>4</th>\n",
       "      <td>void CWE319_Cleartext_Tx_Sensitive_Info__w32_w...</td>\n",
       "      <td>1</td>\n",
       "      <td>CWE-311</td>\n",
       "      <td>86</td>\n",
       "    </tr>\n",
       "  </tbody>\n",
       "</table>\n",
       "</div>"
      ],
      "text/plain": [
       "                                                code  vul          cwe_id  \\\n",
       "0  const char *svn_relpath__internal_style(const ...    0  non-vulnerable   \n",
       "1  static void goodG2B() 64\\nchar * data ; 66\\nch...    0  non-vulnerable   \n",
       "2  static void goodB2G2() 289\\nwchar_t * password...    0  non-vulnerable   \n",
       "3  int avformat_open_input(AVFormatContext **ps,c...    0  non-vulnerable   \n",
       "4  void CWE319_Cleartext_Tx_Sensitive_Info__w32_w...    1         CWE-311   \n",
       "\n",
       "   label  \n",
       "0      0  \n",
       "1      0  \n",
       "2      0  \n",
       "3      0  \n",
       "4     86  "
      ]
     },
     "execution_count": 23,
     "metadata": {},
     "output_type": "execute_result"
    }
   ],
   "source": [
    "# # add new column based on dictionary values\n",
    "# mvd_df['label'] = mvd_df['cwe_id'].apply(lambda x: total_cwe_dict.get(x))\n",
    "\n",
    "# mvd_pre_df = mvd_df[['code', 'vul', 'cwe_id','label']]\n",
    "# mvd_pre_df.head(5)"
   ]
  },
  {
   "cell_type": "code",
   "execution_count": null,
   "id": "5964d845",
   "metadata": {},
   "outputs": [
    {
     "data": {
      "text/html": [
       "<div>\n",
       "<style scoped>\n",
       "    .dataframe tbody tr th:only-of-type {\n",
       "        vertical-align: middle;\n",
       "    }\n",
       "\n",
       "    .dataframe tbody tr th {\n",
       "        vertical-align: top;\n",
       "    }\n",
       "\n",
       "    .dataframe thead th {\n",
       "        text-align: right;\n",
       "    }\n",
       "</style>\n",
       "<table border=\"1\" class=\"dataframe\">\n",
       "  <thead>\n",
       "    <tr style=\"text-align: right;\">\n",
       "      <th></th>\n",
       "      <th>code</th>\n",
       "      <th>vul</th>\n",
       "      <th>cwe_id</th>\n",
       "      <th>label</th>\n",
       "    </tr>\n",
       "  </thead>\n",
       "  <tbody>\n",
       "    <tr>\n",
       "      <th>0</th>\n",
       "      <td>static bool check_rodc_critical_attribute(stru...</td>\n",
       "      <td>0</td>\n",
       "      <td>non-vulnerable</td>\n",
       "      <td>0</td>\n",
       "    </tr>\n",
       "    <tr>\n",
       "      <th>1</th>\n",
       "      <td>static int samldb_add_entry(struct samldb_ctx ...</td>\n",
       "      <td>0</td>\n",
       "      <td>non-vulnerable</td>\n",
       "      <td>0</td>\n",
       "    </tr>\n",
       "    <tr>\n",
       "      <th>2</th>\n",
       "      <td>static int samldb_add_entry_callback(struct ld...</td>\n",
       "      <td>0</td>\n",
       "      <td>non-vulnerable</td>\n",
       "      <td>0</td>\n",
       "    </tr>\n",
       "    <tr>\n",
       "      <th>3</th>\n",
       "      <td>static int samldb_add_handle_msDS_IntId(struct...</td>\n",
       "      <td>0</td>\n",
       "      <td>non-vulnerable</td>\n",
       "      <td>0</td>\n",
       "    </tr>\n",
       "    <tr>\n",
       "      <th>4</th>\n",
       "      <td>static int samldb_add_step(struct samldb_ctx *...</td>\n",
       "      <td>0</td>\n",
       "      <td>non-vulnerable</td>\n",
       "      <td>0</td>\n",
       "    </tr>\n",
       "  </tbody>\n",
       "</table>\n",
       "</div>"
      ],
      "text/plain": [
       "                                                code  vul          cwe_id  \\\n",
       "0  static bool check_rodc_critical_attribute(stru...    0  non-vulnerable   \n",
       "1  static int samldb_add_entry(struct samldb_ctx ...    0  non-vulnerable   \n",
       "2  static int samldb_add_entry_callback(struct ld...    0  non-vulnerable   \n",
       "3  static int samldb_add_handle_msDS_IntId(struct...    0  non-vulnerable   \n",
       "4  static int samldb_add_step(struct samldb_ctx *...    0  non-vulnerable   \n",
       "\n",
       "   label  \n",
       "0      0  \n",
       "1      0  \n",
       "2      0  \n",
       "3      0  \n",
       "4      0  "
      ]
     },
     "execution_count": 26,
     "metadata": {},
     "output_type": "execute_result"
    }
   ],
   "source": [
    "# # add new column based on dictionary values\n",
    "# msr_df['label'] = msr_df['cwe_id'].apply(lambda x: total_cwe_dict.get(x))\n",
    "\n",
    "# msr_pre_df = msr_df[['func_before', 'vul', 'cwe_id','label']]\n",
    "# msr_pre_df = msr_pre_df.rename(columns={'func_before':'code'})\n",
    "# msr_pre_df.head(5)"
   ]
  },
  {
   "cell_type": "code",
   "execution_count": null,
   "id": "4711e18c",
   "metadata": {},
   "outputs": [
    {
     "name": "stdout",
     "output_type": "stream",
     "text": [
      "All vul and label are matched correctly\n"
     ]
    }
   ],
   "source": [
    "# check_match_vul_and_label(mvd_pre_df)"
   ]
  },
  {
   "cell_type": "code",
   "execution_count": null,
   "id": "1125659d",
   "metadata": {},
   "outputs": [
    {
     "name": "stdout",
     "output_type": "stream",
     "text": [
      "All vul and label are matched correctly\n"
     ]
    }
   ],
   "source": [
    "# check_match_vul_and_label(mvd_pre_df)"
   ]
  },
  {
   "cell_type": "code",
   "execution_count": null,
   "id": "2b4d613e",
   "metadata": {},
   "outputs": [],
   "source": [
    "# # save it \n",
    "# # concatenated_df.to_csv('preprocessed datasets/mvd_msr.csv')\n",
    "\n",
    "# msr_pre_df.to_csv('preprocessed_datasets/MSR_labeled.csv')\n",
    "# mvd_pre_df.to_csv('preprocessed_datasets/MVD_labeled.csv')"
   ]
  }
 ],
 "metadata": {
  "kernelspec": {
   "display_name": "Python 3 (ipykernel)",
   "language": "python",
   "name": "python3"
  },
  "language_info": {
   "codemirror_mode": {
    "name": "ipython",
    "version": 3
   },
   "file_extension": ".py",
   "mimetype": "text/x-python",
   "name": "python",
   "nbconvert_exporter": "python",
   "pygments_lexer": "ipython3",
   "version": "3.10.12"
  }
 },
 "nbformat": 4,
 "nbformat_minor": 5
}
