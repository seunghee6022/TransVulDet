{
 "cells": [
  {
   "cell_type": "markdown",
   "metadata": {},
   "source": [
    "# Big-Vul dataset \n",
    "\n",
    "> Mining Software Repositories(MSR) Dataset\n",
    "\n",
    "### Abstract\n",
    "\n",
    "We collected a large C/C++ code vulnerability dataset from open-source Github projects, namely __Big-Vul__. We crawled the public Common Vulnerabilities and Exposures (CVE) database and CVE-related source code repositories. Specifically, we collected the descriptive information of the vulnerabilities from the CVE database, e.g., CVE IDs, CVE severity scores, and CVE summaries. With the CVE information and its related published Github code repository links, we downloaded all of the code repositories and extracted vulnerability related code changes. In total, Big-Vul contains 3,754 code vulnerabilities spanning 91 different vulnerability types. All these code vulnerabilities are extracted from 348 Github projects. All information is stored in the CSV format. We linked the code changes with the CVE descriptive information. Thus, our Big-Vul can be used for various research topics, e.g., detecting and fixing vulnerabilities, analyzing the vulnerability related code changes. Big-Vul is publicly available on Github. \n",
    "\n",
    "\n",
    "In page 510,\n",
    "\n",
    "\"We identified 4,432 code commits relevant to the vulnerabilities\n",
    "spanning __91 CWE types__. For a given vulnerable function with the\n",
    "related commits, we kept the vulnerable version of the function and\n",
    "its code changes for fixing the vulnerability In total, we obtained\n",
    "8,143 modified files, __11,823 vulnerable functions__, and 253,096 non-\n",
    "vulnerable functions in our Big-Vul.\"\n",
    "\n",
    "\n",
    "https://researchwith.njit.edu/en/publications/a-cc-code-vulnerability-dataset-with-code-changes-and-cve-summari\n",
    "https://github.com/ZeoVan/MSR_20_Code_vulnerability_CSV_Dataset"
   ]
  },
  {
   "cell_type": "code",
   "execution_count": 31,
   "metadata": {},
   "outputs": [],
   "source": [
    "import numpy as np\n",
    "import pandas as pd\n",
    "import matplotlib.pyplot as plt"
   ]
  },
  {
   "cell_type": "code",
   "execution_count": 32,
   "metadata": {},
   "outputs": [],
   "source": [
    "df_chunk = pd.read_csv('Bigvul/MSR_data_cleaned.csv', chunksize=10000)"
   ]
  },
  {
   "cell_type": "code",
   "execution_count": 33,
   "metadata": {},
   "outputs": [],
   "source": [
    "df_temp = []\n",
    "for chunk in df_chunk:\n",
    "    df_temp.append(chunk)\n",
    "\n",
    "df = pd.concat(df_temp,ignore_index = True)"
   ]
  },
  {
   "cell_type": "code",
   "execution_count": 34,
   "metadata": {},
   "outputs": [
    {
     "data": {
      "text/plain": [
       "array(['Unnamed: 0', 'Access Gained', 'Attack Origin',\n",
       "       'Authentication Required', 'Availability', 'CVE ID', 'CVE Page',\n",
       "       'CWE ID', 'Complexity', 'Confidentiality', 'Integrity',\n",
       "       'Known Exploits', 'Publish Date', 'Score', 'Summary',\n",
       "       'Update Date', 'Vulnerability Classification', 'add_lines',\n",
       "       'codeLink', 'commit_id', 'commit_message', 'del_lines',\n",
       "       'file_name', 'files_changed', 'func_after', 'func_before', 'lang',\n",
       "       'lines_after', 'lines_before', 'parentID', 'patch', 'project',\n",
       "       'project_after', 'project_before', 'vul', 'vul_func_with_fix'],\n",
       "      dtype=object)"
      ]
     },
     "execution_count": 34,
     "metadata": {},
     "output_type": "execute_result"
    }
   ],
   "source": [
    "df.columns.values"
   ]
  },
  {
   "cell_type": "code",
   "execution_count": 35,
   "metadata": {},
   "outputs": [
    {
     "data": {
      "text/html": [
       "<div>\n",
       "<style scoped>\n",
       "    .dataframe tbody tr th:only-of-type {\n",
       "        vertical-align: middle;\n",
       "    }\n",
       "\n",
       "    .dataframe tbody tr th {\n",
       "        vertical-align: top;\n",
       "    }\n",
       "\n",
       "    .dataframe thead th {\n",
       "        text-align: right;\n",
       "    }\n",
       "</style>\n",
       "<table border=\"1\" class=\"dataframe\">\n",
       "  <thead>\n",
       "    <tr style=\"text-align: right;\">\n",
       "      <th></th>\n",
       "      <th>cwe_id</th>\n",
       "      <th>vul</th>\n",
       "      <th>func_before</th>\n",
       "      <th>func_after</th>\n",
       "      <th>vul_func_with_fix</th>\n",
       "    </tr>\n",
       "  </thead>\n",
       "  <tbody>\n",
       "    <tr>\n",
       "      <th>0</th>\n",
       "      <td>CWE-264</td>\n",
       "      <td>0</td>\n",
       "      <td>static bool check_rodc_critical_attribute(stru...</td>\n",
       "      <td>static bool check_rodc_critical_attribute(stru...</td>\n",
       "      <td>static bool check_rodc_critical_attribute(stru...</td>\n",
       "    </tr>\n",
       "    <tr>\n",
       "      <th>1</th>\n",
       "      <td>CWE-264</td>\n",
       "      <td>0</td>\n",
       "      <td>static int samldb_add_entry(struct samldb_ctx ...</td>\n",
       "      <td>static int samldb_add_entry(struct samldb_ctx ...</td>\n",
       "      <td>static int samldb_add_entry(struct samldb_ctx ...</td>\n",
       "    </tr>\n",
       "    <tr>\n",
       "      <th>2</th>\n",
       "      <td>CWE-264</td>\n",
       "      <td>0</td>\n",
       "      <td>static int samldb_add_entry_callback(struct ld...</td>\n",
       "      <td>static int samldb_add_entry_callback(struct ld...</td>\n",
       "      <td>static int samldb_add_entry_callback(struct ld...</td>\n",
       "    </tr>\n",
       "    <tr>\n",
       "      <th>3</th>\n",
       "      <td>CWE-264</td>\n",
       "      <td>0</td>\n",
       "      <td>static int samldb_add_handle_msDS_IntId(struct...</td>\n",
       "      <td>static int samldb_add_handle_msDS_IntId(struct...</td>\n",
       "      <td>static int samldb_add_handle_msDS_IntId(struct...</td>\n",
       "    </tr>\n",
       "    <tr>\n",
       "      <th>4</th>\n",
       "      <td>CWE-264</td>\n",
       "      <td>0</td>\n",
       "      <td>static int samldb_add_step(struct samldb_ctx *...</td>\n",
       "      <td>static int samldb_add_step(struct samldb_ctx *...</td>\n",
       "      <td>static int samldb_add_step(struct samldb_ctx *...</td>\n",
       "    </tr>\n",
       "  </tbody>\n",
       "</table>\n",
       "</div>"
      ],
      "text/plain": [
       "    cwe_id  vul                                        func_before  \\\n",
       "0  CWE-264    0  static bool check_rodc_critical_attribute(stru...   \n",
       "1  CWE-264    0  static int samldb_add_entry(struct samldb_ctx ...   \n",
       "2  CWE-264    0  static int samldb_add_entry_callback(struct ld...   \n",
       "3  CWE-264    0  static int samldb_add_handle_msDS_IntId(struct...   \n",
       "4  CWE-264    0  static int samldb_add_step(struct samldb_ctx *...   \n",
       "\n",
       "                                          func_after  \\\n",
       "0  static bool check_rodc_critical_attribute(stru...   \n",
       "1  static int samldb_add_entry(struct samldb_ctx ...   \n",
       "2  static int samldb_add_entry_callback(struct ld...   \n",
       "3  static int samldb_add_handle_msDS_IntId(struct...   \n",
       "4  static int samldb_add_step(struct samldb_ctx *...   \n",
       "\n",
       "                                   vul_func_with_fix  \n",
       "0  static bool check_rodc_critical_attribute(stru...  \n",
       "1  static int samldb_add_entry(struct samldb_ctx ...  \n",
       "2  static int samldb_add_entry_callback(struct ld...  \n",
       "3  static int samldb_add_handle_msDS_IntId(struct...  \n",
       "4  static int samldb_add_step(struct samldb_ctx *...  "
      ]
     },
     "execution_count": 35,
     "metadata": {},
     "output_type": "execute_result"
    }
   ],
   "source": [
    "# Rename the columns\n",
    "df =df.loc[:,['CWE ID','vul','func_before','func_after','vul_func_with_fix']]\n",
    "df = df.rename(columns={'CWE ID':'cwe_id'})\n",
    "df.head(5)"
   ]
  },
  {
   "cell_type": "code",
   "execution_count": 36,
   "metadata": {},
   "outputs": [],
   "source": [
    "# df =df.loc[:,['CWE ID','vul','func_before']]\n",
    "# df.head(10)"
   ]
  },
  {
   "cell_type": "code",
   "execution_count": 37,
   "metadata": {},
   "outputs": [
    {
     "data": {
      "text/plain": [
       "vul\n",
       "0    177736\n",
       "1     10900\n",
       "Name: count, dtype: int64"
      ]
     },
     "execution_count": 37,
     "metadata": {},
     "output_type": "execute_result"
    }
   ],
   "source": [
    "df.value_counts(subset='vul')"
   ]
  },
  {
   "cell_type": "markdown",
   "metadata": {},
   "source": [
    "### Vul=0 but CWE_ID is not non-vulnerable?\n",
    "1. check non-vulnerable code\n",
    "2. check vulnerable code\n",
    "3. check the relationship between vul==0 and CWE_ID==nan\n",
    "4. how many wrong data exsit?\n",
    "* CWE ID == NaN & vul == 1 : vulnerable but no CWE info\n",
    "* CWE ID != Nan & vul == 0 : non-vulnerable but do have CWE info"
   ]
  },
  {
   "cell_type": "markdown",
   "metadata": {},
   "source": [
    "Q. Can non-vulnerable function have a Common Weakness Enumeration (CWE) ID?\n",
    "\n",
    "A. Yes, Non-vulnerable function can have a Common Weakness Enumeration (CWE) ID.\n",
    "\n",
    "CWE is a community-developed list of common software security weaknesses. Each CWE entry identifies a specific type of weakness that can occur in software and provides a description of the issue, as well as guidance on how to identify and mitigate it.\n",
    "\n",
    "Not all CWEs are necessarily exploitable vulnerabilities. Some CWEs describe coding practices that can lead to errors or inefficiencies, but may not necessarily result in security vulnerabilities. In such cases, a non-vulnerable function can still exhibit the weakness described by the CWE, even though it is not a security concern.\n",
    "\n",
    "For example, CWE-562 (\"Return of Stack Variable Address\") describes a coding practice where a function returns a pointer to a stack-allocated variable. This can lead to unpredictable behavior and errors in the program, but it does not necessarily create a vulnerability that can be exploited by an attacker. A function that exhibits this weakness would still have a CWE ID, even if it is not vulnerable to exploitation."
   ]
  },
  {
   "cell_type": "code",
   "execution_count": 38,
   "metadata": {},
   "outputs": [
    {
     "data": {
      "text/html": [
       "<div>\n",
       "<style scoped>\n",
       "    .dataframe tbody tr th:only-of-type {\n",
       "        vertical-align: middle;\n",
       "    }\n",
       "\n",
       "    .dataframe tbody tr th {\n",
       "        vertical-align: top;\n",
       "    }\n",
       "\n",
       "    .dataframe thead th {\n",
       "        text-align: right;\n",
       "    }\n",
       "</style>\n",
       "<table border=\"1\" class=\"dataframe\">\n",
       "  <thead>\n",
       "    <tr style=\"text-align: right;\">\n",
       "      <th></th>\n",
       "      <th>cwe_id</th>\n",
       "      <th>vul</th>\n",
       "      <th>func_before</th>\n",
       "      <th>func_after</th>\n",
       "      <th>vul_func_with_fix</th>\n",
       "    </tr>\n",
       "  </thead>\n",
       "  <tbody>\n",
       "    <tr>\n",
       "      <th>0</th>\n",
       "      <td>CWE-264</td>\n",
       "      <td>0</td>\n",
       "      <td>static bool check_rodc_critical_attribute(stru...</td>\n",
       "      <td>static bool check_rodc_critical_attribute(stru...</td>\n",
       "      <td>static bool check_rodc_critical_attribute(stru...</td>\n",
       "    </tr>\n",
       "    <tr>\n",
       "      <th>1</th>\n",
       "      <td>CWE-264</td>\n",
       "      <td>0</td>\n",
       "      <td>static int samldb_add_entry(struct samldb_ctx ...</td>\n",
       "      <td>static int samldb_add_entry(struct samldb_ctx ...</td>\n",
       "      <td>static int samldb_add_entry(struct samldb_ctx ...</td>\n",
       "    </tr>\n",
       "    <tr>\n",
       "      <th>2</th>\n",
       "      <td>CWE-264</td>\n",
       "      <td>0</td>\n",
       "      <td>static int samldb_add_entry_callback(struct ld...</td>\n",
       "      <td>static int samldb_add_entry_callback(struct ld...</td>\n",
       "      <td>static int samldb_add_entry_callback(struct ld...</td>\n",
       "    </tr>\n",
       "    <tr>\n",
       "      <th>3</th>\n",
       "      <td>CWE-264</td>\n",
       "      <td>0</td>\n",
       "      <td>static int samldb_add_handle_msDS_IntId(struct...</td>\n",
       "      <td>static int samldb_add_handle_msDS_IntId(struct...</td>\n",
       "      <td>static int samldb_add_handle_msDS_IntId(struct...</td>\n",
       "    </tr>\n",
       "    <tr>\n",
       "      <th>4</th>\n",
       "      <td>CWE-264</td>\n",
       "      <td>0</td>\n",
       "      <td>static int samldb_add_step(struct samldb_ctx *...</td>\n",
       "      <td>static int samldb_add_step(struct samldb_ctx *...</td>\n",
       "      <td>static int samldb_add_step(struct samldb_ctx *...</td>\n",
       "    </tr>\n",
       "  </tbody>\n",
       "</table>\n",
       "</div>"
      ],
      "text/plain": [
       "    cwe_id  vul                                        func_before  \\\n",
       "0  CWE-264    0  static bool check_rodc_critical_attribute(stru...   \n",
       "1  CWE-264    0  static int samldb_add_entry(struct samldb_ctx ...   \n",
       "2  CWE-264    0  static int samldb_add_entry_callback(struct ld...   \n",
       "3  CWE-264    0  static int samldb_add_handle_msDS_IntId(struct...   \n",
       "4  CWE-264    0  static int samldb_add_step(struct samldb_ctx *...   \n",
       "\n",
       "                                          func_after  \\\n",
       "0  static bool check_rodc_critical_attribute(stru...   \n",
       "1  static int samldb_add_entry(struct samldb_ctx ...   \n",
       "2  static int samldb_add_entry_callback(struct ld...   \n",
       "3  static int samldb_add_handle_msDS_IntId(struct...   \n",
       "4  static int samldb_add_step(struct samldb_ctx *...   \n",
       "\n",
       "                                   vul_func_with_fix  \n",
       "0  static bool check_rodc_critical_attribute(stru...  \n",
       "1  static int samldb_add_entry(struct samldb_ctx ...  \n",
       "2  static int samldb_add_entry_callback(struct ld...  \n",
       "3  static int samldb_add_handle_msDS_IntId(struct...  \n",
       "4  static int samldb_add_step(struct samldb_ctx *...  "
      ]
     },
     "execution_count": 38,
     "metadata": {},
     "output_type": "execute_result"
    }
   ],
   "source": [
    "# 1. Test with non-vulnerable dataset\n",
    "non_vul_df = df.loc[df['vul'] == 0]\n",
    "non_vul_tests = non_vul_df.head(5)\n",
    "non_vul_tests"
   ]
  },
  {
   "cell_type": "code",
   "execution_count": 39,
   "metadata": {},
   "outputs": [
    {
     "name": "stdout",
     "output_type": "stream",
     "text": [
      "0-th data----------------------\n",
      "True\n",
      "True\n",
      "True\n",
      "1-th data----------------------\n",
      "True\n",
      "True\n",
      "True\n",
      "2-th data----------------------\n",
      "True\n",
      "True\n",
      "True\n",
      "3-th data----------------------\n",
      "True\n",
      "True\n",
      "True\n",
      "4-th data----------------------\n",
      "True\n",
      "True\n",
      "True\n"
     ]
    }
   ],
   "source": [
    "for index, non_vul_test in non_vul_tests.iterrows():\n",
    "    print(f\"{index}-th data----------------------\")\n",
    "    # func_before and func_after are the same..?\n",
    "    print(non_vul_test['func_before'] == non_vul_test['func_after'])\n",
    "    # func_after and vul_func_with_fix are the same..?\n",
    "    print(non_vul_test['func_after'] == non_vul_test['vul_func_with_fix'])\n",
    "    # func_before and vul_func_with_fix are the same..?\n",
    "    print(non_vul_test['func_before'] == non_vul_test['vul_func_with_fix'])"
   ]
  },
  {
   "cell_type": "code",
   "execution_count": 40,
   "metadata": {},
   "outputs": [
    {
     "data": {
      "text/html": [
       "<div>\n",
       "<style scoped>\n",
       "    .dataframe tbody tr th:only-of-type {\n",
       "        vertical-align: middle;\n",
       "    }\n",
       "\n",
       "    .dataframe tbody tr th {\n",
       "        vertical-align: top;\n",
       "    }\n",
       "\n",
       "    .dataframe thead th {\n",
       "        text-align: right;\n",
       "    }\n",
       "</style>\n",
       "<table border=\"1\" class=\"dataframe\">\n",
       "  <thead>\n",
       "    <tr style=\"text-align: right;\">\n",
       "      <th></th>\n",
       "      <th>cwe_id</th>\n",
       "      <th>vul</th>\n",
       "      <th>func_before</th>\n",
       "      <th>func_after</th>\n",
       "      <th>vul_func_with_fix</th>\n",
       "    </tr>\n",
       "  </thead>\n",
       "  <tbody>\n",
       "    <tr>\n",
       "      <th>177736</th>\n",
       "      <td>CWE-264</td>\n",
       "      <td>1</td>\n",
       "      <td>static int samldb_check_user_account_control_a...</td>\n",
       "      <td>static int samldb_check_user_account_control_a...</td>\n",
       "      <td>static int samldb_check_user_account_control_a...</td>\n",
       "    </tr>\n",
       "    <tr>\n",
       "      <th>177737</th>\n",
       "      <td>CWE-119</td>\n",
       "      <td>1</td>\n",
       "      <td>PHPAPI void php_pcre_match_impl(pcre_cache_ent...</td>\n",
       "      <td>PHPAPI void php_pcre_match_impl(pcre_cache_ent...</td>\n",
       "      <td>PHPAPI void php_pcre_match_impl(pcre_cache_ent...</td>\n",
       "    </tr>\n",
       "    <tr>\n",
       "      <th>177738</th>\n",
       "      <td>CWE-119</td>\n",
       "      <td>1</td>\n",
       "      <td>static int scan(Scanner *s)\\n{\\n\\tuchar *curso...</td>\n",
       "      <td>static int scan(Scanner *s)\\n{\\n\\tuchar *curso...</td>\n",
       "      <td>static int scan(Scanner *s)\\n{\\n\\tuchar *curso...</td>\n",
       "    </tr>\n",
       "  </tbody>\n",
       "</table>\n",
       "</div>"
      ],
      "text/plain": [
       "         cwe_id  vul                                        func_before  \\\n",
       "177736  CWE-264    1  static int samldb_check_user_account_control_a...   \n",
       "177737  CWE-119    1  PHPAPI void php_pcre_match_impl(pcre_cache_ent...   \n",
       "177738  CWE-119    1  static int scan(Scanner *s)\\n{\\n\\tuchar *curso...   \n",
       "\n",
       "                                               func_after  \\\n",
       "177736  static int samldb_check_user_account_control_a...   \n",
       "177737  PHPAPI void php_pcre_match_impl(pcre_cache_ent...   \n",
       "177738  static int scan(Scanner *s)\\n{\\n\\tuchar *curso...   \n",
       "\n",
       "                                        vul_func_with_fix  \n",
       "177736  static int samldb_check_user_account_control_a...  \n",
       "177737  PHPAPI void php_pcre_match_impl(pcre_cache_ent...  \n",
       "177738  static int scan(Scanner *s)\\n{\\n\\tuchar *curso...  "
      ]
     },
     "execution_count": 40,
     "metadata": {},
     "output_type": "execute_result"
    }
   ],
   "source": [
    "# 2. Test vulnerable data\n",
    "vul_df = df.loc[df['vul'] == 1]\n",
    "vul_tests = vul_df.head(3)\n",
    "vul_tests"
   ]
  },
  {
   "cell_type": "code",
   "execution_count": 41,
   "metadata": {},
   "outputs": [
    {
     "name": "stdout",
     "output_type": "stream",
     "text": [
      "177736-th data----------------------\n",
      "False\n",
      "False\n",
      "False\n",
      "177737-th data----------------------\n",
      "False\n",
      "False\n",
      "False\n",
      "177738-th data----------------------\n",
      "False\n",
      "False\n",
      "False\n"
     ]
    }
   ],
   "source": [
    "for index, vul_test in vul_tests.iterrows():\n",
    "    print(f\"{index}-th data----------------------\")\n",
    "    print(vul_test['func_before'] == vul_test['func_after'])\n",
    "    print(vul_test['func_after'] == vul_test['vul_func_with_fix'])\n",
    "    print(vul_test['func_before'] == vul_test['vul_func_with_fix'])"
   ]
  },
  {
   "cell_type": "code",
   "execution_count": 42,
   "metadata": {
    "scrolled": true
   },
   "outputs": [
    {
     "name": "stdout",
     "output_type": "stream",
     "text": [
      "['CWE-264', 'CWE-119', 'CWE-310', 'CWE-189', 'CWE-200', nan, 'CWE-20', 'CWE-416', 'CWE-399', 'CWE-835', 'CWE-125', 'CWE-347', 'CWE-190', 'CWE-94', 'CWE-17', 'CWE-362', 'CWE-704', 'CWE-354', 'CWE-78', 'CWE-59', 'CWE-269', 'CWE-388', 'CWE-617', 'CWE-476', 'CWE-769', 'CWE-787', 'CWE-754', 'CWE-502', 'CWE-22', 'CWE-665', 'CWE-254', 'CWE-772', 'CWE-290', 'CWE-400', 'CWE-369', 'CWE-284', 'CWE-93', 'CWE-415', 'CWE-674', 'CWE-311', 'CWE-330', 'CWE-327', 'CWE-320', 'CWE-77', 'CWE-134', 'CWE-732', 'CWE-287', 'CWE-16', 'CWE-89', 'CWE-255', 'CWE-18', 'CWE-19', 'CWE-285', 'CWE-74', 'CWE-79', 'CWE-404', 'CWE-862', 'CWE-834', 'CWE-494', 'CWE-755', 'CWE-129', 'CWE-191', 'CWE-682', 'CWE-522', 'CWE-918', 'CWE-358', 'CWE-295', 'CWE-770', 'CWE-346', 'CWE-532', 'CWE-426', 'CWE-824', 'CWE-693', 'CWE-352', 'CWE-436', 'CWE-90', 'CWE-763', 'CWE-120', 'CWE-611', 'CWE-601', 'CWE-706', 'CWE-361', 'CWE-281', 'CWE-1021', 'CWE-668', 'CWE-664', 'CWE-172', 'CWE-909', 'CWE-209', 'CWE-345', 'CWE-331', 'CWE-252']\n"
     ]
    }
   ],
   "source": [
    "# 3. check the relationship between vul==0 and CWE_ID==nan\n",
    "cwe_list = df['cwe_id'].unique().tolist()\n",
    "print(cwe_list)"
   ]
  },
  {
   "cell_type": "code",
   "execution_count": 43,
   "metadata": {},
   "outputs": [
    {
     "data": {
      "text/html": [
       "<div>\n",
       "<style scoped>\n",
       "    .dataframe tbody tr th:only-of-type {\n",
       "        vertical-align: middle;\n",
       "    }\n",
       "\n",
       "    .dataframe tbody tr th {\n",
       "        vertical-align: top;\n",
       "    }\n",
       "\n",
       "    .dataframe thead th {\n",
       "        text-align: right;\n",
       "    }\n",
       "</style>\n",
       "<table border=\"1\" class=\"dataframe\">\n",
       "  <thead>\n",
       "    <tr style=\"text-align: right;\">\n",
       "      <th></th>\n",
       "      <th>cwe_id</th>\n",
       "      <th>vul</th>\n",
       "      <th>func_before</th>\n",
       "      <th>func_after</th>\n",
       "      <th>vul_func_with_fix</th>\n",
       "    </tr>\n",
       "  </thead>\n",
       "  <tbody>\n",
       "    <tr>\n",
       "      <th>227</th>\n",
       "      <td>NaN</td>\n",
       "      <td>0</td>\n",
       "      <td>attr_count (void)\\n{\\n  return attrhash-&gt;count...</td>\n",
       "      <td>attr_count (void)\\n{\\n  return attrhash-&gt;count...</td>\n",
       "      <td>attr_count (void)\\n{\\n  return attrhash-&gt;count...</td>\n",
       "    </tr>\n",
       "    <tr>\n",
       "      <th>228</th>\n",
       "      <td>NaN</td>\n",
       "      <td>0</td>\n",
       "      <td>attr_show_all (struct vty *vty)\\n{\\n  hash_ite...</td>\n",
       "      <td>attr_show_all (struct vty *vty)\\n{\\n  hash_ite...</td>\n",
       "      <td>attr_show_all (struct vty *vty)\\n{\\n  hash_ite...</td>\n",
       "    </tr>\n",
       "    <tr>\n",
       "      <th>229</th>\n",
       "      <td>NaN</td>\n",
       "      <td>0</td>\n",
       "      <td>attr_show_all_iterator (struct hash_backet *ba...</td>\n",
       "      <td>attr_show_all_iterator (struct hash_backet *ba...</td>\n",
       "      <td>attr_show_all_iterator (struct hash_backet *ba...</td>\n",
       "    </tr>\n",
       "    <tr>\n",
       "      <th>230</th>\n",
       "      <td>NaN</td>\n",
       "      <td>0</td>\n",
       "      <td>attr_unknown_count (void)\\n{\\n  return transit...</td>\n",
       "      <td>attr_unknown_count (void)\\n{\\n  return transit...</td>\n",
       "      <td>attr_unknown_count (void)\\n{\\n  return transit...</td>\n",
       "    </tr>\n",
       "    <tr>\n",
       "      <th>231</th>\n",
       "      <td>NaN</td>\n",
       "      <td>0</td>\n",
       "      <td>attrhash_cmp (const void *p1, const void *p2)\\...</td>\n",
       "      <td>attrhash_cmp (const void *p1, const void *p2)\\...</td>\n",
       "      <td>attrhash_cmp (const void *p1, const void *p2)\\...</td>\n",
       "    </tr>\n",
       "    <tr>\n",
       "      <th>...</th>\n",
       "      <td>...</td>\n",
       "      <td>...</td>\n",
       "      <td>...</td>\n",
       "      <td>...</td>\n",
       "      <td>...</td>\n",
       "    </tr>\n",
       "    <tr>\n",
       "      <th>188088</th>\n",
       "      <td>NaN</td>\n",
       "      <td>1</td>\n",
       "      <td>int vp8dx_receive_compressed_data(VP8D_COMP *p...</td>\n",
       "      <td>int vp8dx_receive_compressed_data(VP8D_COMP *p...</td>\n",
       "      <td>int vp8dx_receive_compressed_data(VP8D_COMP *p...</td>\n",
       "    </tr>\n",
       "    <tr>\n",
       "      <th>188089</th>\n",
       "      <td>NaN</td>\n",
       "      <td>1</td>\n",
       "      <td>void vp8_decoder_remove_threads(VP8D_COMP *pbi...</td>\n",
       "      <td>void vp8_decoder_remove_threads(VP8D_COMP *pbi...</td>\n",
       "      <td>void vp8_decoder_remove_threads(VP8D_COMP *pbi...</td>\n",
       "    </tr>\n",
       "    <tr>\n",
       "      <th>188090</th>\n",
       "      <td>NaN</td>\n",
       "      <td>1</td>\n",
       "      <td>void vp8mt_de_alloc_temp_buffers(VP8D_COMP *pb...</td>\n",
       "      <td>void vp8mt_de_alloc_temp_buffers(VP8D_COMP *pb...</td>\n",
       "      <td>void vp8mt_de_alloc_temp_buffers(VP8D_COMP *pb...</td>\n",
       "    </tr>\n",
       "    <tr>\n",
       "      <th>188091</th>\n",
       "      <td>NaN</td>\n",
       "      <td>1</td>\n",
       "      <td>sp&lt;VBRISeeker&gt; VBRISeeker::CreateFromSource(\\n...</td>\n",
       "      <td>sp&lt;VBRISeeker&gt; VBRISeeker::CreateFromSource(\\n...</td>\n",
       "      <td>sp&lt;VBRISeeker&gt; VBRISeeker::CreateFromSource(\\n...</td>\n",
       "    </tr>\n",
       "    <tr>\n",
       "      <th>188092</th>\n",
       "      <td>NaN</td>\n",
       "      <td>1</td>\n",
       "      <td>WORD32 ihevcd_decode(iv_obj_t *ps_codec_obj, v...</td>\n",
       "      <td>WORD32 ihevcd_decode(iv_obj_t *ps_codec_obj, v...</td>\n",
       "      <td>WORD32 ihevcd_decode(iv_obj_t *ps_codec_obj, v...</td>\n",
       "    </tr>\n",
       "  </tbody>\n",
       "</table>\n",
       "<p>36205 rows × 5 columns</p>\n",
       "</div>"
      ],
      "text/plain": [
       "       cwe_id  vul                                        func_before  \\\n",
       "227       NaN    0  attr_count (void)\\n{\\n  return attrhash->count...   \n",
       "228       NaN    0  attr_show_all (struct vty *vty)\\n{\\n  hash_ite...   \n",
       "229       NaN    0  attr_show_all_iterator (struct hash_backet *ba...   \n",
       "230       NaN    0  attr_unknown_count (void)\\n{\\n  return transit...   \n",
       "231       NaN    0  attrhash_cmp (const void *p1, const void *p2)\\...   \n",
       "...       ...  ...                                                ...   \n",
       "188088    NaN    1  int vp8dx_receive_compressed_data(VP8D_COMP *p...   \n",
       "188089    NaN    1  void vp8_decoder_remove_threads(VP8D_COMP *pbi...   \n",
       "188090    NaN    1  void vp8mt_de_alloc_temp_buffers(VP8D_COMP *pb...   \n",
       "188091    NaN    1  sp<VBRISeeker> VBRISeeker::CreateFromSource(\\n...   \n",
       "188092    NaN    1  WORD32 ihevcd_decode(iv_obj_t *ps_codec_obj, v...   \n",
       "\n",
       "                                               func_after  \\\n",
       "227     attr_count (void)\\n{\\n  return attrhash->count...   \n",
       "228     attr_show_all (struct vty *vty)\\n{\\n  hash_ite...   \n",
       "229     attr_show_all_iterator (struct hash_backet *ba...   \n",
       "230     attr_unknown_count (void)\\n{\\n  return transit...   \n",
       "231     attrhash_cmp (const void *p1, const void *p2)\\...   \n",
       "...                                                   ...   \n",
       "188088  int vp8dx_receive_compressed_data(VP8D_COMP *p...   \n",
       "188089  void vp8_decoder_remove_threads(VP8D_COMP *pbi...   \n",
       "188090  void vp8mt_de_alloc_temp_buffers(VP8D_COMP *pb...   \n",
       "188091  sp<VBRISeeker> VBRISeeker::CreateFromSource(\\n...   \n",
       "188092  WORD32 ihevcd_decode(iv_obj_t *ps_codec_obj, v...   \n",
       "\n",
       "                                        vul_func_with_fix  \n",
       "227     attr_count (void)\\n{\\n  return attrhash->count...  \n",
       "228     attr_show_all (struct vty *vty)\\n{\\n  hash_ite...  \n",
       "229     attr_show_all_iterator (struct hash_backet *ba...  \n",
       "230     attr_unknown_count (void)\\n{\\n  return transit...  \n",
       "231     attrhash_cmp (const void *p1, const void *p2)\\...  \n",
       "...                                                   ...  \n",
       "188088  int vp8dx_receive_compressed_data(VP8D_COMP *p...  \n",
       "188089  void vp8_decoder_remove_threads(VP8D_COMP *pbi...  \n",
       "188090  void vp8mt_de_alloc_temp_buffers(VP8D_COMP *pb...  \n",
       "188091  sp<VBRISeeker> VBRISeeker::CreateFromSource(\\n...  \n",
       "188092  WORD32 ihevcd_decode(iv_obj_t *ps_codec_obj, v...  \n",
       "\n",
       "[36205 rows x 5 columns]"
      ]
     },
     "execution_count": 43,
     "metadata": {},
     "output_type": "execute_result"
    }
   ],
   "source": [
    "# select rows with NaN values\n",
    "# CWE ID NaN for both vul 0 and 1 ----->???????????????????????????\n",
    "nan_df = df.loc[df.isna().any(axis=1)]\n",
    "nan_df"
   ]
  },
  {
   "cell_type": "markdown",
   "metadata": {},
   "source": [
    "### Drop no CWE & vulnerable"
   ]
  },
  {
   "cell_type": "code",
   "execution_count": 44,
   "metadata": {},
   "outputs": [
    {
     "name": "stdout",
     "output_type": "stream",
     "text": [
      "cwe_id                  0\n",
      "vul                  2117\n",
      "func_before          2117\n",
      "func_after           2117\n",
      "vul_func_with_fix    2117\n",
      "dtype: int64\n"
     ]
    },
    {
     "data": {
      "text/html": [
       "<div>\n",
       "<style scoped>\n",
       "    .dataframe tbody tr th:only-of-type {\n",
       "        vertical-align: middle;\n",
       "    }\n",
       "\n",
       "    .dataframe tbody tr th {\n",
       "        vertical-align: top;\n",
       "    }\n",
       "\n",
       "    .dataframe thead th {\n",
       "        text-align: right;\n",
       "    }\n",
       "</style>\n",
       "<table border=\"1\" class=\"dataframe\">\n",
       "  <thead>\n",
       "    <tr style=\"text-align: right;\">\n",
       "      <th></th>\n",
       "      <th>cwe_id</th>\n",
       "      <th>vul</th>\n",
       "      <th>func_before</th>\n",
       "      <th>func_after</th>\n",
       "      <th>vul_func_with_fix</th>\n",
       "    </tr>\n",
       "  </thead>\n",
       "  <tbody>\n",
       "    <tr>\n",
       "      <th>177745</th>\n",
       "      <td>NaN</td>\n",
       "      <td>1</td>\n",
       "      <td>int phar_get_entry_data(phar_entry_data **ret,...</td>\n",
       "      <td>int phar_get_entry_data(phar_entry_data **ret,...</td>\n",
       "      <td>int phar_get_entry_data(phar_entry_data **ret,...</td>\n",
       "    </tr>\n",
       "    <tr>\n",
       "      <th>177747</th>\n",
       "      <td>NaN</td>\n",
       "      <td>1</td>\n",
       "      <td>bgp_attr_unknown (struct bgp_attr_parser_args...</td>\n",
       "      <td>bgp_attr_unknown (struct bgp_attr_parser_args...</td>\n",
       "      <td>bgp_attr_unknown (struct bgp_attr_parser_args...</td>\n",
       "    </tr>\n",
       "    <tr>\n",
       "      <th>177769</th>\n",
       "      <td>NaN</td>\n",
       "      <td>1</td>\n",
       "      <td>int recv_files(int f_in, int f_out, char *loca...</td>\n",
       "      <td>int recv_files(int f_in, int f_out, char *loca...</td>\n",
       "      <td>int recv_files(int f_in, int f_out, char *loca...</td>\n",
       "    </tr>\n",
       "  </tbody>\n",
       "</table>\n",
       "</div>"
      ],
      "text/plain": [
       "       cwe_id  vul                                        func_before  \\\n",
       "177745    NaN    1  int phar_get_entry_data(phar_entry_data **ret,...   \n",
       "177747    NaN    1   bgp_attr_unknown (struct bgp_attr_parser_args...   \n",
       "177769    NaN    1  int recv_files(int f_in, int f_out, char *loca...   \n",
       "\n",
       "                                               func_after  \\\n",
       "177745  int phar_get_entry_data(phar_entry_data **ret,...   \n",
       "177747   bgp_attr_unknown (struct bgp_attr_parser_args...   \n",
       "177769  int recv_files(int f_in, int f_out, char *loca...   \n",
       "\n",
       "                                        vul_func_with_fix  \n",
       "177745  int phar_get_entry_data(phar_entry_data **ret,...  \n",
       "177747   bgp_attr_unknown (struct bgp_attr_parser_args...  \n",
       "177769  int recv_files(int f_in, int f_out, char *loca...  "
      ]
     },
     "execution_count": 44,
     "metadata": {},
     "output_type": "execute_result"
    }
   ],
   "source": [
    "# 4. how many wrong data exsit?\n",
    "# 4-1. CWE ID == NaN & vul == 1 : vulnerable but no CWE info\n",
    "\n",
    "no_cwe_vul = df[(df['cwe_id'].isna()) & (df['vul'] == 1)]\n",
    "print(no_cwe_vul.count())\n",
    "no_cwe_vul.head(3)"
   ]
  },
  {
   "cell_type": "code",
   "execution_count": 45,
   "metadata": {},
   "outputs": [
    {
     "data": {
      "text/plain": [
       "cwe_id               0\n",
       "vul                  0\n",
       "func_before          0\n",
       "func_after           0\n",
       "vul_func_with_fix    0\n",
       "dtype: int64"
      ]
     },
     "execution_count": 45,
     "metadata": {},
     "output_type": "execute_result"
    }
   ],
   "source": [
    "# drop rows where the code is vulnerable but not having CWE id information\n",
    "df = df.drop(no_cwe_vul.index)\n",
    "\n",
    "# check\n",
    "df[(df['cwe_id'].isna()) & (df['vul'] == 1)].count()"
   ]
  },
  {
   "cell_type": "code",
   "execution_count": 46,
   "metadata": {},
   "outputs": [
    {
     "name": "stdout",
     "output_type": "stream",
     "text": [
      "cwe_id               143648\n",
      "vul                  143648\n",
      "func_before          143648\n",
      "func_after           143648\n",
      "vul_func_with_fix    143648\n",
      "dtype: int64\n"
     ]
    },
    {
     "data": {
      "text/html": [
       "<div>\n",
       "<style scoped>\n",
       "    .dataframe tbody tr th:only-of-type {\n",
       "        vertical-align: middle;\n",
       "    }\n",
       "\n",
       "    .dataframe tbody tr th {\n",
       "        vertical-align: top;\n",
       "    }\n",
       "\n",
       "    .dataframe thead th {\n",
       "        text-align: right;\n",
       "    }\n",
       "</style>\n",
       "<table border=\"1\" class=\"dataframe\">\n",
       "  <thead>\n",
       "    <tr style=\"text-align: right;\">\n",
       "      <th></th>\n",
       "      <th>cwe_id</th>\n",
       "      <th>vul</th>\n",
       "      <th>func_before</th>\n",
       "      <th>func_after</th>\n",
       "      <th>vul_func_with_fix</th>\n",
       "    </tr>\n",
       "  </thead>\n",
       "  <tbody>\n",
       "    <tr>\n",
       "      <th>0</th>\n",
       "      <td>CWE-264</td>\n",
       "      <td>0</td>\n",
       "      <td>static bool check_rodc_critical_attribute(stru...</td>\n",
       "      <td>static bool check_rodc_critical_attribute(stru...</td>\n",
       "      <td>static bool check_rodc_critical_attribute(stru...</td>\n",
       "    </tr>\n",
       "    <tr>\n",
       "      <th>1</th>\n",
       "      <td>CWE-264</td>\n",
       "      <td>0</td>\n",
       "      <td>static int samldb_add_entry(struct samldb_ctx ...</td>\n",
       "      <td>static int samldb_add_entry(struct samldb_ctx ...</td>\n",
       "      <td>static int samldb_add_entry(struct samldb_ctx ...</td>\n",
       "    </tr>\n",
       "    <tr>\n",
       "      <th>2</th>\n",
       "      <td>CWE-264</td>\n",
       "      <td>0</td>\n",
       "      <td>static int samldb_add_entry_callback(struct ld...</td>\n",
       "      <td>static int samldb_add_entry_callback(struct ld...</td>\n",
       "      <td>static int samldb_add_entry_callback(struct ld...</td>\n",
       "    </tr>\n",
       "  </tbody>\n",
       "</table>\n",
       "</div>"
      ],
      "text/plain": [
       "    cwe_id  vul                                        func_before  \\\n",
       "0  CWE-264    0  static bool check_rodc_critical_attribute(stru...   \n",
       "1  CWE-264    0  static int samldb_add_entry(struct samldb_ctx ...   \n",
       "2  CWE-264    0  static int samldb_add_entry_callback(struct ld...   \n",
       "\n",
       "                                          func_after  \\\n",
       "0  static bool check_rodc_critical_attribute(stru...   \n",
       "1  static int samldb_add_entry(struct samldb_ctx ...   \n",
       "2  static int samldb_add_entry_callback(struct ld...   \n",
       "\n",
       "                                   vul_func_with_fix  \n",
       "0  static bool check_rodc_critical_attribute(stru...  \n",
       "1  static int samldb_add_entry(struct samldb_ctx ...  \n",
       "2  static int samldb_add_entry_callback(struct ld...  "
      ]
     },
     "execution_count": 46,
     "metadata": {},
     "output_type": "execute_result"
    }
   ],
   "source": [
    "# 4.2 CWE ID != Nan & vul == 0 : non-vulnerable but do have CWE info\n",
    "# make new label column : non-vulnerable\n",
    "cwe_with_non_vul = df[(df['cwe_id'].notnull()) & (df['vul'] == 0)]\n",
    "print(cwe_with_non_vul.count())\n",
    "cwe_with_non_vul.head(3)"
   ]
  },
  {
   "cell_type": "markdown",
   "metadata": {},
   "source": [
    "### Add a new cwe id column for labeling exceptional cases"
   ]
  },
  {
   "cell_type": "code",
   "execution_count": 47,
   "metadata": {},
   "outputs": [],
   "source": [
    "# index_list = list(cwe_with_non_vul.index)\n",
    "\n",
    "# # iterate over the index_list and add \"-non-vul\" to the current value of \"cwe_id\"\n",
    "# for i in index_list:\n",
    "#     df.loc[i, 'cwe_id'] = \"non-vulnerable\""
   ]
  },
  {
   "cell_type": "code",
   "execution_count": 48,
   "metadata": {},
   "outputs": [
    {
     "name": "stdout",
     "output_type": "stream",
     "text": [
      "['CWE-264', 'CWE-119', 'CWE-310', 'CWE-189', 'CWE-200', nan, 'CWE-20', 'CWE-416', 'CWE-399', 'CWE-835', 'CWE-125', 'CWE-347', 'CWE-190', 'CWE-94', 'CWE-17', 'CWE-362', 'CWE-704', 'CWE-354', 'CWE-78', 'CWE-59', 'CWE-269', 'CWE-388', 'CWE-617', 'CWE-476', 'CWE-769', 'CWE-787', 'CWE-754', 'CWE-502', 'CWE-22', 'CWE-665', 'CWE-254', 'CWE-772', 'CWE-290', 'CWE-400', 'CWE-369', 'CWE-284', 'CWE-93', 'CWE-415', 'CWE-674', 'CWE-311', 'CWE-330', 'CWE-327', 'CWE-320', 'CWE-77', 'CWE-134', 'CWE-732', 'CWE-287', 'CWE-16', 'CWE-89', 'CWE-255', 'CWE-18', 'CWE-19', 'CWE-285', 'CWE-74', 'CWE-79', 'CWE-404', 'CWE-862', 'CWE-834', 'CWE-494', 'CWE-755', 'CWE-129', 'CWE-191', 'CWE-682', 'CWE-522', 'CWE-918', 'CWE-358', 'CWE-295', 'CWE-770', 'CWE-346', 'CWE-532', 'CWE-426', 'CWE-824', 'CWE-693', 'CWE-352', 'CWE-436', 'CWE-90', 'CWE-763', 'CWE-120', 'CWE-611', 'CWE-601', 'CWE-706', 'CWE-361', 'CWE-281', 'CWE-1021', 'CWE-668', 'CWE-664', 'CWE-172', 'CWE-909', 'CWE-209', 'CWE-345', 'CWE-331', 'CWE-252']\n"
     ]
    }
   ],
   "source": [
    "# 3. check the relationship between vul==0 and CWE_ID==nan\n",
    "cwe_new_list = df['cwe_id'].unique().tolist()\n",
    "print(cwe_new_list)"
   ]
  },
  {
   "cell_type": "code",
   "execution_count": 49,
   "metadata": {},
   "outputs": [
    {
     "data": {
      "text/plain": [
       "186519"
      ]
     },
     "execution_count": 49,
     "metadata": {},
     "output_type": "execute_result"
    }
   ],
   "source": [
    "df['cwe_id'].isna().count()"
   ]
  },
  {
   "cell_type": "code",
   "execution_count": 50,
   "metadata": {},
   "outputs": [
    {
     "name": "stdout",
     "output_type": "stream",
     "text": [
      "Original # of cwe id: 92,\n",
      " # of New cwe id: 92, \n",
      " # of created cwe ids: 0\n"
     ]
    }
   ],
   "source": [
    "print(f\"Original # of cwe id: {len(cwe_list)},\\n # of New cwe id: {len(cwe_new_list)}, \\n # of created cwe ids: {len(cwe_new_list)-len(cwe_list)}\")"
   ]
  },
  {
   "cell_type": "code",
   "execution_count": 51,
   "metadata": {},
   "outputs": [
    {
     "name": "stdout",
     "output_type": "stream",
     "text": [
      "cwe_id                   0\n",
      "vul                  34088\n",
      "func_before          34088\n",
      "func_after           34088\n",
      "vul_func_with_fix    34088\n",
      "dtype: int64\n"
     ]
    },
    {
     "data": {
      "text/html": [
       "<div>\n",
       "<style scoped>\n",
       "    .dataframe tbody tr th:only-of-type {\n",
       "        vertical-align: middle;\n",
       "    }\n",
       "\n",
       "    .dataframe tbody tr th {\n",
       "        vertical-align: top;\n",
       "    }\n",
       "\n",
       "    .dataframe thead th {\n",
       "        text-align: right;\n",
       "    }\n",
       "</style>\n",
       "<table border=\"1\" class=\"dataframe\">\n",
       "  <thead>\n",
       "    <tr style=\"text-align: right;\">\n",
       "      <th></th>\n",
       "      <th>cwe_id</th>\n",
       "      <th>vul</th>\n",
       "      <th>func_before</th>\n",
       "      <th>func_after</th>\n",
       "      <th>vul_func_with_fix</th>\n",
       "    </tr>\n",
       "  </thead>\n",
       "  <tbody>\n",
       "    <tr>\n",
       "      <th>227</th>\n",
       "      <td>NaN</td>\n",
       "      <td>0</td>\n",
       "      <td>attr_count (void)\\n{\\n  return attrhash-&gt;count...</td>\n",
       "      <td>attr_count (void)\\n{\\n  return attrhash-&gt;count...</td>\n",
       "      <td>attr_count (void)\\n{\\n  return attrhash-&gt;count...</td>\n",
       "    </tr>\n",
       "    <tr>\n",
       "      <th>228</th>\n",
       "      <td>NaN</td>\n",
       "      <td>0</td>\n",
       "      <td>attr_show_all (struct vty *vty)\\n{\\n  hash_ite...</td>\n",
       "      <td>attr_show_all (struct vty *vty)\\n{\\n  hash_ite...</td>\n",
       "      <td>attr_show_all (struct vty *vty)\\n{\\n  hash_ite...</td>\n",
       "    </tr>\n",
       "    <tr>\n",
       "      <th>229</th>\n",
       "      <td>NaN</td>\n",
       "      <td>0</td>\n",
       "      <td>attr_show_all_iterator (struct hash_backet *ba...</td>\n",
       "      <td>attr_show_all_iterator (struct hash_backet *ba...</td>\n",
       "      <td>attr_show_all_iterator (struct hash_backet *ba...</td>\n",
       "    </tr>\n",
       "  </tbody>\n",
       "</table>\n",
       "</div>"
      ],
      "text/plain": [
       "    cwe_id  vul                                        func_before  \\\n",
       "227    NaN    0  attr_count (void)\\n{\\n  return attrhash->count...   \n",
       "228    NaN    0  attr_show_all (struct vty *vty)\\n{\\n  hash_ite...   \n",
       "229    NaN    0  attr_show_all_iterator (struct hash_backet *ba...   \n",
       "\n",
       "                                            func_after  \\\n",
       "227  attr_count (void)\\n{\\n  return attrhash->count...   \n",
       "228  attr_show_all (struct vty *vty)\\n{\\n  hash_ite...   \n",
       "229  attr_show_all_iterator (struct hash_backet *ba...   \n",
       "\n",
       "                                     vul_func_with_fix  \n",
       "227  attr_count (void)\\n{\\n  return attrhash->count...  \n",
       "228  attr_show_all (struct vty *vty)\\n{\\n  hash_ite...  \n",
       "229  attr_show_all_iterator (struct hash_backet *ba...  "
      ]
     },
     "execution_count": 51,
     "metadata": {},
     "output_type": "execute_result"
    }
   ],
   "source": [
    "no_cwe_with_non_vul = df[(df['cwe_id'].isna()) & (df['vul'] == 0)]\n",
    "print(no_cwe_with_non_vul.count())\n",
    "no_cwe_with_non_vul.head(3)"
   ]
  },
  {
   "cell_type": "code",
   "execution_count": 52,
   "metadata": {},
   "outputs": [],
   "source": [
    "# iterate over the index_list and add \"-non-vul\" to the current value of \"CWE ID\"\n",
    "non_vul_index_list = list(no_cwe_with_non_vul.index)\n",
    "for i in non_vul_index_list:\n",
    "    df.loc[i, 'cwe_id'] = \"non-vulnerable\""
   ]
  },
  {
   "cell_type": "code",
   "execution_count": 53,
   "metadata": {},
   "outputs": [
    {
     "name": "stdout",
     "output_type": "stream",
     "text": [
      "['CWE-264', 'CWE-119', 'CWE-310', 'CWE-189', 'CWE-200', 'non-vulnerable', 'CWE-20', 'CWE-416', 'CWE-399', 'CWE-835', 'CWE-125', 'CWE-347', 'CWE-190', 'CWE-94', 'CWE-17', 'CWE-362', 'CWE-704', 'CWE-354', 'CWE-78', 'CWE-59', 'CWE-269', 'CWE-388', 'CWE-617', 'CWE-476', 'CWE-769', 'CWE-787', 'CWE-754', 'CWE-502', 'CWE-22', 'CWE-665', 'CWE-254', 'CWE-772', 'CWE-290', 'CWE-400', 'CWE-369', 'CWE-284', 'CWE-93', 'CWE-415', 'CWE-674', 'CWE-311', 'CWE-330', 'CWE-327', 'CWE-320', 'CWE-77', 'CWE-134', 'CWE-732', 'CWE-287', 'CWE-16', 'CWE-89', 'CWE-255', 'CWE-18', 'CWE-19', 'CWE-285', 'CWE-74', 'CWE-79', 'CWE-404', 'CWE-862', 'CWE-834', 'CWE-494', 'CWE-755', 'CWE-129', 'CWE-191', 'CWE-682', 'CWE-522', 'CWE-918', 'CWE-358', 'CWE-295', 'CWE-770', 'CWE-346', 'CWE-532', 'CWE-426', 'CWE-824', 'CWE-693', 'CWE-352', 'CWE-436', 'CWE-90', 'CWE-763', 'CWE-120', 'CWE-611', 'CWE-601', 'CWE-706', 'CWE-361', 'CWE-281', 'CWE-1021', 'CWE-668', 'CWE-664', 'CWE-172', 'CWE-909', 'CWE-209', 'CWE-345', 'CWE-331', 'CWE-252']\n"
     ]
    }
   ],
   "source": [
    "# 3. check the relationship between vul==0 and CWE_ID==nan\n",
    "cwe_new_list = df['cwe_id'].unique().tolist()\n",
    "print(cwe_new_list)"
   ]
  },
  {
   "cell_type": "markdown",
   "metadata": {},
   "source": [
    "### Count in Vulnerability classes "
   ]
  },
  {
   "cell_type": "code",
   "execution_count": 54,
   "metadata": {},
   "outputs": [
    {
     "data": {
      "text/plain": [
       "vul\n",
       "0    177736\n",
       "1      8783\n",
       "Name: count, dtype: int64"
      ]
     },
     "execution_count": 54,
     "metadata": {},
     "output_type": "execute_result"
    }
   ],
   "source": [
    "df.value_counts(subset='vul')"
   ]
  },
  {
   "cell_type": "markdown",
   "metadata": {},
   "source": [
    "### Count in CWE ID classes"
   ]
  },
  {
   "cell_type": "code",
   "execution_count": 55,
   "metadata": {},
   "outputs": [
    {
     "name": "stdout",
     "output_type": "stream",
     "text": [
      "cwe_id\n",
      "non-vulnerable    34088\n",
      "CWE-119           26497\n",
      "CWE-20            20501\n",
      "CWE-399           14806\n",
      "CWE-264           12487\n",
      "                  ...  \n",
      "CWE-769               3\n",
      "CWE-345               2\n",
      "CWE-331               1\n",
      "CWE-209               1\n",
      "CWE-252               1\n",
      "Name: count, Length: 92, dtype: int64\n"
     ]
    },
    {
     "data": {
      "image/png": "[encoded data removed]",
      "text/plain": [
       "<Figure size 600x1000 with 1 Axes>"
      ]
     },
     "metadata": {},
     "output_type": "display_data"
    }
   ],
   "source": [
    "print(df.value_counts(subset='cwe_id'))\n",
    "plt.figure(figsize=(6, 10))\n",
    "df.value_counts(subset='cwe_id').plot.barh(xlabel='count', ylabel='CWE ID',fontsize=5)\n",
    "plt.show()"
   ]
  },
  {
   "cell_type": "code",
   "execution_count": 56,
   "metadata": {},
   "outputs": [
    {
     "name": "stdout",
     "output_type": "stream",
     "text": [
      "cwe_id\n",
      "non-vulnerable    34088\n",
      "CWE-119           26497\n",
      "CWE-20            20501\n",
      "CWE-399           14806\n",
      "CWE-264           12487\n",
      "                  ...  \n",
      "CWE-769               3\n",
      "CWE-345               2\n",
      "CWE-209               1\n",
      "CWE-331               1\n",
      "CWE-252               1\n",
      "Name: count, Length: 92, dtype: int64\n"
     ]
    },
    {
     "data": {
      "image/png": "[encoded data removed]",
      "text/plain": [
       "<Figure size 1000x600 with 1 Axes>"
      ]
     },
     "metadata": {},
     "output_type": "display_data"
    }
   ],
   "source": [
    "import pandas as pd\n",
    "import matplotlib.pyplot as plt\n",
    "\n",
    "# Calculate the counts of each unique value in the 'cwe_id' column\n",
    "value_counts = df['cwe_id'].value_counts()\n",
    "print(value_counts)\n",
    "\n",
    "# Plot histogram\n",
    "plt.figure(figsize=(10, 6))\n",
    "value_counts.plot(kind='bar')\n",
    "plt.title('Histogram of CWE ID Counts')\n",
    "plt.xlabel('CWE ID')\n",
    "plt.ylabel('Counts')\n",
    "plt.show()\n"
   ]
  },
  {
   "cell_type": "code",
   "execution_count": 57,
   "metadata": {},
   "outputs": [
    {
     "name": "stdout",
     "output_type": "stream",
     "text": [
      "                                                code   cwe_id  vul\n",
      "0  static bool check_rodc_critical_attribute(stru...  CWE-264    0\n",
      "1  static int samldb_add_entry(struct samldb_ctx ...  CWE-264    0\n",
      "2  static int samldb_add_entry_callback(struct ld...  CWE-264    0\n",
      "3  static int samldb_add_handle_msDS_IntId(struct...  CWE-264    0\n",
      "4  static int samldb_add_step(struct samldb_ctx *...  CWE-264    0\n",
      "# of str in cwe_id: (0, 3) Empty DataFrame\n",
      "Columns: [code, cwe_id, vul]\n",
      "Index: []\n",
      "                                                     code  cwe_id  vul\n",
      "37      static PHP_FUNCTION(preg_match)\\n{\\n\\tphp_do_p...     119    0\n",
      "38      static PHP_FUNCTION(preg_match_all)\\n{\\n\\tphp_...     119    0\n",
      "39      static PHP_FUNCTION(preg_replace)\\n{\\n\\tpreg_r...     119    0\n",
      "40      static PHP_FUNCTION(preg_replace_callback)\\n{\\...     119    0\n",
      "41      static PHP_FUNCTION(preg_filter)\\n{\\n\\tpreg_re...     119    0\n",
      "...                                                   ...     ...  ...\n",
      "188631  void impeg2d_dec_p_mb_params(dec_state_t *ps_d...     119    1\n",
      "188632  void impeg2d_dec_pnb_mb_params(dec_state_t *ps...     119    1\n",
      "188633  int equalizer_get_parameter(effect_context_t *...     200    1\n",
      "188634  uint8_t rfc_parse_data(tRFC_MCB* p_mcb, MX_FRA...     125    1\n",
      "188635  uint8_t rfc_parse_data(tRFC_MCB* p_mcb, MX_FRA...     125    1\n",
      "\n",
      "[145743 rows x 3 columns]\n"
     ]
    }
   ],
   "source": [
    "'''\n",
    "For sampling the data for experiment\n",
    "'''\n",
    "file_dir = '../datasets_'\n",
    "# List of non-existing CWE IDs\n",
    "non_exist_cwe_id_list = [16, 17, 18, 19, 21, 189, 199, 254, 255, 264, 275, 310, 320, 361, 388, 399, 534, 769, 840, 1187]\n",
    "\n",
    "df = df.rename(columns={'func_before':'code'})\n",
    "df = df[['code','cwe_id','vul']]\n",
    "print(df.head(5))\n",
    "\n",
    "df['cwe_id'] = df['cwe_id'].astype(str)\n",
    "df = df[~df['cwe_id'].str.contains(',')]\n",
    "df['cwe_id'] = df['cwe_id'].str.replace('CWE-', '')\n",
    "df['cwe_id'] = df['cwe_id'].replace('non-vulnerable', 0)\n",
    "df['cwe_id'] = df['cwe_id'].astype(int)\n",
    "# Remove rows where 'cwe_id' is in non_exist_cwe_id_list\n",
    "df = df[~df['cwe_id'].isin(non_exist_cwe_id_list)]\n",
    "\n",
    "# Validate if there is still str value in cwe_id column\n",
    "str_rows = df[df['cwe_id'].apply(lambda x: isinstance(x, str))]\n",
    "print(\"# of str in cwe_id:\",str_rows.shape, str_rows)\n",
    "print(df)"
   ]
  },
  {
   "cell_type": "code",
   "execution_count": 58,
   "metadata": {},
   "outputs": [],
   "source": [
    "# Save it to csv file\n",
    "df.to_csv(f\"{file_dir}/MSR.csv\")"
   ]
  }
 ],
 "metadata": {
  "kernelspec": {
   "display_name": "Python 3 (ipykernel)",
   "language": "python",
   "name": "python3"
  },
  "language_info": {
   "codemirror_mode": {
    "name": "ipython",
    "version": 3
   },
   "file_extension": ".py",
   "mimetype": "text/x-python",
   "name": "python",
   "nbconvert_exporter": "python",
   "pygments_lexer": "ipython3",
   "version": "3.10.12"
  },
  "vscode": {
   "interpreter": {
    "hash": "3fd8166a1a350b9347661cd8a533d70c8441cfea974c5fb744d1544a83dd5163"
   }
  }
 },
 "nbformat": 4,
 "nbformat_minor": 2
}
