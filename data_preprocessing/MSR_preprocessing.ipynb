{
 "cells": [
  {
   "cell_type": "markdown",
   "metadata": {},
   "source": [
    "# Big-Vul dataset \n",
    "\n",
    "> Mining Software Repositories(MSR) Dataset\n",
    "\n",
    "### Abstract\n",
    "\n",
    "We collected a large C/C++ code vulnerability dataset from open-source Github projects, namely __Big-Vul__. We crawled the public Common Vulnerabilities and Exposures (CVE) database and CVE-related source code repositories. Specifically, we collected the descriptive information of the vulnerabilities from the CVE database, e.g., CVE IDs, CVE severity scores, and CVE summaries. With the CVE information and its related published Github code repository links, we downloaded all of the code repositories and extracted vulnerability related code changes. In total, Big-Vul contains 3,754 code vulnerabilities spanning 91 different vulnerability types. All these code vulnerabilities are extracted from 348 Github projects. All information is stored in the CSV format. We linked the code changes with the CVE descriptive information. Thus, our Big-Vul can be used for various research topics, e.g., detecting and fixing vulnerabilities, analyzing the vulnerability related code changes. Big-Vul is publicly available on Github. \n",
    "\n",
    "\n",
    "In page 510,\n",
    "\n",
    "\"We identified 4,432 code commits relevant to the vulnerabilities\n",
    "spanning __91 CWE types__. For a given vulnerable function with the\n",
    "related commits, we kept the vulnerable version of the function and\n",
    "its code changes for fixing the vulnerability In total, we obtained\n",
    "8,143 modified files, __11,823 vulnerable functions__, and 253,096 non-\n",
    "vulnerable functions in our Big-Vul.\"\n",
    "\n",
    "\n",
    "https://researchwith.njit.edu/en/publications/a-cc-code-vulnerability-dataset-with-code-changes-and-cve-summari\n",
    "https://github.com/ZeoVan/MSR_20_Code_vulnerability_CSV_Dataset"
   ]
  },
  {
   "cell_type": "code",
   "execution_count": 1,
   "metadata": {},
   "outputs": [],
   "source": [
    "import numpy as np\n",
    "import pandas as pd\n",
    "import matplotlib.pyplot as plt"
   ]
  },
  {
   "cell_type": "code",
   "execution_count": 2,
   "metadata": {},
   "outputs": [],
   "source": [
    "df_chunk = pd.read_csv('MSR/MSR_data_cleaned.csv', chunksize=10000)"
   ]
  },
  {
   "cell_type": "code",
   "execution_count": 3,
   "metadata": {},
   "outputs": [],
   "source": [
    "df_temp = []\n",
    "for chunk in df_chunk:\n",
    "    df_temp.append(chunk)\n",
    "\n",
    "df = pd.concat(df_temp,ignore_index = True)"
   ]
  },
  {
   "cell_type": "code",
   "execution_count": 4,
   "metadata": {},
   "outputs": [
    {
     "data": {
      "text/plain": [
       "array(['Unnamed: 0', 'Access Gained', 'Attack Origin',\n",
       "       'Authentication Required', 'Availability', 'CVE ID', 'CVE Page',\n",
       "       'CWE ID', 'Complexity', 'Confidentiality', 'Integrity',\n",
       "       'Known Exploits', 'Publish Date', 'Score', 'Summary',\n",
       "       'Update Date', 'Vulnerability Classification', 'add_lines',\n",
       "       'codeLink', 'commit_id', 'commit_message', 'del_lines',\n",
       "       'file_name', 'files_changed', 'func_after', 'func_before', 'lang',\n",
       "       'lines_after', 'lines_before', 'parentID', 'patch', 'project',\n",
       "       'project_after', 'project_before', 'vul', 'vul_func_with_fix'],\n",
       "      dtype=object)"
      ]
     },
     "execution_count": 4,
     "metadata": {},
     "output_type": "execute_result"
    }
   ],
   "source": [
    "df.columns.values"
   ]
  },
  {
   "cell_type": "code",
   "execution_count": 5,
   "metadata": {},
   "outputs": [
    {
     "data": {
      "text/html": [
       "<div>\n",
       "<style scoped>\n",
       "    .dataframe tbody tr th:only-of-type {\n",
       "        vertical-align: middle;\n",
       "    }\n",
       "\n",
       "    .dataframe tbody tr th {\n",
       "        vertical-align: top;\n",
       "    }\n",
       "\n",
       "    .dataframe thead th {\n",
       "        text-align: right;\n",
       "    }\n",
       "</style>\n",
       "<table border=\"1\" class=\"dataframe\">\n",
       "  <thead>\n",
       "    <tr style=\"text-align: right;\">\n",
       "      <th></th>\n",
       "      <th>Unnamed: 0</th>\n",
       "      <th>Access Gained</th>\n",
       "      <th>Attack Origin</th>\n",
       "      <th>Authentication Required</th>\n",
       "      <th>Availability</th>\n",
       "      <th>CVE ID</th>\n",
       "      <th>CVE Page</th>\n",
       "      <th>CWE ID</th>\n",
       "      <th>Complexity</th>\n",
       "      <th>Confidentiality</th>\n",
       "      <th>...</th>\n",
       "      <th>lang</th>\n",
       "      <th>lines_after</th>\n",
       "      <th>lines_before</th>\n",
       "      <th>parentID</th>\n",
       "      <th>patch</th>\n",
       "      <th>project</th>\n",
       "      <th>project_after</th>\n",
       "      <th>project_before</th>\n",
       "      <th>vul</th>\n",
       "      <th>vul_func_with_fix</th>\n",
       "    </tr>\n",
       "  </thead>\n",
       "  <tbody>\n",
       "    <tr>\n",
       "      <th>0</th>\n",
       "      <td>0</td>\n",
       "      <td>None</td>\n",
       "      <td>Remote</td>\n",
       "      <td>Single system</td>\n",
       "      <td>Partial</td>\n",
       "      <td>CVE-2015-8467</td>\n",
       "      <td>https://www.cvedetails.com/cve/CVE-2015-8467/</td>\n",
       "      <td>CWE-264</td>\n",
       "      <td>Medium</td>\n",
       "      <td>Partial</td>\n",
       "      <td>...</td>\n",
       "      <td>C</td>\n",
       "      <td>NaN</td>\n",
       "      <td>NaN</td>\n",
       "      <td>a819d2b440aafa3138d95ff6e8b824da885a70e9</td>\n",
       "      <td>@@ -1558,12 +1558,15 @@ static int samldb_chec...</td>\n",
       "      <td>samba</td>\n",
       "      <td>https://git.samba.org/?p=samba.git;a=blob;f=so...</td>\n",
       "      <td>https://git.samba.org/?p=samba.git;a=blob;f=so...</td>\n",
       "      <td>0</td>\n",
       "      <td>static bool check_rodc_critical_attribute(stru...</td>\n",
       "    </tr>\n",
       "    <tr>\n",
       "      <th>1</th>\n",
       "      <td>1</td>\n",
       "      <td>None</td>\n",
       "      <td>Remote</td>\n",
       "      <td>Single system</td>\n",
       "      <td>Partial</td>\n",
       "      <td>CVE-2015-8467</td>\n",
       "      <td>https://www.cvedetails.com/cve/CVE-2015-8467/</td>\n",
       "      <td>CWE-264</td>\n",
       "      <td>Medium</td>\n",
       "      <td>Partial</td>\n",
       "      <td>...</td>\n",
       "      <td>C</td>\n",
       "      <td>NaN</td>\n",
       "      <td>NaN</td>\n",
       "      <td>a819d2b440aafa3138d95ff6e8b824da885a70e9</td>\n",
       "      <td>@@ -1558,12 +1558,15 @@ static int samldb_chec...</td>\n",
       "      <td>samba</td>\n",
       "      <td>https://git.samba.org/?p=samba.git;a=blob;f=so...</td>\n",
       "      <td>https://git.samba.org/?p=samba.git;a=blob;f=so...</td>\n",
       "      <td>0</td>\n",
       "      <td>static int samldb_add_entry(struct samldb_ctx ...</td>\n",
       "    </tr>\n",
       "    <tr>\n",
       "      <th>2</th>\n",
       "      <td>2</td>\n",
       "      <td>None</td>\n",
       "      <td>Remote</td>\n",
       "      <td>Single system</td>\n",
       "      <td>Partial</td>\n",
       "      <td>CVE-2015-8467</td>\n",
       "      <td>https://www.cvedetails.com/cve/CVE-2015-8467/</td>\n",
       "      <td>CWE-264</td>\n",
       "      <td>Medium</td>\n",
       "      <td>Partial</td>\n",
       "      <td>...</td>\n",
       "      <td>C</td>\n",
       "      <td>NaN</td>\n",
       "      <td>NaN</td>\n",
       "      <td>a819d2b440aafa3138d95ff6e8b824da885a70e9</td>\n",
       "      <td>@@ -1558,12 +1558,15 @@ static int samldb_chec...</td>\n",
       "      <td>samba</td>\n",
       "      <td>https://git.samba.org/?p=samba.git;a=blob;f=so...</td>\n",
       "      <td>https://git.samba.org/?p=samba.git;a=blob;f=so...</td>\n",
       "      <td>0</td>\n",
       "      <td>static int samldb_add_entry_callback(struct ld...</td>\n",
       "    </tr>\n",
       "    <tr>\n",
       "      <th>3</th>\n",
       "      <td>3</td>\n",
       "      <td>None</td>\n",
       "      <td>Remote</td>\n",
       "      <td>Single system</td>\n",
       "      <td>Partial</td>\n",
       "      <td>CVE-2015-8467</td>\n",
       "      <td>https://www.cvedetails.com/cve/CVE-2015-8467/</td>\n",
       "      <td>CWE-264</td>\n",
       "      <td>Medium</td>\n",
       "      <td>Partial</td>\n",
       "      <td>...</td>\n",
       "      <td>C</td>\n",
       "      <td>NaN</td>\n",
       "      <td>NaN</td>\n",
       "      <td>a819d2b440aafa3138d95ff6e8b824da885a70e9</td>\n",
       "      <td>@@ -1558,12 +1558,15 @@ static int samldb_chec...</td>\n",
       "      <td>samba</td>\n",
       "      <td>https://git.samba.org/?p=samba.git;a=blob;f=so...</td>\n",
       "      <td>https://git.samba.org/?p=samba.git;a=blob;f=so...</td>\n",
       "      <td>0</td>\n",
       "      <td>static int samldb_add_handle_msDS_IntId(struct...</td>\n",
       "    </tr>\n",
       "    <tr>\n",
       "      <th>4</th>\n",
       "      <td>4</td>\n",
       "      <td>None</td>\n",
       "      <td>Remote</td>\n",
       "      <td>Single system</td>\n",
       "      <td>Partial</td>\n",
       "      <td>CVE-2015-8467</td>\n",
       "      <td>https://www.cvedetails.com/cve/CVE-2015-8467/</td>\n",
       "      <td>CWE-264</td>\n",
       "      <td>Medium</td>\n",
       "      <td>Partial</td>\n",
       "      <td>...</td>\n",
       "      <td>C</td>\n",
       "      <td>NaN</td>\n",
       "      <td>NaN</td>\n",
       "      <td>a819d2b440aafa3138d95ff6e8b824da885a70e9</td>\n",
       "      <td>@@ -1558,12 +1558,15 @@ static int samldb_chec...</td>\n",
       "      <td>samba</td>\n",
       "      <td>https://git.samba.org/?p=samba.git;a=blob;f=so...</td>\n",
       "      <td>https://git.samba.org/?p=samba.git;a=blob;f=so...</td>\n",
       "      <td>0</td>\n",
       "      <td>static int samldb_add_step(struct samldb_ctx *...</td>\n",
       "    </tr>\n",
       "  </tbody>\n",
       "</table>\n",
       "<p>5 rows × 36 columns</p>\n",
       "</div>"
      ],
      "text/plain": [
       "   Unnamed: 0 Access Gained Attack Origin Authentication Required  \\\n",
       "0           0          None        Remote           Single system   \n",
       "1           1          None        Remote           Single system   \n",
       "2           2          None        Remote           Single system   \n",
       "3           3          None        Remote           Single system   \n",
       "4           4          None        Remote           Single system   \n",
       "\n",
       "  Availability         CVE ID                                       CVE Page  \\\n",
       "0      Partial  CVE-2015-8467  https://www.cvedetails.com/cve/CVE-2015-8467/   \n",
       "1      Partial  CVE-2015-8467  https://www.cvedetails.com/cve/CVE-2015-8467/   \n",
       "2      Partial  CVE-2015-8467  https://www.cvedetails.com/cve/CVE-2015-8467/   \n",
       "3      Partial  CVE-2015-8467  https://www.cvedetails.com/cve/CVE-2015-8467/   \n",
       "4      Partial  CVE-2015-8467  https://www.cvedetails.com/cve/CVE-2015-8467/   \n",
       "\n",
       "    CWE ID Complexity Confidentiality  ... lang  lines_after lines_before  \\\n",
       "0  CWE-264     Medium         Partial  ...    C          NaN          NaN   \n",
       "1  CWE-264     Medium         Partial  ...    C          NaN          NaN   \n",
       "2  CWE-264     Medium         Partial  ...    C          NaN          NaN   \n",
       "3  CWE-264     Medium         Partial  ...    C          NaN          NaN   \n",
       "4  CWE-264     Medium         Partial  ...    C          NaN          NaN   \n",
       "\n",
       "                                   parentID  \\\n",
       "0  a819d2b440aafa3138d95ff6e8b824da885a70e9   \n",
       "1  a819d2b440aafa3138d95ff6e8b824da885a70e9   \n",
       "2  a819d2b440aafa3138d95ff6e8b824da885a70e9   \n",
       "3  a819d2b440aafa3138d95ff6e8b824da885a70e9   \n",
       "4  a819d2b440aafa3138d95ff6e8b824da885a70e9   \n",
       "\n",
       "                                               patch project  \\\n",
       "0  @@ -1558,12 +1558,15 @@ static int samldb_chec...   samba   \n",
       "1  @@ -1558,12 +1558,15 @@ static int samldb_chec...   samba   \n",
       "2  @@ -1558,12 +1558,15 @@ static int samldb_chec...   samba   \n",
       "3  @@ -1558,12 +1558,15 @@ static int samldb_chec...   samba   \n",
       "4  @@ -1558,12 +1558,15 @@ static int samldb_chec...   samba   \n",
       "\n",
       "                                       project_after  \\\n",
       "0  https://git.samba.org/?p=samba.git;a=blob;f=so...   \n",
       "1  https://git.samba.org/?p=samba.git;a=blob;f=so...   \n",
       "2  https://git.samba.org/?p=samba.git;a=blob;f=so...   \n",
       "3  https://git.samba.org/?p=samba.git;a=blob;f=so...   \n",
       "4  https://git.samba.org/?p=samba.git;a=blob;f=so...   \n",
       "\n",
       "                                      project_before vul  \\\n",
       "0  https://git.samba.org/?p=samba.git;a=blob;f=so...   0   \n",
       "1  https://git.samba.org/?p=samba.git;a=blob;f=so...   0   \n",
       "2  https://git.samba.org/?p=samba.git;a=blob;f=so...   0   \n",
       "3  https://git.samba.org/?p=samba.git;a=blob;f=so...   0   \n",
       "4  https://git.samba.org/?p=samba.git;a=blob;f=so...   0   \n",
       "\n",
       "                                   vul_func_with_fix  \n",
       "0  static bool check_rodc_critical_attribute(stru...  \n",
       "1  static int samldb_add_entry(struct samldb_ctx ...  \n",
       "2  static int samldb_add_entry_callback(struct ld...  \n",
       "3  static int samldb_add_handle_msDS_IntId(struct...  \n",
       "4  static int samldb_add_step(struct samldb_ctx *...  \n",
       "\n",
       "[5 rows x 36 columns]"
      ]
     },
     "execution_count": 5,
     "metadata": {},
     "output_type": "execute_result"
    }
   ],
   "source": [
    "df.head(5)"
   ]
  },
  {
   "cell_type": "code",
   "execution_count": 6,
   "metadata": {},
   "outputs": [
    {
     "data": {
      "text/html": [
       "<div>\n",
       "<style scoped>\n",
       "    .dataframe tbody tr th:only-of-type {\n",
       "        vertical-align: middle;\n",
       "    }\n",
       "\n",
       "    .dataframe tbody tr th {\n",
       "        vertical-align: top;\n",
       "    }\n",
       "\n",
       "    .dataframe thead th {\n",
       "        text-align: right;\n",
       "    }\n",
       "</style>\n",
       "<table border=\"1\" class=\"dataframe\">\n",
       "  <thead>\n",
       "    <tr style=\"text-align: right;\">\n",
       "      <th></th>\n",
       "      <th>CWE ID</th>\n",
       "      <th>vul</th>\n",
       "      <th>func_before</th>\n",
       "      <th>func_after</th>\n",
       "      <th>vul_func_with_fix</th>\n",
       "      <th>lang</th>\n",
       "    </tr>\n",
       "  </thead>\n",
       "  <tbody>\n",
       "    <tr>\n",
       "      <th>0</th>\n",
       "      <td>CWE-264</td>\n",
       "      <td>0</td>\n",
       "      <td>static bool check_rodc_critical_attribute(stru...</td>\n",
       "      <td>static bool check_rodc_critical_attribute(stru...</td>\n",
       "      <td>static bool check_rodc_critical_attribute(stru...</td>\n",
       "      <td>C</td>\n",
       "    </tr>\n",
       "    <tr>\n",
       "      <th>1</th>\n",
       "      <td>CWE-264</td>\n",
       "      <td>0</td>\n",
       "      <td>static int samldb_add_entry(struct samldb_ctx ...</td>\n",
       "      <td>static int samldb_add_entry(struct samldb_ctx ...</td>\n",
       "      <td>static int samldb_add_entry(struct samldb_ctx ...</td>\n",
       "      <td>C</td>\n",
       "    </tr>\n",
       "    <tr>\n",
       "      <th>2</th>\n",
       "      <td>CWE-264</td>\n",
       "      <td>0</td>\n",
       "      <td>static int samldb_add_entry_callback(struct ld...</td>\n",
       "      <td>static int samldb_add_entry_callback(struct ld...</td>\n",
       "      <td>static int samldb_add_entry_callback(struct ld...</td>\n",
       "      <td>C</td>\n",
       "    </tr>\n",
       "    <tr>\n",
       "      <th>3</th>\n",
       "      <td>CWE-264</td>\n",
       "      <td>0</td>\n",
       "      <td>static int samldb_add_handle_msDS_IntId(struct...</td>\n",
       "      <td>static int samldb_add_handle_msDS_IntId(struct...</td>\n",
       "      <td>static int samldb_add_handle_msDS_IntId(struct...</td>\n",
       "      <td>C</td>\n",
       "    </tr>\n",
       "    <tr>\n",
       "      <th>4</th>\n",
       "      <td>CWE-264</td>\n",
       "      <td>0</td>\n",
       "      <td>static int samldb_add_step(struct samldb_ctx *...</td>\n",
       "      <td>static int samldb_add_step(struct samldb_ctx *...</td>\n",
       "      <td>static int samldb_add_step(struct samldb_ctx *...</td>\n",
       "      <td>C</td>\n",
       "    </tr>\n",
       "    <tr>\n",
       "      <th>5</th>\n",
       "      <td>CWE-264</td>\n",
       "      <td>0</td>\n",
       "      <td>static int samldb_allocate_sid(struct samldb_c...</td>\n",
       "      <td>static int samldb_allocate_sid(struct samldb_c...</td>\n",
       "      <td>static int samldb_allocate_sid(struct samldb_c...</td>\n",
       "      <td>C</td>\n",
       "    </tr>\n",
       "    <tr>\n",
       "      <th>6</th>\n",
       "      <td>CWE-264</td>\n",
       "      <td>0</td>\n",
       "      <td>static int samldb_check_sAMAccountName(struct ...</td>\n",
       "      <td>static int samldb_check_sAMAccountName(struct ...</td>\n",
       "      <td>static int samldb_check_sAMAccountName(struct ...</td>\n",
       "      <td>C</td>\n",
       "    </tr>\n",
       "    <tr>\n",
       "      <th>7</th>\n",
       "      <td>CWE-264</td>\n",
       "      <td>0</td>\n",
       "      <td>static int samldb_check_user_account_control_i...</td>\n",
       "      <td>static int samldb_check_user_account_control_i...</td>\n",
       "      <td>static int samldb_check_user_account_control_i...</td>\n",
       "      <td>C</td>\n",
       "    </tr>\n",
       "    <tr>\n",
       "      <th>8</th>\n",
       "      <td>CWE-264</td>\n",
       "      <td>0</td>\n",
       "      <td>static struct samldb_ctx *samldb_ctx_init(stru...</td>\n",
       "      <td>static struct samldb_ctx *samldb_ctx_init(stru...</td>\n",
       "      <td>static struct samldb_ctx *samldb_ctx_init(stru...</td>\n",
       "      <td>C</td>\n",
       "    </tr>\n",
       "    <tr>\n",
       "      <th>9</th>\n",
       "      <td>CWE-264</td>\n",
       "      <td>0</td>\n",
       "      <td>static int samldb_fill_foreignSecurityPrincipa...</td>\n",
       "      <td>static int samldb_fill_foreignSecurityPrincipa...</td>\n",
       "      <td>static int samldb_fill_foreignSecurityPrincipa...</td>\n",
       "      <td>C</td>\n",
       "    </tr>\n",
       "  </tbody>\n",
       "</table>\n",
       "</div>"
      ],
      "text/plain": [
       "    CWE ID  vul                                        func_before  \\\n",
       "0  CWE-264    0  static bool check_rodc_critical_attribute(stru...   \n",
       "1  CWE-264    0  static int samldb_add_entry(struct samldb_ctx ...   \n",
       "2  CWE-264    0  static int samldb_add_entry_callback(struct ld...   \n",
       "3  CWE-264    0  static int samldb_add_handle_msDS_IntId(struct...   \n",
       "4  CWE-264    0  static int samldb_add_step(struct samldb_ctx *...   \n",
       "5  CWE-264    0  static int samldb_allocate_sid(struct samldb_c...   \n",
       "6  CWE-264    0  static int samldb_check_sAMAccountName(struct ...   \n",
       "7  CWE-264    0  static int samldb_check_user_account_control_i...   \n",
       "8  CWE-264    0  static struct samldb_ctx *samldb_ctx_init(stru...   \n",
       "9  CWE-264    0  static int samldb_fill_foreignSecurityPrincipa...   \n",
       "\n",
       "                                          func_after  \\\n",
       "0  static bool check_rodc_critical_attribute(stru...   \n",
       "1  static int samldb_add_entry(struct samldb_ctx ...   \n",
       "2  static int samldb_add_entry_callback(struct ld...   \n",
       "3  static int samldb_add_handle_msDS_IntId(struct...   \n",
       "4  static int samldb_add_step(struct samldb_ctx *...   \n",
       "5  static int samldb_allocate_sid(struct samldb_c...   \n",
       "6  static int samldb_check_sAMAccountName(struct ...   \n",
       "7  static int samldb_check_user_account_control_i...   \n",
       "8  static struct samldb_ctx *samldb_ctx_init(stru...   \n",
       "9  static int samldb_fill_foreignSecurityPrincipa...   \n",
       "\n",
       "                                   vul_func_with_fix lang  \n",
       "0  static bool check_rodc_critical_attribute(stru...    C  \n",
       "1  static int samldb_add_entry(struct samldb_ctx ...    C  \n",
       "2  static int samldb_add_entry_callback(struct ld...    C  \n",
       "3  static int samldb_add_handle_msDS_IntId(struct...    C  \n",
       "4  static int samldb_add_step(struct samldb_ctx *...    C  \n",
       "5  static int samldb_allocate_sid(struct samldb_c...    C  \n",
       "6  static int samldb_check_sAMAccountName(struct ...    C  \n",
       "7  static int samldb_check_user_account_control_i...    C  \n",
       "8  static struct samldb_ctx *samldb_ctx_init(stru...    C  \n",
       "9  static int samldb_fill_foreignSecurityPrincipa...    C  "
      ]
     },
     "execution_count": 6,
     "metadata": {},
     "output_type": "execute_result"
    }
   ],
   "source": [
    "df =df.loc[:,['CWE ID','vul','func_before','func_after','vul_func_with_fix','lang']]\n",
    "df.head(10)"
   ]
  },
  {
   "cell_type": "code",
   "execution_count": 7,
   "metadata": {},
   "outputs": [
    {
     "data": {
      "text/plain": [
       "vul\n",
       "0    177736\n",
       "1     10900\n",
       "dtype: int64"
      ]
     },
     "execution_count": 7,
     "metadata": {},
     "output_type": "execute_result"
    }
   ],
   "source": [
    "df.value_counts(subset='vul')"
   ]
  },
  {
   "cell_type": "markdown",
   "metadata": {},
   "source": [
    "### Vul=0 but CWE_ID is not non-vulnerable?\n",
    "1. check non-vulnerable code\n",
    "2. check vulnerable code\n",
    "3. check the relationship between vul==0 and CWE_ID==nan\n",
    "4. how many wrong data exsit?\n",
    "* CWE ID == NaN & vul == 1 : vulnerable but no CWE info\n",
    "* CWE ID != Nan & vul == 0 : non-vulnerable but do have CWE info"
   ]
  },
  {
   "cell_type": "markdown",
   "metadata": {},
   "source": [
    "Q. Can non-vulnerable function have a Common Weakness Enumeration (CWE) ID?\n",
    "\n",
    "A. Yes, Non-vulnerable function can have a Common Weakness Enumeration (CWE) ID.\n",
    "\n",
    "CWE is a community-developed list of common software security weaknesses. Each CWE entry identifies a specific type of weakness that can occur in software and provides a description of the issue, as well as guidance on how to identify and mitigate it.\n",
    "\n",
    "Not all CWEs are necessarily exploitable vulnerabilities. Some CWEs describe coding practices that can lead to errors or inefficiencies, but may not necessarily result in security vulnerabilities. In such cases, a non-vulnerable function can still exhibit the weakness described by the CWE, even though it is not a security concern.\n",
    "\n",
    "For example, CWE-562 (\"Return of Stack Variable Address\") describes a coding practice where a function returns a pointer to a stack-allocated variable. This can lead to unpredictable behavior and errors in the program, but it does not necessarily create a vulnerability that can be exploited by an attacker. A function that exhibits this weakness would still have a CWE ID, even if it is not vulnerable to exploitation."
   ]
  },
  {
   "cell_type": "code",
   "execution_count": 8,
   "metadata": {},
   "outputs": [
    {
     "data": {
      "text/html": [
       "<div>\n",
       "<style scoped>\n",
       "    .dataframe tbody tr th:only-of-type {\n",
       "        vertical-align: middle;\n",
       "    }\n",
       "\n",
       "    .dataframe tbody tr th {\n",
       "        vertical-align: top;\n",
       "    }\n",
       "\n",
       "    .dataframe thead th {\n",
       "        text-align: right;\n",
       "    }\n",
       "</style>\n",
       "<table border=\"1\" class=\"dataframe\">\n",
       "  <thead>\n",
       "    <tr style=\"text-align: right;\">\n",
       "      <th></th>\n",
       "      <th>CWE ID</th>\n",
       "      <th>vul</th>\n",
       "      <th>func_before</th>\n",
       "      <th>func_after</th>\n",
       "      <th>vul_func_with_fix</th>\n",
       "      <th>lang</th>\n",
       "    </tr>\n",
       "  </thead>\n",
       "  <tbody>\n",
       "    <tr>\n",
       "      <th>0</th>\n",
       "      <td>CWE-264</td>\n",
       "      <td>0</td>\n",
       "      <td>static bool check_rodc_critical_attribute(stru...</td>\n",
       "      <td>static bool check_rodc_critical_attribute(stru...</td>\n",
       "      <td>static bool check_rodc_critical_attribute(stru...</td>\n",
       "      <td>C</td>\n",
       "    </tr>\n",
       "    <tr>\n",
       "      <th>1</th>\n",
       "      <td>CWE-264</td>\n",
       "      <td>0</td>\n",
       "      <td>static int samldb_add_entry(struct samldb_ctx ...</td>\n",
       "      <td>static int samldb_add_entry(struct samldb_ctx ...</td>\n",
       "      <td>static int samldb_add_entry(struct samldb_ctx ...</td>\n",
       "      <td>C</td>\n",
       "    </tr>\n",
       "    <tr>\n",
       "      <th>2</th>\n",
       "      <td>CWE-264</td>\n",
       "      <td>0</td>\n",
       "      <td>static int samldb_add_entry_callback(struct ld...</td>\n",
       "      <td>static int samldb_add_entry_callback(struct ld...</td>\n",
       "      <td>static int samldb_add_entry_callback(struct ld...</td>\n",
       "      <td>C</td>\n",
       "    </tr>\n",
       "    <tr>\n",
       "      <th>3</th>\n",
       "      <td>CWE-264</td>\n",
       "      <td>0</td>\n",
       "      <td>static int samldb_add_handle_msDS_IntId(struct...</td>\n",
       "      <td>static int samldb_add_handle_msDS_IntId(struct...</td>\n",
       "      <td>static int samldb_add_handle_msDS_IntId(struct...</td>\n",
       "      <td>C</td>\n",
       "    </tr>\n",
       "    <tr>\n",
       "      <th>4</th>\n",
       "      <td>CWE-264</td>\n",
       "      <td>0</td>\n",
       "      <td>static int samldb_add_step(struct samldb_ctx *...</td>\n",
       "      <td>static int samldb_add_step(struct samldb_ctx *...</td>\n",
       "      <td>static int samldb_add_step(struct samldb_ctx *...</td>\n",
       "      <td>C</td>\n",
       "    </tr>\n",
       "  </tbody>\n",
       "</table>\n",
       "</div>"
      ],
      "text/plain": [
       "    CWE ID  vul                                        func_before  \\\n",
       "0  CWE-264    0  static bool check_rodc_critical_attribute(stru...   \n",
       "1  CWE-264    0  static int samldb_add_entry(struct samldb_ctx ...   \n",
       "2  CWE-264    0  static int samldb_add_entry_callback(struct ld...   \n",
       "3  CWE-264    0  static int samldb_add_handle_msDS_IntId(struct...   \n",
       "4  CWE-264    0  static int samldb_add_step(struct samldb_ctx *...   \n",
       "\n",
       "                                          func_after  \\\n",
       "0  static bool check_rodc_critical_attribute(stru...   \n",
       "1  static int samldb_add_entry(struct samldb_ctx ...   \n",
       "2  static int samldb_add_entry_callback(struct ld...   \n",
       "3  static int samldb_add_handle_msDS_IntId(struct...   \n",
       "4  static int samldb_add_step(struct samldb_ctx *...   \n",
       "\n",
       "                                   vul_func_with_fix lang  \n",
       "0  static bool check_rodc_critical_attribute(stru...    C  \n",
       "1  static int samldb_add_entry(struct samldb_ctx ...    C  \n",
       "2  static int samldb_add_entry_callback(struct ld...    C  \n",
       "3  static int samldb_add_handle_msDS_IntId(struct...    C  \n",
       "4  static int samldb_add_step(struct samldb_ctx *...    C  "
      ]
     },
     "execution_count": 8,
     "metadata": {},
     "output_type": "execute_result"
    }
   ],
   "source": [
    "# 1. Test with non-vulnerable dataset\n",
    "non_vul_df = df.loc[df['vul'] == 0]\n",
    "non_vul_tests = non_vul_df.head(5)\n",
    "non_vul_tests"
   ]
  },
  {
   "cell_type": "code",
   "execution_count": 9,
   "metadata": {},
   "outputs": [
    {
     "name": "stdout",
     "output_type": "stream",
     "text": [
      "0-th data----------------------\n",
      "True\n",
      "True\n",
      "True\n",
      "1-th data----------------------\n",
      "True\n",
      "True\n",
      "True\n",
      "2-th data----------------------\n",
      "True\n",
      "True\n",
      "True\n",
      "3-th data----------------------\n",
      "True\n",
      "True\n",
      "True\n",
      "4-th data----------------------\n",
      "True\n",
      "True\n",
      "True\n"
     ]
    }
   ],
   "source": [
    "for index, non_vul_test in non_vul_tests.iterrows():\n",
    "    print(f\"{index}-th data----------------------\")\n",
    "    # func_before and func_after are the same..?\n",
    "    print(non_vul_test['func_before'] == non_vul_test['func_after'])\n",
    "    # func_after and vul_func_with_fix are the same..?\n",
    "    print(non_vul_test['func_after'] == non_vul_test['vul_func_with_fix'])\n",
    "    # func_before and vul_func_with_fix are the same..?\n",
    "    print(non_vul_test['func_before'] == non_vul_test['vul_func_with_fix'])"
   ]
  },
  {
   "cell_type": "code",
   "execution_count": 10,
   "metadata": {},
   "outputs": [
    {
     "data": {
      "text/html": [
       "<div>\n",
       "<style scoped>\n",
       "    .dataframe tbody tr th:only-of-type {\n",
       "        vertical-align: middle;\n",
       "    }\n",
       "\n",
       "    .dataframe tbody tr th {\n",
       "        vertical-align: top;\n",
       "    }\n",
       "\n",
       "    .dataframe thead th {\n",
       "        text-align: right;\n",
       "    }\n",
       "</style>\n",
       "<table border=\"1\" class=\"dataframe\">\n",
       "  <thead>\n",
       "    <tr style=\"text-align: right;\">\n",
       "      <th></th>\n",
       "      <th>CWE ID</th>\n",
       "      <th>vul</th>\n",
       "      <th>func_before</th>\n",
       "      <th>func_after</th>\n",
       "      <th>vul_func_with_fix</th>\n",
       "      <th>lang</th>\n",
       "    </tr>\n",
       "  </thead>\n",
       "  <tbody>\n",
       "    <tr>\n",
       "      <th>177736</th>\n",
       "      <td>CWE-264</td>\n",
       "      <td>1</td>\n",
       "      <td>static int samldb_check_user_account_control_a...</td>\n",
       "      <td>static int samldb_check_user_account_control_a...</td>\n",
       "      <td>static int samldb_check_user_account_control_a...</td>\n",
       "      <td>C</td>\n",
       "    </tr>\n",
       "    <tr>\n",
       "      <th>177737</th>\n",
       "      <td>CWE-119</td>\n",
       "      <td>1</td>\n",
       "      <td>PHPAPI void php_pcre_match_impl(pcre_cache_ent...</td>\n",
       "      <td>PHPAPI void php_pcre_match_impl(pcre_cache_ent...</td>\n",
       "      <td>PHPAPI void php_pcre_match_impl(pcre_cache_ent...</td>\n",
       "      <td>C</td>\n",
       "    </tr>\n",
       "    <tr>\n",
       "      <th>177738</th>\n",
       "      <td>CWE-119</td>\n",
       "      <td>1</td>\n",
       "      <td>static int scan(Scanner *s)\\n{\\n\\tuchar *curso...</td>\n",
       "      <td>static int scan(Scanner *s)\\n{\\n\\tuchar *curso...</td>\n",
       "      <td>static int scan(Scanner *s)\\n{\\n\\tuchar *curso...</td>\n",
       "      <td>C</td>\n",
       "    </tr>\n",
       "  </tbody>\n",
       "</table>\n",
       "</div>"
      ],
      "text/plain": [
       "         CWE ID  vul                                        func_before  \\\n",
       "177736  CWE-264    1  static int samldb_check_user_account_control_a...   \n",
       "177737  CWE-119    1  PHPAPI void php_pcre_match_impl(pcre_cache_ent...   \n",
       "177738  CWE-119    1  static int scan(Scanner *s)\\n{\\n\\tuchar *curso...   \n",
       "\n",
       "                                               func_after  \\\n",
       "177736  static int samldb_check_user_account_control_a...   \n",
       "177737  PHPAPI void php_pcre_match_impl(pcre_cache_ent...   \n",
       "177738  static int scan(Scanner *s)\\n{\\n\\tuchar *curso...   \n",
       "\n",
       "                                        vul_func_with_fix lang  \n",
       "177736  static int samldb_check_user_account_control_a...    C  \n",
       "177737  PHPAPI void php_pcre_match_impl(pcre_cache_ent...    C  \n",
       "177738  static int scan(Scanner *s)\\n{\\n\\tuchar *curso...    C  "
      ]
     },
     "execution_count": 10,
     "metadata": {},
     "output_type": "execute_result"
    }
   ],
   "source": [
    "# 2. Test vulnerable data\n",
    "vul_df = df.loc[df['vul'] == 1]\n",
    "vul_tests = vul_df.head(3)\n",
    "vul_tests"
   ]
  },
  {
   "cell_type": "code",
   "execution_count": 11,
   "metadata": {},
   "outputs": [
    {
     "name": "stdout",
     "output_type": "stream",
     "text": [
      "177736-th data----------------------\n",
      "False\n",
      "False\n",
      "False\n",
      "177737-th data----------------------\n",
      "False\n",
      "False\n",
      "False\n",
      "177738-th data----------------------\n",
      "False\n",
      "False\n",
      "False\n"
     ]
    }
   ],
   "source": [
    "for index, vul_test in vul_tests.iterrows():\n",
    "    print(f\"{index}-th data----------------------\")\n",
    "    print(vul_test['func_before'] == vul_test['func_after'])\n",
    "    print(vul_test['func_after'] == vul_test['vul_func_with_fix'])\n",
    "    print(vul_test['func_before'] == vul_test['vul_func_with_fix'])"
   ]
  },
  {
   "cell_type": "code",
   "execution_count": 12,
   "metadata": {
    "scrolled": true
   },
   "outputs": [
    {
     "name": "stdout",
     "output_type": "stream",
     "text": [
      "['CWE-264', 'CWE-119', 'CWE-310', 'CWE-189', 'CWE-200', nan, 'CWE-20', 'CWE-416', 'CWE-399', 'CWE-835', 'CWE-125', 'CWE-347', 'CWE-190', 'CWE-94', 'CWE-17', 'CWE-362', 'CWE-704', 'CWE-354', 'CWE-78', 'CWE-59', 'CWE-269', 'CWE-388', 'CWE-617', 'CWE-476', 'CWE-769', 'CWE-787', 'CWE-754', 'CWE-502', 'CWE-22', 'CWE-665', 'CWE-254', 'CWE-772', 'CWE-290', 'CWE-400', 'CWE-369', 'CWE-284', 'CWE-93', 'CWE-415', 'CWE-674', 'CWE-311', 'CWE-330', 'CWE-327', 'CWE-320', 'CWE-77', 'CWE-134', 'CWE-732', 'CWE-287', 'CWE-16', 'CWE-89', 'CWE-255', 'CWE-18', 'CWE-19', 'CWE-285', 'CWE-74', 'CWE-79', 'CWE-404', 'CWE-862', 'CWE-834', 'CWE-494', 'CWE-755', 'CWE-129', 'CWE-191', 'CWE-682', 'CWE-522', 'CWE-918', 'CWE-358', 'CWE-295', 'CWE-770', 'CWE-346', 'CWE-532', 'CWE-426', 'CWE-824', 'CWE-693', 'CWE-352', 'CWE-436', 'CWE-90', 'CWE-763', 'CWE-120', 'CWE-611', 'CWE-601', 'CWE-706', 'CWE-361', 'CWE-281', 'CWE-1021', 'CWE-668', 'CWE-664', 'CWE-172', 'CWE-909', 'CWE-209', 'CWE-345', 'CWE-331', 'CWE-252']\n"
     ]
    }
   ],
   "source": [
    "# 3. check the relationship between vul==0 and CWE_ID==nan\n",
    "cwe_list = df['CWE ID'].unique().tolist()\n",
    "print(cwe_list)"
   ]
  },
  {
   "cell_type": "code",
   "execution_count": 13,
   "metadata": {},
   "outputs": [
    {
     "data": {
      "text/html": [
       "<div>\n",
       "<style scoped>\n",
       "    .dataframe tbody tr th:only-of-type {\n",
       "        vertical-align: middle;\n",
       "    }\n",
       "\n",
       "    .dataframe tbody tr th {\n",
       "        vertical-align: top;\n",
       "    }\n",
       "\n",
       "    .dataframe thead th {\n",
       "        text-align: right;\n",
       "    }\n",
       "</style>\n",
       "<table border=\"1\" class=\"dataframe\">\n",
       "  <thead>\n",
       "    <tr style=\"text-align: right;\">\n",
       "      <th></th>\n",
       "      <th>CWE ID</th>\n",
       "      <th>vul</th>\n",
       "      <th>func_before</th>\n",
       "      <th>func_after</th>\n",
       "      <th>vul_func_with_fix</th>\n",
       "      <th>lang</th>\n",
       "    </tr>\n",
       "  </thead>\n",
       "  <tbody>\n",
       "    <tr>\n",
       "      <th>227</th>\n",
       "      <td>NaN</td>\n",
       "      <td>0</td>\n",
       "      <td>attr_count (void)\\n{\\n  return attrhash-&gt;count...</td>\n",
       "      <td>attr_count (void)\\n{\\n  return attrhash-&gt;count...</td>\n",
       "      <td>attr_count (void)\\n{\\n  return attrhash-&gt;count...</td>\n",
       "      <td>C</td>\n",
       "    </tr>\n",
       "    <tr>\n",
       "      <th>228</th>\n",
       "      <td>NaN</td>\n",
       "      <td>0</td>\n",
       "      <td>attr_show_all (struct vty *vty)\\n{\\n  hash_ite...</td>\n",
       "      <td>attr_show_all (struct vty *vty)\\n{\\n  hash_ite...</td>\n",
       "      <td>attr_show_all (struct vty *vty)\\n{\\n  hash_ite...</td>\n",
       "      <td>C</td>\n",
       "    </tr>\n",
       "    <tr>\n",
       "      <th>229</th>\n",
       "      <td>NaN</td>\n",
       "      <td>0</td>\n",
       "      <td>attr_show_all_iterator (struct hash_backet *ba...</td>\n",
       "      <td>attr_show_all_iterator (struct hash_backet *ba...</td>\n",
       "      <td>attr_show_all_iterator (struct hash_backet *ba...</td>\n",
       "      <td>C</td>\n",
       "    </tr>\n",
       "    <tr>\n",
       "      <th>230</th>\n",
       "      <td>NaN</td>\n",
       "      <td>0</td>\n",
       "      <td>attr_unknown_count (void)\\n{\\n  return transit...</td>\n",
       "      <td>attr_unknown_count (void)\\n{\\n  return transit...</td>\n",
       "      <td>attr_unknown_count (void)\\n{\\n  return transit...</td>\n",
       "      <td>C</td>\n",
       "    </tr>\n",
       "    <tr>\n",
       "      <th>231</th>\n",
       "      <td>NaN</td>\n",
       "      <td>0</td>\n",
       "      <td>attrhash_cmp (const void *p1, const void *p2)\\...</td>\n",
       "      <td>attrhash_cmp (const void *p1, const void *p2)\\...</td>\n",
       "      <td>attrhash_cmp (const void *p1, const void *p2)\\...</td>\n",
       "      <td>C</td>\n",
       "    </tr>\n",
       "    <tr>\n",
       "      <th>...</th>\n",
       "      <td>...</td>\n",
       "      <td>...</td>\n",
       "      <td>...</td>\n",
       "      <td>...</td>\n",
       "      <td>...</td>\n",
       "      <td>...</td>\n",
       "    </tr>\n",
       "    <tr>\n",
       "      <th>188088</th>\n",
       "      <td>NaN</td>\n",
       "      <td>1</td>\n",
       "      <td>int vp8dx_receive_compressed_data(VP8D_COMP *p...</td>\n",
       "      <td>int vp8dx_receive_compressed_data(VP8D_COMP *p...</td>\n",
       "      <td>int vp8dx_receive_compressed_data(VP8D_COMP *p...</td>\n",
       "      <td>C</td>\n",
       "    </tr>\n",
       "    <tr>\n",
       "      <th>188089</th>\n",
       "      <td>NaN</td>\n",
       "      <td>1</td>\n",
       "      <td>void vp8_decoder_remove_threads(VP8D_COMP *pbi...</td>\n",
       "      <td>void vp8_decoder_remove_threads(VP8D_COMP *pbi...</td>\n",
       "      <td>void vp8_decoder_remove_threads(VP8D_COMP *pbi...</td>\n",
       "      <td>C</td>\n",
       "    </tr>\n",
       "    <tr>\n",
       "      <th>188090</th>\n",
       "      <td>NaN</td>\n",
       "      <td>1</td>\n",
       "      <td>void vp8mt_de_alloc_temp_buffers(VP8D_COMP *pb...</td>\n",
       "      <td>void vp8mt_de_alloc_temp_buffers(VP8D_COMP *pb...</td>\n",
       "      <td>void vp8mt_de_alloc_temp_buffers(VP8D_COMP *pb...</td>\n",
       "      <td>C</td>\n",
       "    </tr>\n",
       "    <tr>\n",
       "      <th>188091</th>\n",
       "      <td>NaN</td>\n",
       "      <td>1</td>\n",
       "      <td>sp&lt;VBRISeeker&gt; VBRISeeker::CreateFromSource(\\n...</td>\n",
       "      <td>sp&lt;VBRISeeker&gt; VBRISeeker::CreateFromSource(\\n...</td>\n",
       "      <td>sp&lt;VBRISeeker&gt; VBRISeeker::CreateFromSource(\\n...</td>\n",
       "      <td>C</td>\n",
       "    </tr>\n",
       "    <tr>\n",
       "      <th>188092</th>\n",
       "      <td>NaN</td>\n",
       "      <td>1</td>\n",
       "      <td>WORD32 ihevcd_decode(iv_obj_t *ps_codec_obj, v...</td>\n",
       "      <td>WORD32 ihevcd_decode(iv_obj_t *ps_codec_obj, v...</td>\n",
       "      <td>WORD32 ihevcd_decode(iv_obj_t *ps_codec_obj, v...</td>\n",
       "      <td>C</td>\n",
       "    </tr>\n",
       "  </tbody>\n",
       "</table>\n",
       "<p>36205 rows × 6 columns</p>\n",
       "</div>"
      ],
      "text/plain": [
       "       CWE ID  vul                                        func_before  \\\n",
       "227       NaN    0  attr_count (void)\\n{\\n  return attrhash->count...   \n",
       "228       NaN    0  attr_show_all (struct vty *vty)\\n{\\n  hash_ite...   \n",
       "229       NaN    0  attr_show_all_iterator (struct hash_backet *ba...   \n",
       "230       NaN    0  attr_unknown_count (void)\\n{\\n  return transit...   \n",
       "231       NaN    0  attrhash_cmp (const void *p1, const void *p2)\\...   \n",
       "...       ...  ...                                                ...   \n",
       "188088    NaN    1  int vp8dx_receive_compressed_data(VP8D_COMP *p...   \n",
       "188089    NaN    1  void vp8_decoder_remove_threads(VP8D_COMP *pbi...   \n",
       "188090    NaN    1  void vp8mt_de_alloc_temp_buffers(VP8D_COMP *pb...   \n",
       "188091    NaN    1  sp<VBRISeeker> VBRISeeker::CreateFromSource(\\n...   \n",
       "188092    NaN    1  WORD32 ihevcd_decode(iv_obj_t *ps_codec_obj, v...   \n",
       "\n",
       "                                               func_after  \\\n",
       "227     attr_count (void)\\n{\\n  return attrhash->count...   \n",
       "228     attr_show_all (struct vty *vty)\\n{\\n  hash_ite...   \n",
       "229     attr_show_all_iterator (struct hash_backet *ba...   \n",
       "230     attr_unknown_count (void)\\n{\\n  return transit...   \n",
       "231     attrhash_cmp (const void *p1, const void *p2)\\...   \n",
       "...                                                   ...   \n",
       "188088  int vp8dx_receive_compressed_data(VP8D_COMP *p...   \n",
       "188089  void vp8_decoder_remove_threads(VP8D_COMP *pbi...   \n",
       "188090  void vp8mt_de_alloc_temp_buffers(VP8D_COMP *pb...   \n",
       "188091  sp<VBRISeeker> VBRISeeker::CreateFromSource(\\n...   \n",
       "188092  WORD32 ihevcd_decode(iv_obj_t *ps_codec_obj, v...   \n",
       "\n",
       "                                        vul_func_with_fix lang  \n",
       "227     attr_count (void)\\n{\\n  return attrhash->count...    C  \n",
       "228     attr_show_all (struct vty *vty)\\n{\\n  hash_ite...    C  \n",
       "229     attr_show_all_iterator (struct hash_backet *ba...    C  \n",
       "230     attr_unknown_count (void)\\n{\\n  return transit...    C  \n",
       "231     attrhash_cmp (const void *p1, const void *p2)\\...    C  \n",
       "...                                                   ...  ...  \n",
       "188088  int vp8dx_receive_compressed_data(VP8D_COMP *p...    C  \n",
       "188089  void vp8_decoder_remove_threads(VP8D_COMP *pbi...    C  \n",
       "188090  void vp8mt_de_alloc_temp_buffers(VP8D_COMP *pb...    C  \n",
       "188091  sp<VBRISeeker> VBRISeeker::CreateFromSource(\\n...    C  \n",
       "188092  WORD32 ihevcd_decode(iv_obj_t *ps_codec_obj, v...    C  \n",
       "\n",
       "[36205 rows x 6 columns]"
      ]
     },
     "execution_count": 13,
     "metadata": {},
     "output_type": "execute_result"
    }
   ],
   "source": [
    "# select rows with NaN values\n",
    "# CWE ID NaN for both vul 0 and 1 ----->???????????????????????????\n",
    "nan_df = df.loc[df.isna().any(axis=1)]\n",
    "nan_df"
   ]
  },
  {
   "cell_type": "markdown",
   "metadata": {},
   "source": [
    "### Drop no CWE & vulnerable"
   ]
  },
  {
   "cell_type": "code",
   "execution_count": 14,
   "metadata": {},
   "outputs": [
    {
     "name": "stdout",
     "output_type": "stream",
     "text": [
      "CWE ID                  0\n",
      "vul                  2117\n",
      "func_before          2117\n",
      "func_after           2117\n",
      "vul_func_with_fix    2117\n",
      "lang                 2117\n",
      "dtype: int64\n"
     ]
    },
    {
     "data": {
      "text/html": [
       "<div>\n",
       "<style scoped>\n",
       "    .dataframe tbody tr th:only-of-type {\n",
       "        vertical-align: middle;\n",
       "    }\n",
       "\n",
       "    .dataframe tbody tr th {\n",
       "        vertical-align: top;\n",
       "    }\n",
       "\n",
       "    .dataframe thead th {\n",
       "        text-align: right;\n",
       "    }\n",
       "</style>\n",
       "<table border=\"1\" class=\"dataframe\">\n",
       "  <thead>\n",
       "    <tr style=\"text-align: right;\">\n",
       "      <th></th>\n",
       "      <th>CWE ID</th>\n",
       "      <th>vul</th>\n",
       "      <th>func_before</th>\n",
       "      <th>func_after</th>\n",
       "      <th>vul_func_with_fix</th>\n",
       "      <th>lang</th>\n",
       "    </tr>\n",
       "  </thead>\n",
       "  <tbody>\n",
       "    <tr>\n",
       "      <th>177745</th>\n",
       "      <td>NaN</td>\n",
       "      <td>1</td>\n",
       "      <td>int phar_get_entry_data(phar_entry_data **ret,...</td>\n",
       "      <td>int phar_get_entry_data(phar_entry_data **ret,...</td>\n",
       "      <td>int phar_get_entry_data(phar_entry_data **ret,...</td>\n",
       "      <td>C</td>\n",
       "    </tr>\n",
       "    <tr>\n",
       "      <th>177747</th>\n",
       "      <td>NaN</td>\n",
       "      <td>1</td>\n",
       "      <td>bgp_attr_unknown (struct bgp_attr_parser_args...</td>\n",
       "      <td>bgp_attr_unknown (struct bgp_attr_parser_args...</td>\n",
       "      <td>bgp_attr_unknown (struct bgp_attr_parser_args...</td>\n",
       "      <td>C</td>\n",
       "    </tr>\n",
       "    <tr>\n",
       "      <th>177769</th>\n",
       "      <td>NaN</td>\n",
       "      <td>1</td>\n",
       "      <td>int recv_files(int f_in, int f_out, char *loca...</td>\n",
       "      <td>int recv_files(int f_in, int f_out, char *loca...</td>\n",
       "      <td>int recv_files(int f_in, int f_out, char *loca...</td>\n",
       "      <td>C</td>\n",
       "    </tr>\n",
       "  </tbody>\n",
       "</table>\n",
       "</div>"
      ],
      "text/plain": [
       "       CWE ID  vul                                        func_before  \\\n",
       "177745    NaN    1  int phar_get_entry_data(phar_entry_data **ret,...   \n",
       "177747    NaN    1   bgp_attr_unknown (struct bgp_attr_parser_args...   \n",
       "177769    NaN    1  int recv_files(int f_in, int f_out, char *loca...   \n",
       "\n",
       "                                               func_after  \\\n",
       "177745  int phar_get_entry_data(phar_entry_data **ret,...   \n",
       "177747   bgp_attr_unknown (struct bgp_attr_parser_args...   \n",
       "177769  int recv_files(int f_in, int f_out, char *loca...   \n",
       "\n",
       "                                        vul_func_with_fix lang  \n",
       "177745  int phar_get_entry_data(phar_entry_data **ret,...    C  \n",
       "177747   bgp_attr_unknown (struct bgp_attr_parser_args...    C  \n",
       "177769  int recv_files(int f_in, int f_out, char *loca...    C  "
      ]
     },
     "execution_count": 14,
     "metadata": {},
     "output_type": "execute_result"
    }
   ],
   "source": [
    "# 4. how many wrong data exsit?\n",
    "# 4-1. CWE ID == NaN & vul == 1 : vulnerable but no CWE info\n",
    "\n",
    "no_cwe_vul = df[(df['CWE ID'].isna()) & (df['vul'] == 1)]\n",
    "print(no_cwe_vul.count())\n",
    "no_cwe_vul.head(3)"
   ]
  },
  {
   "cell_type": "code",
   "execution_count": 15,
   "metadata": {},
   "outputs": [
    {
     "data": {
      "text/plain": [
       "CWE ID               0\n",
       "vul                  0\n",
       "func_before          0\n",
       "func_after           0\n",
       "vul_func_with_fix    0\n",
       "lang                 0\n",
       "dtype: int64"
      ]
     },
     "execution_count": 15,
     "metadata": {},
     "output_type": "execute_result"
    }
   ],
   "source": [
    "# drop rows where the code is vulnerable but not having CWE id information\n",
    "df = df.drop(no_cwe_vul.index)\n",
    "\n",
    "# check\n",
    "df[(df['CWE ID'].isna()) & (df['vul'] == 1)].count()"
   ]
  },
  {
   "cell_type": "code",
   "execution_count": 16,
   "metadata": {},
   "outputs": [
    {
     "name": "stdout",
     "output_type": "stream",
     "text": [
      "CWE ID               143648\n",
      "vul                  143648\n",
      "func_before          143648\n",
      "func_after           143648\n",
      "vul_func_with_fix    143648\n",
      "lang                 143648\n",
      "dtype: int64\n"
     ]
    },
    {
     "data": {
      "text/html": [
       "<div>\n",
       "<style scoped>\n",
       "    .dataframe tbody tr th:only-of-type {\n",
       "        vertical-align: middle;\n",
       "    }\n",
       "\n",
       "    .dataframe tbody tr th {\n",
       "        vertical-align: top;\n",
       "    }\n",
       "\n",
       "    .dataframe thead th {\n",
       "        text-align: right;\n",
       "    }\n",
       "</style>\n",
       "<table border=\"1\" class=\"dataframe\">\n",
       "  <thead>\n",
       "    <tr style=\"text-align: right;\">\n",
       "      <th></th>\n",
       "      <th>CWE ID</th>\n",
       "      <th>vul</th>\n",
       "      <th>func_before</th>\n",
       "      <th>func_after</th>\n",
       "      <th>vul_func_with_fix</th>\n",
       "      <th>lang</th>\n",
       "    </tr>\n",
       "  </thead>\n",
       "  <tbody>\n",
       "    <tr>\n",
       "      <th>0</th>\n",
       "      <td>CWE-264</td>\n",
       "      <td>0</td>\n",
       "      <td>static bool check_rodc_critical_attribute(stru...</td>\n",
       "      <td>static bool check_rodc_critical_attribute(stru...</td>\n",
       "      <td>static bool check_rodc_critical_attribute(stru...</td>\n",
       "      <td>C</td>\n",
       "    </tr>\n",
       "    <tr>\n",
       "      <th>1</th>\n",
       "      <td>CWE-264</td>\n",
       "      <td>0</td>\n",
       "      <td>static int samldb_add_entry(struct samldb_ctx ...</td>\n",
       "      <td>static int samldb_add_entry(struct samldb_ctx ...</td>\n",
       "      <td>static int samldb_add_entry(struct samldb_ctx ...</td>\n",
       "      <td>C</td>\n",
       "    </tr>\n",
       "    <tr>\n",
       "      <th>2</th>\n",
       "      <td>CWE-264</td>\n",
       "      <td>0</td>\n",
       "      <td>static int samldb_add_entry_callback(struct ld...</td>\n",
       "      <td>static int samldb_add_entry_callback(struct ld...</td>\n",
       "      <td>static int samldb_add_entry_callback(struct ld...</td>\n",
       "      <td>C</td>\n",
       "    </tr>\n",
       "  </tbody>\n",
       "</table>\n",
       "</div>"
      ],
      "text/plain": [
       "    CWE ID  vul                                        func_before  \\\n",
       "0  CWE-264    0  static bool check_rodc_critical_attribute(stru...   \n",
       "1  CWE-264    0  static int samldb_add_entry(struct samldb_ctx ...   \n",
       "2  CWE-264    0  static int samldb_add_entry_callback(struct ld...   \n",
       "\n",
       "                                          func_after  \\\n",
       "0  static bool check_rodc_critical_attribute(stru...   \n",
       "1  static int samldb_add_entry(struct samldb_ctx ...   \n",
       "2  static int samldb_add_entry_callback(struct ld...   \n",
       "\n",
       "                                   vul_func_with_fix lang  \n",
       "0  static bool check_rodc_critical_attribute(stru...    C  \n",
       "1  static int samldb_add_entry(struct samldb_ctx ...    C  \n",
       "2  static int samldb_add_entry_callback(struct ld...    C  "
      ]
     },
     "execution_count": 16,
     "metadata": {},
     "output_type": "execute_result"
    }
   ],
   "source": [
    "# 4.2 CWE ID != Nan & vul == 0 : non-vulnerable but do have CWE info\n",
    "# make new label column : non-vulnerable\n",
    "cwe_with_non_vul = df[(df['CWE ID'].notnull()) & (df['vul'] == 0)]\n",
    "print(cwe_with_non_vul.count())\n",
    "cwe_with_non_vul.head(3)"
   ]
  },
  {
   "cell_type": "markdown",
   "metadata": {},
   "source": [
    "### Add a new cwe id column for labeling exceptional cases"
   ]
  },
  {
   "cell_type": "code",
   "execution_count": 17,
   "metadata": {},
   "outputs": [],
   "source": [
    "index_list = list(cwe_with_non_vul.index)\n",
    "\n",
    "df['cwe_id_new'] = df['CWE ID']\n",
    "# iterate over the index_list and add \"-non-vul\" to the current value of \"cwe_id_new\"\n",
    "for i in index_list:\n",
    "    df.loc[i, 'cwe_id_new'] = \"non-vulnerable\""
   ]
  },
  {
   "cell_type": "code",
   "execution_count": 18,
   "metadata": {},
   "outputs": [
    {
     "name": "stdout",
     "output_type": "stream",
     "text": [
      "['non-vulnerable', nan, 'CWE-264', 'CWE-119', 'CWE-310', 'CWE-189', 'CWE-200', 'CWE-20', 'CWE-416', 'CWE-399', 'CWE-835', 'CWE-125', 'CWE-347', 'CWE-190', 'CWE-17', 'CWE-362', 'CWE-704', 'CWE-354', 'CWE-209', 'CWE-78', 'CWE-59', 'CWE-388', 'CWE-617', 'CWE-476', 'CWE-787', 'CWE-682', 'CWE-754', 'CWE-502', 'CWE-22', 'CWE-665', 'CWE-254', 'CWE-772', 'CWE-400', 'CWE-369', 'CWE-284', 'CWE-345', 'CWE-674', 'CWE-311', 'CWE-330', 'CWE-327', 'CWE-320', 'CWE-94', 'CWE-415', 'CWE-134', 'CWE-732', 'CWE-331', 'CWE-287', 'CWE-16', 'CWE-89', 'CWE-255', 'CWE-18', 'CWE-19', 'CWE-285', 'CWE-74', 'CWE-79', 'CWE-862', 'CWE-269', 'CWE-834', 'CWE-494', 'CWE-770', 'CWE-755', 'CWE-129', 'CWE-404', 'CWE-191', 'CWE-522', 'CWE-918', 'CWE-358', 'CWE-295', 'CWE-346', 'CWE-532', 'CWE-426', 'CWE-77', 'CWE-824', 'CWE-693', 'CWE-352', 'CWE-436', 'CWE-90', 'CWE-290', 'CWE-763', 'CWE-120', 'CWE-611', 'CWE-601', 'CWE-361', 'CWE-281', 'CWE-1021', 'CWE-668', 'CWE-664', 'CWE-172', 'CWE-252', 'CWE-909']\n"
     ]
    }
   ],
   "source": [
    "# 3. check the relationship between vul==0 and CWE_ID==nan\n",
    "cwe_new_list = df['cwe_id_new'].unique().tolist()\n",
    "print(cwe_new_list)"
   ]
  },
  {
   "cell_type": "code",
   "execution_count": 19,
   "metadata": {},
   "outputs": [
    {
     "name": "stdout",
     "output_type": "stream",
     "text": [
      "Original # of cwe id: 92,\n",
      " # of New cwe id: 90, \n",
      " # of created cwe ids: -2\n"
     ]
    }
   ],
   "source": [
    "print(f\"Original # of cwe id: {len(cwe_list)},\\n # of New cwe id: {len(cwe_new_list)}, \\n # of created cwe ids: {len(cwe_new_list)-len(cwe_list)}\")"
   ]
  },
  {
   "cell_type": "code",
   "execution_count": 20,
   "metadata": {},
   "outputs": [
    {
     "name": "stdout",
     "output_type": "stream",
     "text": [
      "CWE ID                   0\n",
      "vul                  34088\n",
      "func_before          34088\n",
      "func_after           34088\n",
      "vul_func_with_fix    34088\n",
      "lang                 34088\n",
      "cwe_id_new               0\n",
      "dtype: int64\n"
     ]
    },
    {
     "data": {
      "text/html": [
       "<div>\n",
       "<style scoped>\n",
       "    .dataframe tbody tr th:only-of-type {\n",
       "        vertical-align: middle;\n",
       "    }\n",
       "\n",
       "    .dataframe tbody tr th {\n",
       "        vertical-align: top;\n",
       "    }\n",
       "\n",
       "    .dataframe thead th {\n",
       "        text-align: right;\n",
       "    }\n",
       "</style>\n",
       "<table border=\"1\" class=\"dataframe\">\n",
       "  <thead>\n",
       "    <tr style=\"text-align: right;\">\n",
       "      <th></th>\n",
       "      <th>CWE ID</th>\n",
       "      <th>vul</th>\n",
       "      <th>func_before</th>\n",
       "      <th>func_after</th>\n",
       "      <th>vul_func_with_fix</th>\n",
       "      <th>lang</th>\n",
       "      <th>cwe_id_new</th>\n",
       "    </tr>\n",
       "  </thead>\n",
       "  <tbody>\n",
       "    <tr>\n",
       "      <th>227</th>\n",
       "      <td>NaN</td>\n",
       "      <td>0</td>\n",
       "      <td>attr_count (void)\\n{\\n  return attrhash-&gt;count...</td>\n",
       "      <td>attr_count (void)\\n{\\n  return attrhash-&gt;count...</td>\n",
       "      <td>attr_count (void)\\n{\\n  return attrhash-&gt;count...</td>\n",
       "      <td>C</td>\n",
       "      <td>NaN</td>\n",
       "    </tr>\n",
       "    <tr>\n",
       "      <th>228</th>\n",
       "      <td>NaN</td>\n",
       "      <td>0</td>\n",
       "      <td>attr_show_all (struct vty *vty)\\n{\\n  hash_ite...</td>\n",
       "      <td>attr_show_all (struct vty *vty)\\n{\\n  hash_ite...</td>\n",
       "      <td>attr_show_all (struct vty *vty)\\n{\\n  hash_ite...</td>\n",
       "      <td>C</td>\n",
       "      <td>NaN</td>\n",
       "    </tr>\n",
       "    <tr>\n",
       "      <th>229</th>\n",
       "      <td>NaN</td>\n",
       "      <td>0</td>\n",
       "      <td>attr_show_all_iterator (struct hash_backet *ba...</td>\n",
       "      <td>attr_show_all_iterator (struct hash_backet *ba...</td>\n",
       "      <td>attr_show_all_iterator (struct hash_backet *ba...</td>\n",
       "      <td>C</td>\n",
       "      <td>NaN</td>\n",
       "    </tr>\n",
       "  </tbody>\n",
       "</table>\n",
       "</div>"
      ],
      "text/plain": [
       "    CWE ID  vul                                        func_before  \\\n",
       "227    NaN    0  attr_count (void)\\n{\\n  return attrhash->count...   \n",
       "228    NaN    0  attr_show_all (struct vty *vty)\\n{\\n  hash_ite...   \n",
       "229    NaN    0  attr_show_all_iterator (struct hash_backet *ba...   \n",
       "\n",
       "                                            func_after  \\\n",
       "227  attr_count (void)\\n{\\n  return attrhash->count...   \n",
       "228  attr_show_all (struct vty *vty)\\n{\\n  hash_ite...   \n",
       "229  attr_show_all_iterator (struct hash_backet *ba...   \n",
       "\n",
       "                                     vul_func_with_fix lang cwe_id_new  \n",
       "227  attr_count (void)\\n{\\n  return attrhash->count...    C        NaN  \n",
       "228  attr_show_all (struct vty *vty)\\n{\\n  hash_ite...    C        NaN  \n",
       "229  attr_show_all_iterator (struct hash_backet *ba...    C        NaN  "
      ]
     },
     "execution_count": 20,
     "metadata": {},
     "output_type": "execute_result"
    }
   ],
   "source": [
    "no_cwe_with_non_vul = df[(df['CWE ID'].isna()) & (df['vul'] == 0)]\n",
    "print(no_cwe_with_non_vul.count())\n",
    "no_cwe_with_non_vul.head(3)"
   ]
  },
  {
   "cell_type": "code",
   "execution_count": 21,
   "metadata": {},
   "outputs": [],
   "source": [
    "# iterate over the index_list and add \"-non-vul\" to the current value of \"CWE ID\"\n",
    "non_vul_index_list = list(no_cwe_with_non_vul.index)\n",
    "for i in non_vul_index_list:\n",
    "    df.loc[i, 'CWE ID'] = \"non-vulnerable\"\n",
    "    df.loc[i, 'cwe_id_new'] = \"non-vulnerable\""
   ]
  },
  {
   "cell_type": "markdown",
   "metadata": {},
   "source": [
    "### Count in Vulnerability classes "
   ]
  },
  {
   "cell_type": "code",
   "execution_count": 22,
   "metadata": {},
   "outputs": [
    {
     "data": {
      "text/plain": [
       "vul\n",
       "0    177736\n",
       "1      8783\n",
       "dtype: int64"
      ]
     },
     "execution_count": 22,
     "metadata": {},
     "output_type": "execute_result"
    }
   ],
   "source": [
    "df.value_counts(subset='vul')"
   ]
  },
  {
   "cell_type": "markdown",
   "metadata": {},
   "source": [
    "### Count in CWE ID classes"
   ]
  },
  {
   "cell_type": "code",
   "execution_count": 23,
   "metadata": {},
   "outputs": [
    {
     "name": "stdout",
     "output_type": "stream",
     "text": [
      "CWE ID\n",
      "non-vulnerable    34088\n",
      "CWE-119           26497\n",
      "CWE-20            20501\n",
      "CWE-399           14806\n",
      "CWE-264           12487\n",
      "                  ...  \n",
      "CWE-769               3\n",
      "CWE-345               2\n",
      "CWE-331               1\n",
      "CWE-209               1\n",
      "CWE-252               1\n",
      "Length: 92, dtype: int64\n"
     ]
    },
    {
     "data": {
      "image/png": "[encoded data removed]",
      "text/plain": [
       "<Figure size 600x1000 with 1 Axes>"
      ]
     },
     "metadata": {},
     "output_type": "display_data"
    }
   ],
   "source": [
    "print(df.value_counts(subset='CWE ID'))\n",
    "plt.figure(figsize=(6, 10))\n",
    "df.value_counts(subset='CWE ID').plot.barh(xlabel='count', ylabel='CWE ID',fontsize=5)\n",
    "plt.show()"
   ]
  },
  {
   "cell_type": "code",
   "execution_count": 24,
   "metadata": {},
   "outputs": [
    {
     "name": "stdout",
     "output_type": "stream",
     "text": [
      "cwe_id_new\n",
      "non-vulnerable    177736\n",
      "CWE-119             2127\n",
      "CWE-20              1142\n",
      "CWE-399              736\n",
      "CWE-125              625\n",
      "                   ...  \n",
      "CWE-668                1\n",
      "CWE-664                1\n",
      "CWE-331                1\n",
      "CWE-352                1\n",
      "CWE-1021               1\n",
      "Length: 89, dtype: int64\n"
     ]
    },
    {
     "data": {
      "image/png": "[encoded data removed]",
      "text/plain": [
       "<Figure size 600x1500 with 1 Axes>"
      ]
     },
     "metadata": {},
     "output_type": "display_data"
    }
   ],
   "source": [
    "print(df.value_counts(subset='cwe_id_new'))\n",
    "\n",
    "# plot the dataframe with increased height\n",
    "plt.figure(figsize=(6, 15))\n",
    "df.value_counts(subset='cwe_id_new').plot.barh(xlabel='count', ylabel='CWE ID NEW',fontsize=6)\n",
    "plt.show()"
   ]
  },
  {
   "cell_type": "markdown",
   "metadata": {},
   "source": [
    "### Remove Reduntancy in programming language"
   ]
  },
  {
   "cell_type": "code",
   "execution_count": 25,
   "metadata": {},
   "outputs": [
    {
     "data": {
      "text/plain": [
       "lang\n",
       "C      183890\n",
       "CPP      2626\n",
       "C++         3\n",
       "dtype: int64"
      ]
     },
     "execution_count": 25,
     "metadata": {},
     "output_type": "execute_result"
    }
   ],
   "source": [
    "df.value_counts(subset='lang')"
   ]
  },
  {
   "cell_type": "code",
   "execution_count": 26,
   "metadata": {},
   "outputs": [],
   "source": [
    "df.loc[df['lang']=='CPP', 'lang'] = 'C++'"
   ]
  },
  {
   "cell_type": "code",
   "execution_count": 27,
   "metadata": {},
   "outputs": [
    {
     "data": {
      "text/plain": [
       "lang\n",
       "C      183890\n",
       "C++      2629\n",
       "dtype: int64"
      ]
     },
     "execution_count": 27,
     "metadata": {},
     "output_type": "execute_result"
    }
   ],
   "source": [
    "df.value_counts(subset='lang')"
   ]
  },
  {
   "cell_type": "code",
   "execution_count": 28,
   "metadata": {},
   "outputs": [],
   "source": [
    "# Save it to csv file\n",
    "df.to_csv(\"preprocessed datasets/MSR_new.csv\")"
   ]
  }
 ],
 "metadata": {
  "kernelspec": {
   "display_name": "Python 3 (ipykernel)",
   "language": "python",
   "name": "python3"
  },
  "language_info": {
   "codemirror_mode": {
    "name": "ipython",
    "version": 3
   },
   "file_extension": ".py",
   "mimetype": "text/x-python",
   "name": "python",
   "nbconvert_exporter": "python",
   "pygments_lexer": "ipython3",
   "version": "3.10.0"
  },
  "vscode": {
   "interpreter": {
    "hash": "3fd8166a1a350b9347661cd8a533d70c8441cfea974c5fb744d1544a83dd5163"
   }
  }
 },
 "nbformat": 4,
 "nbformat_minor": 2
}
