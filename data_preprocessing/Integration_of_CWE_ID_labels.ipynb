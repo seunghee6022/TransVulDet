{
 "cells": [
  {
   "cell_type": "markdown",
   "id": "e94d8faa",
   "metadata": {},
   "source": [
    "# Integration of CWE ID labels\n",
    "* Generate new cwe_id label which integrate the cwe id labels of all three dataset"
   ]
  },
  {
   "cell_type": "code",
   "execution_count": 1,
   "id": "a40149f2",
   "metadata": {},
   "outputs": [],
   "source": [
    "import numpy as np\n",
    "import pandas as pd"
   ]
  },
  {
   "cell_type": "code",
   "execution_count": 2,
   "id": "554f1528",
   "metadata": {},
   "outputs": [],
   "source": [
    "def concat_to_df(df):\n",
    "    df_temp = []\n",
    "    for chunk in df:\n",
    "        df_temp.append(chunk)\n",
    "\n",
    "    df = pd.concat(df_temp,ignore_index = True)\n",
    "    return df"
   ]
  },
  {
   "cell_type": "code",
   "execution_count": 3,
   "id": "5aa90096",
   "metadata": {},
   "outputs": [],
   "source": [
    "msr_df = pd.read_csv('preprocessed datasets/MSR_new.csv', chunksize=10000, index_col=0)"
   ]
  },
  {
   "cell_type": "code",
   "execution_count": 4,
   "id": "7ed65774",
   "metadata": {},
   "outputs": [],
   "source": [
    "mvd_df = pd.read_csv('preprocessed datasets/MVD.csv', chunksize=10000, index_col=0)"
   ]
  },
  {
   "cell_type": "code",
   "execution_count": 5,
   "id": "31ed5427",
   "metadata": {},
   "outputs": [],
   "source": [
    "cfd_df = pd.read_csv('preprocessed datasets/CFD_cwe_id.csv', index_col=0)"
   ]
  },
  {
   "cell_type": "code",
   "execution_count": 6,
   "id": "253bf630",
   "metadata": {},
   "outputs": [
    {
     "data": {
      "text/plain": [
       "1305633"
      ]
     },
     "execution_count": 6,
     "metadata": {},
     "output_type": "execute_result"
    }
   ],
   "source": [
    "msr_df = concat_to_df(msr_df)\n",
    "msr_df.shape"
   ]
  },
  {
   "cell_type": "code",
   "execution_count": 7,
   "id": "39cb0605",
   "metadata": {},
   "outputs": [
    {
     "data": {
      "text/plain": [
       "908205"
      ]
     },
     "execution_count": 7,
     "metadata": {},
     "output_type": "execute_result"
    }
   ],
   "source": [
    "mvd_df = concat_to_df(mvd_df)\n",
    "mvd_df.shape"
   ]
  },
  {
   "cell_type": "code",
   "execution_count": 8,
   "id": "eaebe024",
   "metadata": {},
   "outputs": [
    {
     "name": "stdout",
     "output_type": "stream",
     "text": [
      "7909\n"
     ]
    },
    {
     "data": {
      "text/html": [
       "<div>\n",
       "<style scoped>\n",
       "    .dataframe tbody tr th:only-of-type {\n",
       "        vertical-align: middle;\n",
       "    }\n",
       "\n",
       "    .dataframe tbody tr th {\n",
       "        vertical-align: top;\n",
       "    }\n",
       "\n",
       "    .dataframe thead th {\n",
       "        text-align: right;\n",
       "    }\n",
       "</style>\n",
       "<table border=\"1\" class=\"dataframe\">\n",
       "  <thead>\n",
       "    <tr style=\"text-align: right;\">\n",
       "      <th></th>\n",
       "      <th>cwe_id</th>\n",
       "    </tr>\n",
       "  </thead>\n",
       "  <tbody>\n",
       "    <tr>\n",
       "      <th>0</th>\n",
       "      <td>CWE-252</td>\n",
       "    </tr>\n",
       "    <tr>\n",
       "      <th>1</th>\n",
       "      <td>NVD-CWE-Other</td>\n",
       "    </tr>\n",
       "    <tr>\n",
       "      <th>2</th>\n",
       "      <td>CWE-20</td>\n",
       "    </tr>\n",
       "    <tr>\n",
       "      <th>3</th>\n",
       "      <td>CWE-119</td>\n",
       "    </tr>\n",
       "    <tr>\n",
       "      <th>4</th>\n",
       "      <td>CWE-19</td>\n",
       "    </tr>\n",
       "  </tbody>\n",
       "</table>\n",
       "</div>"
      ],
      "text/plain": [
       "          cwe_id\n",
       "0        CWE-252\n",
       "1  NVD-CWE-Other\n",
       "2         CWE-20\n",
       "3        CWE-119\n",
       "4         CWE-19"
      ]
     },
     "execution_count": 8,
     "metadata": {},
     "output_type": "execute_result"
    }
   ],
   "source": [
    "print(cfd_df.size)\n",
    "cfd_df.head(5)"
   ]
  },
  {
   "cell_type": "markdown",
   "id": "f5d4cafc",
   "metadata": {},
   "source": [
    "### Check overlapped dataset"
   ]
  },
  {
   "cell_type": "code",
   "execution_count": null,
   "id": "8f455c39",
   "metadata": {},
   "outputs": [],
   "source": [
    "def normalize_cwe(cwe_list):\n",
    "    normalized_cwe_list = []\n",
    "    for cwe in cwe_list:\n",
    "        #split the CWEs that contain multiple entries\n",
    "        multiple_cwe = cwe.split(',')\n",
    "        for single_cwe in multiple_cwe:\n",
    "            single_cwe = single_cwe.strip() #remove leading/trailing whitespaces\n",
    "            if '-' in single_cwe:\n",
    "                cwe_prefix, cwe_number = single_cwe.split('-')\n",
    "                # remove leading zeroes\n",
    "                cwe_number = str(int(cwe_number))\n",
    "                normalized_cwe = cwe_prefix + '-' + cwe_number\n",
    "            else:\n",
    "                normalized_cwe = single_cwe\n",
    "            normalized_cwe_list.append(normalized_cwe)\n",
    "    return list(set(normalized_cwe_list))"
   ]
  },
  {
   "cell_type": "code",
   "execution_count": 9,
   "id": "78518e76",
   "metadata": {},
   "outputs": [
    {
     "name": "stdout",
     "output_type": "stream",
     "text": [
      "92\n"
     ]
    },
    {
     "data": {
      "text/plain": [
       "array(['CWE-264', 'CWE-119', 'CWE-310', 'CWE-189', 'CWE-200',\n",
       "       'non-vulnerable', 'CWE-20', 'CWE-416', 'CWE-399', 'CWE-835',\n",
       "       'CWE-125', 'CWE-347', 'CWE-190', 'CWE-94', 'CWE-17', 'CWE-362',\n",
       "       'CWE-704', 'CWE-354', 'CWE-78', 'CWE-59', 'CWE-269', 'CWE-388',\n",
       "       'CWE-617', 'CWE-476', 'CWE-769', 'CWE-787', 'CWE-754', 'CWE-502',\n",
       "       'CWE-22', 'CWE-665', 'CWE-254', 'CWE-772', 'CWE-290', 'CWE-400',\n",
       "       'CWE-369', 'CWE-284', 'CWE-93', 'CWE-415', 'CWE-674', 'CWE-311',\n",
       "       'CWE-330', 'CWE-327', 'CWE-320', 'CWE-77', 'CWE-134', 'CWE-732',\n",
       "       'CWE-287', 'CWE-16', 'CWE-89', 'CWE-255', 'CWE-18', 'CWE-19',\n",
       "       'CWE-285', 'CWE-74', 'CWE-79', 'CWE-404', 'CWE-862', 'CWE-834',\n",
       "       'CWE-494', 'CWE-755', 'CWE-129', 'CWE-191', 'CWE-682', 'CWE-522',\n",
       "       'CWE-918', 'CWE-358', 'CWE-295', 'CWE-770', 'CWE-346', 'CWE-532',\n",
       "       'CWE-426', 'CWE-824', 'CWE-693', 'CWE-352', 'CWE-436', 'CWE-90',\n",
       "       'CWE-763', 'CWE-120', 'CWE-611', 'CWE-601', 'CWE-706', 'CWE-361',\n",
       "       'CWE-281', 'CWE-1021', 'CWE-668', 'CWE-664', 'CWE-172', 'CWE-909',\n",
       "       'CWE-209', 'CWE-345', 'CWE-331', 'CWE-252'], dtype=object)"
      ]
     },
     "execution_count": 9,
     "metadata": {},
     "output_type": "execute_result"
    }
   ],
   "source": [
    "msr_cwe_list = msr_df['CWE ID'].unique().tolist()\n",
    "print(len(msr_cwe_list))\n",
    "msr_df['CWE ID'].unique()"
   ]
  },
  {
   "cell_type": "code",
   "execution_count": 10,
   "id": "a66dcb12",
   "metadata": {
    "scrolled": true
   },
   "outputs": [
    {
     "name": "stdout",
     "output_type": "stream",
     "text": [
      "41\n"
     ]
    },
    {
     "data": {
      "text/plain": [
       "array(['non-vulnerable', 'CWE-311', 'CWE-706',\n",
       "       'CWE-400, CWE-665, CWE-020', 'CWE-704', 'CWE-666', 'CWE-119',\n",
       "       'CWE-404', 'CWE-400', 'CWE-369', 'CWE-074', 'CWE-506', 'CWE-362',\n",
       "       'CWE-662', 'CWE-476', 'CWE-020', 'CWE-758', 'CWE-327', 'CWE-668',\n",
       "       'CWE-400, CWE-404', 'CWE-119, CWE-666, CWE-573', 'CWE-190',\n",
       "       'CWE-467', 'CWE-170', 'CWE-676', 'CWE-187', 'CWE-670', 'CWE-573',\n",
       "       'CWE-191', 'CWE-754', 'CWE-666, CWE-573', 'CWE-404, CWE-668',\n",
       "       'CWE-400, CWE-665', 'CWE-221', 'CWE-610', 'CWE-469',\n",
       "       'CWE-662, CWE-573', 'CWE-665', 'CWE-138', 'CWE-834', 'CWE-673'],\n",
       "      dtype=object)"
      ]
     },
     "execution_count": 10,
     "metadata": {},
     "output_type": "execute_result"
    }
   ],
   "source": [
    "mvd_cwe_list = mvd_df['CWE ID'].unique().tolist()\n",
    "print(len(mvd_cwe_list))\n",
    "mvd_df['CWE ID'].unique()"
   ]
  },
  {
   "cell_type": "code",
   "execution_count": 11,
   "id": "97b65548",
   "metadata": {},
   "outputs": [
    {
     "name": "stdout",
     "output_type": "stream",
     "text": [
      "209\n"
     ]
    },
    {
     "data": {
      "text/plain": [
       "array(['CWE-252', 'NVD-CWE-Other', 'CWE-20', 'CWE-119', 'CWE-19',\n",
       "       'CWE-94', 'CWE-255', 'CWE-189', 'CWE-79', 'CWE-264',\n",
       "       'NVD-CWE-noinfo', 'CWE-120', 'CWE-399', 'CWE-362', 'CWE-193',\n",
       "       'CWE-310', 'CWE-200', 'CWE-787', 'CWE-772', 'CWE-134', 'CWE-22',\n",
       "       'CWE-476', 'CWE-400', 'CWE-59', 'CWE-89', 'CWE-665', 'CWE-434',\n",
       "       'CWE-835', 'CWE-190', 'CWE-369', 'CWE-16', 'CWE-287', 'CWE-78',\n",
       "       'CWE-352', 'CWE-640', 'CWE-284', 'CWE-330', 'CWE-276', 'CWE-611',\n",
       "       'CWE-269', 'CWE-275', 'CWE-502', 'CWE-668', 'CWE-74', 'CWE-77',\n",
       "       'CWE-125', 'CWE-916', 'CWE-416', 'CWE-732', 'CWE-754', 'CWE-918',\n",
       "       'CWE-415', 'CWE-17', 'CWE-191', 'CWE-704', 'CWE-254', 'CWE-203',\n",
       "       'CWE-116', 'CWE-273', 'CWE-295', 'CWE-763', 'CWE-18', 'CWE-681',\n",
       "       'CWE-601', 'CWE-426', 'CWE-444', 'CWE-534', 'CWE-90', 'CWE-617',\n",
       "       'CWE-521', 'CWE-199', 'CWE-331', 'CWE-93', 'CWE-327', 'CWE-384',\n",
       "       'CWE-908', 'CWE-345', 'CWE-843', 'CWE-347', 'CWE-361', 'CWE-320',\n",
       "       'CWE-358', 'CWE-798', 'CWE-21', 'CWE-335', 'CWE-184', 'CWE-285',\n",
       "       'CWE-326', 'CWE-388', 'CWE-532', 'CWE-863', 'CWE-862', 'CWE-346',\n",
       "       'CWE-755', 'CWE-404', 'CWE-129', 'CWE-674', 'CWE-613', 'CWE-770',\n",
       "       'CWE-943', 'CWE-354', 'CWE-494', 'CWE-834', 'CWE-639', 'CWE-311',\n",
       "       'CWE-290', 'CWE-121', 'CWE-1188', 'CWE-338', 'CWE-522', 'CWE-682',\n",
       "       'CWE-1187', 'CWE-667', 'CWE-774', 'CWE-470', 'CWE-91', 'CWE-1236',\n",
       "       'CWE-824', 'CWE-307', 'CWE-88', 'CWE-113', 'CWE-425', 'CWE-185',\n",
       "       'CWE-401', 'CWE-471', 'CWE-436', 'CWE-312', 'CWE-749', 'CWE-178',\n",
       "       'CWE-915', 'CWE-1321', 'CWE-670', 'CWE-306', 'CWE-672', 'CWE-776',\n",
       "       'CWE-1021', 'CWE-909', 'CWE-209', 'CWE-838', 'CWE-427', 'CWE-459',\n",
       "       'CWE-131', 'CWE-319', 'CWE-684', 'CWE-697', 'CWE-707', 'CWE-114',\n",
       "       'CWE-350', 'CWE-212', 'CWE-706', 'CWE-281', 'CWE-552', 'CWE-208',\n",
       "       'CWE-669', 'CWE-297', 'CWE-428', 'CWE-73', 'CWE-441', 'CWE-250',\n",
       "       'CWE-122', 'CWE-117', 'CWE-294', 'CWE-80', 'CWE-829', 'CWE-98',\n",
       "       'CWE-610', 'CWE-87', 'CWE-367', 'CWE-538', 'CWE-759', 'CWE-378',\n",
       "       'CWE-379', 'CWE-303', 'CWE-924', 'CWE-305', 'CWE-913', 'CWE-527',\n",
       "       'CWE-680', 'CWE-565', 'CWE-1333', 'CWE-328', 'CWE-590', 'CWE-457',\n",
       "       'CWE-359', 'CWE-644', 'CWE-23', 'CWE-641', 'CWE-277', 'CWE-1336',\n",
       "       'CWE-786', 'CWE-840', 'CWE-805', 'CWE-788', 'CWE-825', 'CWE-823',\n",
       "       'CWE-321', 'CWE-922', 'CWE-126', 'CWE-662', 'CWE-791', 'CWE-279',\n",
       "       'CWE-324', 'CWE-27', 'CWE-288', 'CWE-475', 'CWE-266', 'CWE-304',\n",
       "       'CWE-241', 'CWE-248'], dtype=object)"
      ]
     },
     "execution_count": 11,
     "metadata": {},
     "output_type": "execute_result"
    }
   ],
   "source": [
    "cfd_cwe_list = cfd_df['cwe_id'].unique().tolist()\n",
    "print(len(cfd_cwe_list))\n",
    "cfd_df['cwe_id'].unique()"
   ]
  },
  {
   "cell_type": "code",
   "execution_count": 12,
   "id": "57dd81a0",
   "metadata": {},
   "outputs": [
    {
     "name": "stdout",
     "output_type": "stream",
     "text": [
      "['CWE-252', 'CWE-20', 'CWE-119', 'CWE-19', 'CWE-94', 'CWE-255', 'CWE-189', 'CWE-79', 'CWE-264', 'CWE-120', 'CWE-399', 'CWE-362', 'CWE-193', 'CWE-310', 'CWE-200', 'CWE-787', 'CWE-772', 'CWE-134', 'CWE-22', 'CWE-476', 'CWE-400', 'CWE-59', 'CWE-89', 'CWE-665', 'CWE-434', 'CWE-835', 'CWE-190', 'CWE-369', 'CWE-16', 'CWE-287', 'CWE-78', 'CWE-352', 'CWE-640', 'CWE-284', 'CWE-330', 'CWE-276', 'CWE-611', 'CWE-269', 'CWE-275', 'CWE-502', 'CWE-668', 'CWE-74', 'CWE-77', 'CWE-125', 'CWE-916', 'CWE-416', 'CWE-732', 'CWE-754', 'CWE-918', 'CWE-415', 'CWE-17', 'CWE-191', 'CWE-704', 'CWE-254', 'CWE-203', 'CWE-116', 'CWE-273', 'CWE-295', 'CWE-763', 'CWE-18', 'CWE-681', 'CWE-601', 'CWE-426', 'CWE-444', 'CWE-534', 'CWE-90', 'CWE-617', 'CWE-521', 'CWE-199', 'CWE-331', 'CWE-93', 'CWE-327', 'CWE-384', 'CWE-908', 'CWE-345', 'CWE-843', 'CWE-347', 'CWE-361', 'CWE-320', 'CWE-358', 'CWE-798', 'CWE-21', 'CWE-335', 'CWE-184', 'CWE-285', 'CWE-326', 'CWE-388', 'CWE-532', 'CWE-863', 'CWE-862', 'CWE-346', 'CWE-755', 'CWE-404', 'CWE-129', 'CWE-674', 'CWE-613', 'CWE-770', 'CWE-943', 'CWE-354', 'CWE-494', 'CWE-834', 'CWE-639', 'CWE-311', 'CWE-290', 'CWE-121', 'CWE-1188', 'CWE-338', 'CWE-522', 'CWE-682', 'CWE-1187', 'CWE-667', 'CWE-774', 'CWE-470', 'CWE-91', 'CWE-1236', 'CWE-824', 'CWE-307', 'CWE-88', 'CWE-113', 'CWE-425', 'CWE-185', 'CWE-401', 'CWE-471', 'CWE-436', 'CWE-312', 'CWE-749', 'CWE-178', 'CWE-915', 'CWE-1321', 'CWE-670', 'CWE-306', 'CWE-672', 'CWE-776', 'CWE-1021', 'CWE-909', 'CWE-209', 'CWE-838', 'CWE-427', 'CWE-459', 'CWE-131', 'CWE-319', 'CWE-684', 'CWE-697', 'CWE-707', 'CWE-114', 'CWE-350', 'CWE-212', 'CWE-706', 'CWE-281', 'CWE-552', 'CWE-208', 'CWE-669', 'CWE-297', 'CWE-428', 'CWE-73', 'CWE-441', 'CWE-250', 'CWE-122', 'CWE-117', 'CWE-294', 'CWE-80', 'CWE-829', 'CWE-98', 'CWE-610', 'CWE-87', 'CWE-367', 'CWE-538', 'CWE-759', 'CWE-378', 'CWE-379', 'CWE-303', 'CWE-924', 'CWE-305', 'CWE-913', 'CWE-527', 'CWE-680', 'CWE-565', 'CWE-1333', 'CWE-328', 'CWE-590', 'CWE-457', 'CWE-359', 'CWE-644', 'CWE-23', 'CWE-641', 'CWE-277', 'CWE-1336', 'CWE-786', 'CWE-840', 'CWE-805', 'CWE-788', 'CWE-825', 'CWE-823', 'CWE-321', 'CWE-922', 'CWE-126', 'CWE-662', 'CWE-791', 'CWE-279', 'CWE-324', 'CWE-27', 'CWE-288', 'CWE-475', 'CWE-266', 'CWE-304', 'CWE-241', 'CWE-248']\n"
     ]
    }
   ],
   "source": [
    "if 'NVD-CWE-Other' in cfd_cwe_list:\n",
    "    cfd_cwe_list.remove('NVD-CWE-Other')\n",
    "if 'NVD-CWE-noinfo' in cfd_cwe_list:\n",
    "    cfd_cwe_list.remove('NVD-CWE-noinfo')\n",
    "print(cfd_cwe_list)"
   ]
  },
  {
   "cell_type": "code",
   "execution_count": 14,
   "id": "10efe627",
   "metadata": {},
   "outputs": [
    {
     "name": "stdout",
     "output_type": "stream",
     "text": [
      "Before removing overlapped cwe ids:  340\n",
      "After removing overlapped cwe ids:  233\n"
     ]
    }
   ],
   "source": [
    "total_cwe_id_list = msr_cwe_list + mvd_cwe_list + cfd_cwe_list\n",
    "print(\"Before removing overlapped cwe ids: \",len(total_cwe_id_list))\n",
    "total_cwe_id_list = list(set(total_cwe_id_list))\n",
    "print(\"After removing overlapped cwe ids: \",len(total_cwe_id_list))"
   ]
  },
  {
   "cell_type": "code",
   "execution_count": 15,
   "id": "62932f34",
   "metadata": {},
   "outputs": [
    {
     "data": {
      "text/plain": [
       "True"
      ]
     },
     "execution_count": 15,
     "metadata": {},
     "output_type": "execute_result"
    }
   ],
   "source": [
    "'non-vulnerable' in total_cwe_id_list"
   ]
  },
  {
   "cell_type": "code",
   "execution_count": 16,
   "id": "0bc10451",
   "metadata": {},
   "outputs": [
    {
     "data": {
      "text/plain": [
       "False"
      ]
     },
     "execution_count": 16,
     "metadata": {},
     "output_type": "execute_result"
    }
   ],
   "source": [
    "# Check NaN\n",
    "'NaN' in total_cwe_id_list"
   ]
  },
  {
   "cell_type": "markdown",
   "id": "83d01f3a",
   "metadata": {},
   "source": [
    "### Define integrated cwe_ids labels"
   ]
  },
  {
   "cell_type": "code",
   "execution_count": 17,
   "id": "11466237",
   "metadata": {},
   "outputs": [
    {
     "name": "stdout",
     "output_type": "stream",
     "text": [
      "['non-vulnerable', 'CWE-16', 'CWE-17', 'CWE-18', 'CWE-19', 'CWE-020', 'CWE-20', 'CWE-21', 'CWE-22', 'CWE-23', 'CWE-27', 'CWE-59', 'CWE-73', 'CWE-74', 'CWE-074', 'CWE-77', 'CWE-78', 'CWE-79', 'CWE-80', 'CWE-87', 'CWE-88', 'CWE-89', 'CWE-90', 'CWE-91', 'CWE-93', 'CWE-94', 'CWE-98', 'CWE-113', 'CWE-114', 'CWE-116', 'CWE-117', 'CWE-119, CWE-666, CWE-573', 'CWE-119', 'CWE-120', 'CWE-121', 'CWE-122', 'CWE-125', 'CWE-126', 'CWE-129', 'CWE-131', 'CWE-134', 'CWE-138', 'CWE-170', 'CWE-172', 'CWE-178', 'CWE-184', 'CWE-185', 'CWE-187', 'CWE-189', 'CWE-190', 'CWE-191', 'CWE-193', 'CWE-199', 'CWE-200', 'CWE-203', 'CWE-208', 'CWE-209', 'CWE-212', 'CWE-221', 'CWE-241', 'CWE-248', 'CWE-250', 'CWE-252', 'CWE-254', 'CWE-255', 'CWE-264', 'CWE-266', 'CWE-269', 'CWE-273', 'CWE-275', 'CWE-276', 'CWE-277', 'CWE-279', 'CWE-281', 'CWE-284', 'CWE-285', 'CWE-287', 'CWE-288', 'CWE-290', 'CWE-294', 'CWE-295', 'CWE-297', 'CWE-303', 'CWE-304', 'CWE-305', 'CWE-306', 'CWE-307', 'CWE-310', 'CWE-311', 'CWE-312', 'CWE-319', 'CWE-320', 'CWE-321', 'CWE-324', 'CWE-326', 'CWE-327', 'CWE-328', 'CWE-330', 'CWE-331', 'CWE-335', 'CWE-338', 'CWE-345', 'CWE-346', 'CWE-347', 'CWE-350', 'CWE-352', 'CWE-354', 'CWE-358', 'CWE-359', 'CWE-361', 'CWE-362', 'CWE-367', 'CWE-369', 'CWE-378', 'CWE-379', 'CWE-384', 'CWE-388', 'CWE-399', 'CWE-400, CWE-665, CWE-020', 'CWE-400, CWE-665', 'CWE-400, CWE-404', 'CWE-400', 'CWE-401', 'CWE-404', 'CWE-404, CWE-668', 'CWE-415', 'CWE-416', 'CWE-425', 'CWE-426', 'CWE-427', 'CWE-428', 'CWE-434', 'CWE-436', 'CWE-441', 'CWE-444', 'CWE-457', 'CWE-459', 'CWE-467', 'CWE-469', 'CWE-470', 'CWE-471', 'CWE-475', 'CWE-476', 'CWE-494', 'CWE-502', 'CWE-506', 'CWE-521', 'CWE-522', 'CWE-527', 'CWE-532', 'CWE-534', 'CWE-538', 'CWE-552', 'CWE-565', 'CWE-573', 'CWE-590', 'CWE-601', 'CWE-610', 'CWE-611', 'CWE-613', 'CWE-617', 'CWE-639', 'CWE-640', 'CWE-641', 'CWE-644', 'CWE-662, CWE-573', 'CWE-662', 'CWE-664', 'CWE-665', 'CWE-666, CWE-573', 'CWE-666', 'CWE-667', 'CWE-668', 'CWE-669', 'CWE-670', 'CWE-672', 'CWE-673', 'CWE-674', 'CWE-676', 'CWE-680', 'CWE-681', 'CWE-682', 'CWE-684', 'CWE-693', 'CWE-697', 'CWE-704', 'CWE-706', 'CWE-707', 'CWE-732', 'CWE-749', 'CWE-754', 'CWE-755', 'CWE-758', 'CWE-759', 'CWE-763', 'CWE-769', 'CWE-770', 'CWE-772', 'CWE-774', 'CWE-776', 'CWE-786', 'CWE-787', 'CWE-788', 'CWE-791', 'CWE-798', 'CWE-805', 'CWE-823', 'CWE-824', 'CWE-825', 'CWE-829', 'CWE-834', 'CWE-835', 'CWE-838', 'CWE-840', 'CWE-843', 'CWE-862', 'CWE-863', 'CWE-908', 'CWE-909', 'CWE-913', 'CWE-915', 'CWE-916', 'CWE-918', 'CWE-922', 'CWE-924', 'CWE-943', 'CWE-1021', 'CWE-1187', 'CWE-1188', 'CWE-1236', 'CWE-1321', 'CWE-1333', 'CWE-1336']\n"
     ]
    }
   ],
   "source": [
    "# sorted by cwe_ids and non-vulnerable as index: 0\n",
    "\n",
    "import re\n",
    "\n",
    "def sort_by_number(my_list):\n",
    "    def extract_number(string):\n",
    "        match = re.search(r'\\d+', string)\n",
    "        if match:\n",
    "            return int(match.group())\n",
    "        else:\n",
    "            return float('inf')\n",
    "    return sorted(my_list, key=extract_number)\n",
    "\n",
    "total_cwe_id_list = sort_by_number(total_cwe_id_list)\n",
    "total_cwe_id_list.remove('non-vulnerable')\n",
    "total_cwe_id_list.insert(0, 'non-vulnerable')\n",
    "print(total_cwe_id_list)  # prints ['item1', 'item2', 'item3', 'item10', 'item25']\n"
   ]
  },
  {
   "cell_type": "code",
   "execution_count": 20,
   "id": "890d8bb0",
   "metadata": {},
   "outputs": [
    {
     "name": "stdout",
     "output_type": "stream",
     "text": [
      "{'non-vulnerable': 0, 'CWE-16': 1, 'CWE-17': 2, 'CWE-18': 3, 'CWE-19': 4, 'CWE-020': 5, 'CWE-20': 6, 'CWE-21': 7, 'CWE-22': 8, 'CWE-23': 9, 'CWE-27': 10, 'CWE-59': 11, 'CWE-73': 12, 'CWE-74': 13, 'CWE-074': 14, 'CWE-77': 15, 'CWE-78': 16, 'CWE-79': 17, 'CWE-80': 18, 'CWE-87': 19, 'CWE-88': 20, 'CWE-89': 21, 'CWE-90': 22, 'CWE-91': 23, 'CWE-93': 24, 'CWE-94': 25, 'CWE-98': 26, 'CWE-113': 27, 'CWE-114': 28, 'CWE-116': 29, 'CWE-117': 30, 'CWE-119, CWE-666, CWE-573': 31, 'CWE-119': 32, 'CWE-120': 33, 'CWE-121': 34, 'CWE-122': 35, 'CWE-125': 36, 'CWE-126': 37, 'CWE-129': 38, 'CWE-131': 39, 'CWE-134': 40, 'CWE-138': 41, 'CWE-170': 42, 'CWE-172': 43, 'CWE-178': 44, 'CWE-184': 45, 'CWE-185': 46, 'CWE-187': 47, 'CWE-189': 48, 'CWE-190': 49, 'CWE-191': 50, 'CWE-193': 51, 'CWE-199': 52, 'CWE-200': 53, 'CWE-203': 54, 'CWE-208': 55, 'CWE-209': 56, 'CWE-212': 57, 'CWE-221': 58, 'CWE-241': 59, 'CWE-248': 60, 'CWE-250': 61, 'CWE-252': 62, 'CWE-254': 63, 'CWE-255': 64, 'CWE-264': 65, 'CWE-266': 66, 'CWE-269': 67, 'CWE-273': 68, 'CWE-275': 69, 'CWE-276': 70, 'CWE-277': 71, 'CWE-279': 72, 'CWE-281': 73, 'CWE-284': 74, 'CWE-285': 75, 'CWE-287': 76, 'CWE-288': 77, 'CWE-290': 78, 'CWE-294': 79, 'CWE-295': 80, 'CWE-297': 81, 'CWE-303': 82, 'CWE-304': 83, 'CWE-305': 84, 'CWE-306': 85, 'CWE-307': 86, 'CWE-310': 87, 'CWE-311': 88, 'CWE-312': 89, 'CWE-319': 90, 'CWE-320': 91, 'CWE-321': 92, 'CWE-324': 93, 'CWE-326': 94, 'CWE-327': 95, 'CWE-328': 96, 'CWE-330': 97, 'CWE-331': 98, 'CWE-335': 99, 'CWE-338': 100, 'CWE-345': 101, 'CWE-346': 102, 'CWE-347': 103, 'CWE-350': 104, 'CWE-352': 105, 'CWE-354': 106, 'CWE-358': 107, 'CWE-359': 108, 'CWE-361': 109, 'CWE-362': 110, 'CWE-367': 111, 'CWE-369': 112, 'CWE-378': 113, 'CWE-379': 114, 'CWE-384': 115, 'CWE-388': 116, 'CWE-399': 117, 'CWE-400, CWE-665, CWE-020': 118, 'CWE-400, CWE-665': 119, 'CWE-400, CWE-404': 120, 'CWE-400': 121, 'CWE-401': 122, 'CWE-404': 123, 'CWE-404, CWE-668': 124, 'CWE-415': 125, 'CWE-416': 126, 'CWE-425': 127, 'CWE-426': 128, 'CWE-427': 129, 'CWE-428': 130, 'CWE-434': 131, 'CWE-436': 132, 'CWE-441': 133, 'CWE-444': 134, 'CWE-457': 135, 'CWE-459': 136, 'CWE-467': 137, 'CWE-469': 138, 'CWE-470': 139, 'CWE-471': 140, 'CWE-475': 141, 'CWE-476': 142, 'CWE-494': 143, 'CWE-502': 144, 'CWE-506': 145, 'CWE-521': 146, 'CWE-522': 147, 'CWE-527': 148, 'CWE-532': 149, 'CWE-534': 150, 'CWE-538': 151, 'CWE-552': 152, 'CWE-565': 153, 'CWE-573': 154, 'CWE-590': 155, 'CWE-601': 156, 'CWE-610': 157, 'CWE-611': 158, 'CWE-613': 159, 'CWE-617': 160, 'CWE-639': 161, 'CWE-640': 162, 'CWE-641': 163, 'CWE-644': 164, 'CWE-662, CWE-573': 165, 'CWE-662': 166, 'CWE-664': 167, 'CWE-665': 168, 'CWE-666, CWE-573': 169, 'CWE-666': 170, 'CWE-667': 171, 'CWE-668': 172, 'CWE-669': 173, 'CWE-670': 174, 'CWE-672': 175, 'CWE-673': 176, 'CWE-674': 177, 'CWE-676': 178, 'CWE-680': 179, 'CWE-681': 180, 'CWE-682': 181, 'CWE-684': 182, 'CWE-693': 183, 'CWE-697': 184, 'CWE-704': 185, 'CWE-706': 186, 'CWE-707': 187, 'CWE-732': 188, 'CWE-749': 189, 'CWE-754': 190, 'CWE-755': 191, 'CWE-758': 192, 'CWE-759': 193, 'CWE-763': 194, 'CWE-769': 195, 'CWE-770': 196, 'CWE-772': 197, 'CWE-774': 198, 'CWE-776': 199, 'CWE-786': 200, 'CWE-787': 201, 'CWE-788': 202, 'CWE-791': 203, 'CWE-798': 204, 'CWE-805': 205, 'CWE-823': 206, 'CWE-824': 207, 'CWE-825': 208, 'CWE-829': 209, 'CWE-834': 210, 'CWE-835': 211, 'CWE-838': 212, 'CWE-840': 213, 'CWE-843': 214, 'CWE-862': 215, 'CWE-863': 216, 'CWE-908': 217, 'CWE-909': 218, 'CWE-913': 219, 'CWE-915': 220, 'CWE-916': 221, 'CWE-918': 222, 'CWE-922': 223, 'CWE-924': 224, 'CWE-943': 225, 'CWE-1021': 226, 'CWE-1187': 227, 'CWE-1188': 228, 'CWE-1236': 229, 'CWE-1321': 230, 'CWE-1333': 231, 'CWE-1336': 232}\n"
     ]
    }
   ],
   "source": [
    "total_cwe_dict = { cwe_id_key: idx for idx, cwe_id_key in enumerate(total_cwe_id_list)}\n",
    "print(total_cwe_dict)"
   ]
  },
  {
   "cell_type": "code",
   "execution_count": 22,
   "id": "d0e77eee",
   "metadata": {},
   "outputs": [],
   "source": [
    "# save dict for later retrieval\n",
    "import pickle\n",
    "\n",
    "with open(\"preprocessed datasets/total_cwe_dict.txt\", \"wb\") as myFile:\n",
    "    pickle.dump(total_cwe_dict, myFile)\n"
   ]
  }
 ],
 "metadata": {
  "kernelspec": {
   "display_name": "Python 3 (ipykernel)",
   "language": "python",
   "name": "python3"
  },
  "language_info": {
   "codemirror_mode": {
    "name": "ipython",
    "version": 3
   },
   "file_extension": ".py",
   "mimetype": "text/x-python",
   "name": "python",
   "nbconvert_exporter": "python",
   "pygments_lexer": "ipython3",
   "version": "3.9.16"
  }
 },
 "nbformat": 4,
 "nbformat_minor": 5
}
