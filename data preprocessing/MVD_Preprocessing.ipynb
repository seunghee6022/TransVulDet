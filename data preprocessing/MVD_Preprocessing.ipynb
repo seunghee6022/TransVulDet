{
 "cells": [
  {
   "cell_type": "code",
   "execution_count": 2,
   "id": "0d2ff6be",
   "metadata": {},
   "outputs": [
    {
     "ename": "AttributeError",
     "evalue": "module 'numpy.random' has no attribute 'BitGenerator'",
     "output_type": "error",
     "traceback": [
      "\u001B[0;31m---------------------------------------------------------------------------\u001B[0m",
      "\u001B[0;31mAttributeError\u001B[0m                            Traceback (most recent call last)",
      "\u001B[0;32m<ipython-input-2-baf368f80de7>\u001B[0m in \u001B[0;36m<module>\u001B[0;34m\u001B[0m\n\u001B[0;32m----> 1\u001B[0;31m \u001B[0;32mimport\u001B[0m \u001B[0mpandas\u001B[0m \u001B[0;32mas\u001B[0m \u001B[0mpd\u001B[0m\u001B[0;34m\u001B[0m\u001B[0;34m\u001B[0m\u001B[0m\n\u001B[0m\u001B[1;32m      2\u001B[0m \u001B[0;32mimport\u001B[0m \u001B[0mnumpy\u001B[0m \u001B[0;32mas\u001B[0m \u001B[0mnp\u001B[0m\u001B[0;34m\u001B[0m\u001B[0;34m\u001B[0m\u001B[0m\n",
      "\u001B[0;32m~/.local/lib/python3.8/site-packages/pandas/__init__.py\u001B[0m in \u001B[0;36m<module>\u001B[0;34m\u001B[0m\n\u001B[1;32m     20\u001B[0m \u001B[0;34m\u001B[0m\u001B[0m\n\u001B[1;32m     21\u001B[0m \u001B[0;31m# numpy compat\u001B[0m\u001B[0;34m\u001B[0m\u001B[0;34m\u001B[0m\u001B[0;34m\u001B[0m\u001B[0m\n\u001B[0;32m---> 22\u001B[0;31m \u001B[0;32mfrom\u001B[0m \u001B[0mpandas\u001B[0m\u001B[0;34m.\u001B[0m\u001B[0mcompat\u001B[0m \u001B[0;32mimport\u001B[0m \u001B[0mis_numpy_dev\u001B[0m \u001B[0;32mas\u001B[0m \u001B[0m_is_numpy_dev\u001B[0m  \u001B[0;31m# pyright: ignore # noqa:F401\u001B[0m\u001B[0;34m\u001B[0m\u001B[0;34m\u001B[0m\u001B[0m\n\u001B[0m\u001B[1;32m     23\u001B[0m \u001B[0;34m\u001B[0m\u001B[0m\n\u001B[1;32m     24\u001B[0m \u001B[0;32mtry\u001B[0m\u001B[0;34m:\u001B[0m\u001B[0;34m\u001B[0m\u001B[0;34m\u001B[0m\u001B[0m\n",
      "\u001B[0;32m~/.local/lib/python3.8/site-packages/pandas/compat/__init__.py\u001B[0m in \u001B[0;36m<module>\u001B[0;34m\u001B[0m\n\u001B[1;32m     15\u001B[0m \u001B[0;32mfrom\u001B[0m \u001B[0mtyping\u001B[0m \u001B[0;32mimport\u001B[0m \u001B[0mTYPE_CHECKING\u001B[0m\u001B[0;34m\u001B[0m\u001B[0;34m\u001B[0m\u001B[0m\n\u001B[1;32m     16\u001B[0m \u001B[0;34m\u001B[0m\u001B[0m\n\u001B[0;32m---> 17\u001B[0;31m \u001B[0;32mfrom\u001B[0m \u001B[0mpandas\u001B[0m\u001B[0;34m.\u001B[0m\u001B[0m_typing\u001B[0m \u001B[0;32mimport\u001B[0m \u001B[0mF\u001B[0m\u001B[0;34m\u001B[0m\u001B[0;34m\u001B[0m\u001B[0m\n\u001B[0m\u001B[1;32m     18\u001B[0m from pandas.compat.numpy import (\n\u001B[1;32m     19\u001B[0m     \u001B[0mis_numpy_dev\u001B[0m\u001B[0;34m,\u001B[0m\u001B[0;34m\u001B[0m\u001B[0;34m\u001B[0m\u001B[0m\n",
      "\u001B[0;32m~/.local/lib/python3.8/site-packages/pandas/_typing.py\u001B[0m in \u001B[0;36m<module>\u001B[0;34m\u001B[0m\n\u001B[1;32m    131\u001B[0m     \u001B[0mArrayLike\u001B[0m\u001B[0;34m,\u001B[0m\u001B[0;34m\u001B[0m\u001B[0;34m\u001B[0m\u001B[0m\n\u001B[1;32m    132\u001B[0m     \u001B[0mnp\u001B[0m\u001B[0;34m.\u001B[0m\u001B[0mrandom\u001B[0m\u001B[0;34m.\u001B[0m\u001B[0mGenerator\u001B[0m\u001B[0;34m,\u001B[0m\u001B[0;34m\u001B[0m\u001B[0;34m\u001B[0m\u001B[0m\n\u001B[0;32m--> 133\u001B[0;31m     \u001B[0mnp\u001B[0m\u001B[0;34m.\u001B[0m\u001B[0mrandom\u001B[0m\u001B[0;34m.\u001B[0m\u001B[0mBitGenerator\u001B[0m\u001B[0;34m,\u001B[0m\u001B[0;34m\u001B[0m\u001B[0;34m\u001B[0m\u001B[0m\n\u001B[0m\u001B[1;32m    134\u001B[0m     \u001B[0mnp\u001B[0m\u001B[0;34m.\u001B[0m\u001B[0mrandom\u001B[0m\u001B[0;34m.\u001B[0m\u001B[0mRandomState\u001B[0m\u001B[0;34m,\u001B[0m\u001B[0;34m\u001B[0m\u001B[0;34m\u001B[0m\u001B[0m\n\u001B[1;32m    135\u001B[0m ]\n",
      "\u001B[0;31mAttributeError\u001B[0m: module 'numpy.random' has no attribute 'BitGenerator'"
     ]
    }
   ],
   "source": [
    "import pandas as pd\n",
    "import numpy as np"
   ]
  },
  {
   "cell_type": "code",
   "execution_count": null,
   "id": "e16f7d2d",
   "metadata": {},
   "outputs": [],
   "source": [
    "with open(\"label2CWE.txt\",'r') as file:\n",
    "    CWE_IDs = [line.strip() for line in file]"
   ]
  },
  {
   "cell_type": "code",
   "execution_count": null,
   "id": "287f1a16",
   "metadata": {},
   "outputs": [],
   "source": [
    "cwe_dict = {}\n",
    "for cwe in CWE_IDs:\n",
    "    i = cwe.index(':')\n",
    "    key = cwe[:i]\n",
    "    value = cwe[i+2:]\n",
    "    cwe_dict[key] = value\n",
    "    print(cwe, \" ==> \",key, value)"
   ]
  },
  {
   "cell_type": "code",
   "execution_count": null,
   "id": "639dca76",
   "metadata": {},
   "outputs": [],
   "source": [
    "delimiter = \"------------------------------\"       \n",
    "\n",
    "with open(\"mvd.txt\",'r') as file:\n",
    "    lines = [line.strip() for line in file]\n",
    "lines[:10]"
   ]
  },
  {
   "cell_type": "code",
   "execution_count": 3,
   "id": "5d8a664f",
   "metadata": {},
   "outputs": [
    {
     "ename": "NameError",
     "evalue": "name 'lines' is not defined",
     "output_type": "error",
     "traceback": [
      "\u001B[0;31m---------------------------------------------------------------------------\u001B[0m",
      "\u001B[0;31mNameError\u001B[0m                                 Traceback (most recent call last)",
      "\u001B[0;32m<ipython-input-3-82680bc91dfe>\u001B[0m in \u001B[0;36m<module>\u001B[0;34m\u001B[0m\n\u001B[1;32m      1\u001B[0m \u001B[0;31m# list of location index of delimiter\u001B[0m\u001B[0;34m\u001B[0m\u001B[0;34m\u001B[0m\u001B[0;34m\u001B[0m\u001B[0m\n\u001B[0;32m----> 2\u001B[0;31m \u001B[0mdel_indices\u001B[0m \u001B[0;34m=\u001B[0m \u001B[0;34m[\u001B[0m\u001B[0mi\u001B[0m \u001B[0;32mfor\u001B[0m \u001B[0mi\u001B[0m\u001B[0;34m,\u001B[0m \u001B[0mx\u001B[0m \u001B[0;32min\u001B[0m \u001B[0menumerate\u001B[0m\u001B[0;34m(\u001B[0m\u001B[0mlines\u001B[0m\u001B[0;34m)\u001B[0m \u001B[0;32mif\u001B[0m \u001B[0mx\u001B[0m \u001B[0;34m==\u001B[0m \u001B[0mdelimiter\u001B[0m\u001B[0;34m]\u001B[0m\u001B[0;34m\u001B[0m\u001B[0;34m\u001B[0m\u001B[0m\n\u001B[0m\u001B[1;32m      3\u001B[0m \u001B[0mdel_indices\u001B[0m\u001B[0;34m[\u001B[0m\u001B[0;34m:\u001B[0m\u001B[0;36m5\u001B[0m\u001B[0;34m]\u001B[0m\u001B[0;34m\u001B[0m\u001B[0;34m\u001B[0m\u001B[0m\n",
      "\u001B[0;31mNameError\u001B[0m: name 'lines' is not defined"
     ]
    }
   ],
   "source": [
    "# list of location index of delimiter\n",
    "del_indices = [i for i, x in enumerate(lines) if x == delimiter]\n",
    "del_indices[:5]"
   ]
  },
  {
   "cell_type": "code",
   "execution_count": null,
   "id": "0638ceb9",
   "metadata": {},
   "outputs": [],
   "source": [
    "# list of location index of data index and its info\n",
    "heads_indices = [0]+list(map(lambda x:x+1, del_indices[:-1]))\n",
    "head_list = [lines[i][1:] for i in heads_indices]"
   ]
  },
  {
   "cell_type": "code",
   "execution_count": null,
   "id": "42c49613",
   "metadata": {},
   "outputs": [],
   "source": [
    "cwe_dict"
   ]
  },
  {
   "cell_type": "code",
   "execution_count": null,
   "id": "350297cf",
   "metadata": {},
   "outputs": [],
   "source": [
    "# list of location index of CWE ids\n",
    "cwes_indices = list(map(lambda x:x-1, del_indices))\n",
    "cwes_list = [lines[i] for i in cwes_indices]\n",
    "cwes_names = [cwe_dict[i] for i in cwes_list]\n",
    "cwes_names[:5]"
   ]
  },
  {
   "cell_type": "code",
   "execution_count": null,
   "id": "507d953e",
   "metadata": {},
   "outputs": [],
   "source": [
    "vul_list = [0 if int(cwe)==0 else 1 for cwe in cwes_list]\n",
    "vul_list[:5], cwes_list[:5]"
   ]
  },
  {
   "cell_type": "code",
   "execution_count": null,
   "id": "bdc874f5",
   "metadata": {},
   "outputs": [],
   "source": [
    "len(del_indices) == len(heads_indices) == len(cwes_indices)"
   ]
  },
  {
   "cell_type": "code",
   "execution_count": null,
   "id": "0e592c9d",
   "metadata": {},
   "outputs": [],
   "source": [
    "codes_list = []\n",
    "for i in range(len(del_indices)):\n",
    "    start = heads_indices[i]+1\n",
    "    end = cwes_indices[i]\n",
    "    codes = lines[start:end]\n",
    "    codes = '\\n'.join(codes)\n",
    "    codes_list.append(codes)"
   ]
  },
  {
   "cell_type": "code",
   "execution_count": null,
   "id": "aeafb612",
   "metadata": {},
   "outputs": [],
   "source": [
    "data = {'info':head_list, 'CWE ID':cwes_names, 'code':codes_list, 'vul':vul_list}\n",
    "df = pd.DataFrame(data=data)\n",
    "df.head(10)"
   ]
  },
  {
   "cell_type": "code",
   "execution_count": null,
   "outputs": [],
   "source": [
    "# Save it to csv file\n",
    "df.to_csv(\"MVD.csv\")"
   ],
   "metadata": {
    "collapsed": false
   }
  }
 ],
 "metadata": {
  "kernelspec": {
   "display_name": "Python 3 (ipykernel)",
   "language": "python",
   "name": "python3"
  },
  "language_info": {
   "codemirror_mode": {
    "name": "ipython",
    "version": 3
   },
   "file_extension": ".py",
   "mimetype": "text/x-python",
   "name": "python",
   "nbconvert_exporter": "python",
   "pygments_lexer": "ipython3",
   "version": "3.9.13"
  }
 },
 "nbformat": 4,
 "nbformat_minor": 5
}
