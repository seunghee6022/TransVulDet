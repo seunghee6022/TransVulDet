{
 "cells": [
  {
   "cell_type": "code",
   "execution_count": 1,
   "id": "0d2ff6be",
   "metadata": {},
   "outputs": [],
   "source": [
    "import pandas as pd\n",
    "import numpy as np"
   ]
  },
  {
   "cell_type": "code",
   "execution_count": 2,
   "id": "e16f7d2d",
   "metadata": {},
   "outputs": [],
   "source": [
    "with open(\"label2CWE.txt\",'r') as file:\n",
    "    CWE_IDs = [line.strip() for line in file]"
   ]
  },
  {
   "cell_type": "code",
   "execution_count": 3,
   "id": "287f1a16",
   "metadata": {},
   "outputs": [
    {
     "name": "stdout",
     "output_type": "stream",
     "text": [
      "0: non-vulnerable  ==>  0 non-vulnerable\n",
      "1: CWE-404  ==>  1 CWE-404\n",
      "2: CWE-476  ==>  2 CWE-476\n",
      "3: CWE-119  ==>  3 CWE-119\n",
      "4: CWE-706  ==>  4 CWE-706\n",
      "5: CWE-670  ==>  5 CWE-670\n",
      "6: CWE-673  ==>  6 CWE-673\n",
      "7: CWE-119, CWE-666, CWE-573  ==>  7 CWE-119, CWE-666, CWE-573\n",
      "8: CWE-573  ==>  8 CWE-573\n",
      "9: CWE-668  ==>  9 CWE-668\n",
      "10: CWE-400, CWE-665, CWE-020  ==>  10 CWE-400, CWE-665, CWE-020\n",
      "11: CWE-662  ==>  11 CWE-662\n",
      "12: CWE-400  ==>  12 CWE-400\n",
      "13: CWE-665  ==>  13 CWE-665\n",
      "14: CWE-020  ==>  14 CWE-020\n",
      "15: CWE-074  ==>  15 CWE-074\n",
      "16: CWE-362  ==>  16 CWE-362\n",
      "17: CWE-191  ==>  17 CWE-191\n",
      "18: CWE-190  ==>  18 CWE-190\n",
      "19: CWE-610  ==>  19 CWE-610\n",
      "20: CWE-704  ==>  20 CWE-704\n",
      "21: CWE-170  ==>  21 CWE-170\n",
      "22: CWE-676  ==>  22 CWE-676\n",
      "23: CWE-187  ==>  23 CWE-187\n",
      "24: CWE-138  ==>  24 CWE-138\n",
      "25: CWE-369  ==>  25 CWE-369\n",
      "26: CWE-662, CWE-573  ==>  26 CWE-662, CWE-573\n",
      "27: CWE-834  ==>  27 CWE-834\n",
      "28: CWE-400, CWE-665  ==>  28 CWE-400, CWE-665\n",
      "29: CWE-400, CWE-404  ==>  29 CWE-400, CWE-404\n",
      "30: CWE-221  ==>  30 CWE-221\n",
      "31: CWE-754  ==>  31 CWE-754\n",
      "32: CWE-311  ==>  32 CWE-311\n",
      "33: CWE-404, CWE-668  ==>  33 CWE-404, CWE-668\n",
      "34: CWE-506  ==>  34 CWE-506\n",
      "35: CWE-758  ==>  35 CWE-758\n",
      "36: CWE-666  ==>  36 CWE-666\n",
      "37: CWE-467  ==>  37 CWE-467\n",
      "38: CWE-327  ==>  38 CWE-327\n",
      "39: CWE-666, CWE-573  ==>  39 CWE-666, CWE-573\n",
      "40: CWE-469  ==>  40 CWE-469\n"
     ]
    }
   ],
   "source": [
    "cwe_dict = {}\n",
    "for cwe in CWE_IDs:\n",
    "    i = cwe.index(':')\n",
    "    key = cwe[:i]\n",
    "    value = cwe[i+2:]\n",
    "    cwe_dict[key] = value\n",
    "#     print(cwe, \" ==> \",key, value)"
   ]
  },
  {
   "cell_type": "code",
   "execution_count": 4,
   "id": "639dca76",
   "metadata": {},
   "outputs": [
    {
     "data": {
      "text/plain": [
       "['1 150200/dirent_uri.c memset 405',\n",
       " 'const char *svn_relpath__internal_style(const char *relpath,apr_pool_t *pool) 861',\n",
       " 'return svn_relpath_canonicalize ( internal_style ( relpath , pool ) , pool ) ; 863',\n",
       " 'const char *svn_relpath_canonicalize(const char *relpath,apr_pool_t *pool) 1411',\n",
       " 'return canonicalize ( type_relpath , relpath , pool ) ; 1413',\n",
       " 'static const char *canonicalize(path_type_t type,const char *path,apr_pool_t *pool) 389',\n",
       " 'char * canon ; 391',\n",
       " 'char * dst ; 392',\n",
       " \"if ( path [ 0 ] == '\\\\0' )  401\",\n",
       " 'dst = canon = ( memset ( apr_palloc ( pool , strlen ( path ) + 1 ) , 0 , strlen ( path ) + 1 ) ); 405']"
      ]
     },
     "execution_count": 4,
     "metadata": {},
     "output_type": "execute_result"
    }
   ],
   "source": [
    "delimiter = \"------------------------------\"       \n",
    "\n",
    "with open(\"mvd.txt\",'r') as file:\n",
    "    lines = [line.strip() for line in file]\n",
    "lines[:10]"
   ]
  },
  {
   "cell_type": "code",
   "execution_count": 5,
   "id": "5d8a664f",
   "metadata": {},
   "outputs": [
    {
     "data": {
      "text/plain": [
       "[104, 120, 166, 422, 451]"
      ]
     },
     "execution_count": 5,
     "metadata": {},
     "output_type": "execute_result"
    }
   ],
   "source": [
    "# list of location index of delimiter\n",
    "del_indices = [i for i, x in enumerate(lines) if x == delimiter]\n",
    "del_indices[:5]"
   ]
  },
  {
   "cell_type": "code",
   "execution_count": 6,
   "id": "0638ceb9",
   "metadata": {},
   "outputs": [],
   "source": [
    "# list of location index of data index and its info\n",
    "heads_indices = [0]+list(map(lambda x:x+1, del_indices[:-1]))\n",
    "head_list = [lines[i][1:] for i in heads_indices]"
   ]
  },
  {
   "cell_type": "code",
   "execution_count": 7,
   "id": "42c49613",
   "metadata": {},
   "outputs": [
    {
     "data": {
      "text/plain": [
       "{'0': 'non-vulnerable',\n",
       " '1': 'CWE-404',\n",
       " '2': 'CWE-476',\n",
       " '3': 'CWE-119',\n",
       " '4': 'CWE-706',\n",
       " '5': 'CWE-670',\n",
       " '6': 'CWE-673',\n",
       " '7': 'CWE-119, CWE-666, CWE-573',\n",
       " '8': 'CWE-573',\n",
       " '9': 'CWE-668',\n",
       " '10': 'CWE-400, CWE-665, CWE-020',\n",
       " '11': 'CWE-662',\n",
       " '12': 'CWE-400',\n",
       " '13': 'CWE-665',\n",
       " '14': 'CWE-020',\n",
       " '15': 'CWE-074',\n",
       " '16': 'CWE-362',\n",
       " '17': 'CWE-191',\n",
       " '18': 'CWE-190',\n",
       " '19': 'CWE-610',\n",
       " '20': 'CWE-704',\n",
       " '21': 'CWE-170',\n",
       " '22': 'CWE-676',\n",
       " '23': 'CWE-187',\n",
       " '24': 'CWE-138',\n",
       " '25': 'CWE-369',\n",
       " '26': 'CWE-662, CWE-573',\n",
       " '27': 'CWE-834',\n",
       " '28': 'CWE-400, CWE-665',\n",
       " '29': 'CWE-400, CWE-404',\n",
       " '30': 'CWE-221',\n",
       " '31': 'CWE-754',\n",
       " '32': 'CWE-311',\n",
       " '33': 'CWE-404, CWE-668',\n",
       " '34': 'CWE-506',\n",
       " '35': 'CWE-758',\n",
       " '36': 'CWE-666',\n",
       " '37': 'CWE-467',\n",
       " '38': 'CWE-327',\n",
       " '39': 'CWE-666, CWE-573',\n",
       " '40': 'CWE-469'}"
      ]
     },
     "execution_count": 7,
     "metadata": {},
     "output_type": "execute_result"
    }
   ],
   "source": [
    "cwe_dict"
   ]
  },
  {
   "cell_type": "code",
   "execution_count": 8,
   "id": "350297cf",
   "metadata": {},
   "outputs": [
    {
     "data": {
      "text/plain": [
       "['non-vulnerable',\n",
       " 'non-vulnerable',\n",
       " 'non-vulnerable',\n",
       " 'non-vulnerable',\n",
       " 'CWE-311']"
      ]
     },
     "execution_count": 8,
     "metadata": {},
     "output_type": "execute_result"
    }
   ],
   "source": [
    "# list of location index of CWE ids\n",
    "cwes_indices = list(map(lambda x:x-1, del_indices))\n",
    "cwes_list = [lines[i] for i in cwes_indices]\n",
    "cwes_names = [cwe_dict[i] for i in cwes_list]\n",
    "cwes_names[:5]"
   ]
  },
  {
   "cell_type": "code",
   "execution_count": 9,
   "id": "507d953e",
   "metadata": {},
   "outputs": [
    {
     "data": {
      "text/plain": [
       "([0, 0, 0, 0, 1], ['0', '0', '0', '0', '32'])"
      ]
     },
     "execution_count": 9,
     "metadata": {},
     "output_type": "execute_result"
    }
   ],
   "source": [
    "vul_list = [0 if int(cwe)==0 else 1 for cwe in cwes_list]\n",
    "vul_list[:5], cwes_list[:5]"
   ]
  },
  {
   "cell_type": "code",
   "execution_count": 10,
   "id": "bdc874f5",
   "metadata": {},
   "outputs": [
    {
     "data": {
      "text/plain": [
       "True"
      ]
     },
     "execution_count": 10,
     "metadata": {},
     "output_type": "execute_result"
    }
   ],
   "source": [
    "len(del_indices) == len(heads_indices) == len(cwes_indices)"
   ]
  },
  {
   "cell_type": "code",
   "execution_count": 11,
   "id": "0e592c9d",
   "metadata": {},
   "outputs": [],
   "source": [
    "codes_list = []\n",
    "for i in range(len(del_indices)):\n",
    "    start = heads_indices[i]+1\n",
    "    end = cwes_indices[i]\n",
    "    codes = lines[start:end]\n",
    "    codes = '\\n'.join(codes)\n",
    "    codes_list.append(codes)"
   ]
  },
  {
   "cell_type": "code",
   "execution_count": 12,
   "id": "aeafb612",
   "metadata": {},
   "outputs": [
    {
     "data": {
      "text/html": [
       "<div>\n",
       "<style scoped>\n",
       "    .dataframe tbody tr th:only-of-type {\n",
       "        vertical-align: middle;\n",
       "    }\n",
       "\n",
       "    .dataframe tbody tr th {\n",
       "        vertical-align: top;\n",
       "    }\n",
       "\n",
       "    .dataframe thead th {\n",
       "        text-align: right;\n",
       "    }\n",
       "</style>\n",
       "<table border=\"1\" class=\"dataframe\">\n",
       "  <thead>\n",
       "    <tr style=\"text-align: right;\">\n",
       "      <th></th>\n",
       "      <th>info</th>\n",
       "      <th>CWE ID</th>\n",
       "      <th>code</th>\n",
       "      <th>vul</th>\n",
       "    </tr>\n",
       "  </thead>\n",
       "  <tbody>\n",
       "    <tr>\n",
       "      <th>0</th>\n",
       "      <td>150200/dirent_uri.c memset 405</td>\n",
       "      <td>non-vulnerable</td>\n",
       "      <td>const char *svn_relpath__internal_style(const ...</td>\n",
       "      <td>0</td>\n",
       "    </tr>\n",
       "    <tr>\n",
       "      <th>1</th>\n",
       "      <td>79848/CWE134_Uncontrolled_Format_String__char...</td>\n",
       "      <td>non-vulnerable</td>\n",
       "      <td>static void goodG2B() 64\\nchar * data ; 66\\nch...</td>\n",
       "      <td>0</td>\n",
       "    </tr>\n",
       "    <tr>\n",
       "      <th>2</th>\n",
       "      <td>94203/CWE319_Cleartext_Tx_Sensitive_Info__w32...</td>\n",
       "      <td>non-vulnerable</td>\n",
       "      <td>static void goodB2G2() 289\\nwchar_t * password...</td>\n",
       "      <td>0</td>\n",
       "    </tr>\n",
       "    <tr>\n",
       "      <th>3</th>\n",
       "      <td>151133/utils.c strcmp 737</td>\n",
       "      <td>non-vulnerable</td>\n",
       "      <td>int avformat_open_input(AVFormatContext **ps,c...</td>\n",
       "      <td>0</td>\n",
       "    </tr>\n",
       "    <tr>\n",
       "      <th>4</th>\n",
       "      <td>94266/CWE319_Cleartext_Tx_Sensitive_Info__w32...</td>\n",
       "      <td>CWE-311</td>\n",
       "      <td>void CWE319_Cleartext_Tx_Sensitive_Info__w32_w...</td>\n",
       "      <td>1</td>\n",
       "    </tr>\n",
       "    <tr>\n",
       "      <th>5</th>\n",
       "      <td>72889/CWE122_Heap_Based_Buffer_Overflow__c_de...</td>\n",
       "      <td>non-vulnerable</td>\n",
       "      <td>static void goodG2B() 56\\nvector &lt; char * &gt; da...</td>\n",
       "      <td>0</td>\n",
       "    </tr>\n",
       "    <tr>\n",
       "      <th>6</th>\n",
       "      <td>78327/CWE127_Buffer_Underread__new_char_memcp...</td>\n",
       "      <td>non-vulnerable</td>\n",
       "      <td>static void goodG2B2() 93\\nchar * data ; 95\\nd...</td>\n",
       "      <td>0</td>\n",
       "    </tr>\n",
       "    <tr>\n",
       "      <th>7</th>\n",
       "      <td>95615/CWE36_Absolute_Path_Traversal__char_con...</td>\n",
       "      <td>non-vulnerable</td>\n",
       "      <td>void bad() 55\\nchar * data ; 57\\nchar dataBuff...</td>\n",
       "      <td>0</td>\n",
       "    </tr>\n",
       "    <tr>\n",
       "      <th>8</th>\n",
       "      <td>80601/CWE134_Uncontrolled_Format_String__wcha...</td>\n",
       "      <td>non-vulnerable</td>\n",
       "      <td>static void goodB2G() 136\\nwchar_t * data ; 13...</td>\n",
       "      <td>0</td>\n",
       "    </tr>\n",
       "    <tr>\n",
       "      <th>9</th>\n",
       "      <td>0 153579/dfa.c xmalloc 2585</td>\n",
       "      <td>non-vulnerable</td>\n",
       "      <td>void dfacomp(const char *s,size_t len,struct d...</td>\n",
       "      <td>0</td>\n",
       "    </tr>\n",
       "  </tbody>\n",
       "</table>\n",
       "</div>"
      ],
      "text/plain": [
       "                                                info          CWE ID  \\\n",
       "0                     150200/dirent_uri.c memset 405  non-vulnerable   \n",
       "1   79848/CWE134_Uncontrolled_Format_String__char...  non-vulnerable   \n",
       "2   94203/CWE319_Cleartext_Tx_Sensitive_Info__w32...  non-vulnerable   \n",
       "3                          151133/utils.c strcmp 737  non-vulnerable   \n",
       "4   94266/CWE319_Cleartext_Tx_Sensitive_Info__w32...         CWE-311   \n",
       "5   72889/CWE122_Heap_Based_Buffer_Overflow__c_de...  non-vulnerable   \n",
       "6   78327/CWE127_Buffer_Underread__new_char_memcp...  non-vulnerable   \n",
       "7   95615/CWE36_Absolute_Path_Traversal__char_con...  non-vulnerable   \n",
       "8   80601/CWE134_Uncontrolled_Format_String__wcha...  non-vulnerable   \n",
       "9                        0 153579/dfa.c xmalloc 2585  non-vulnerable   \n",
       "\n",
       "                                                code  vul  \n",
       "0  const char *svn_relpath__internal_style(const ...    0  \n",
       "1  static void goodG2B() 64\\nchar * data ; 66\\nch...    0  \n",
       "2  static void goodB2G2() 289\\nwchar_t * password...    0  \n",
       "3  int avformat_open_input(AVFormatContext **ps,c...    0  \n",
       "4  void CWE319_Cleartext_Tx_Sensitive_Info__w32_w...    1  \n",
       "5  static void goodG2B() 56\\nvector < char * > da...    0  \n",
       "6  static void goodG2B2() 93\\nchar * data ; 95\\nd...    0  \n",
       "7  void bad() 55\\nchar * data ; 57\\nchar dataBuff...    0  \n",
       "8  static void goodB2G() 136\\nwchar_t * data ; 13...    0  \n",
       "9  void dfacomp(const char *s,size_t len,struct d...    0  "
      ]
     },
     "execution_count": 12,
     "metadata": {},
     "output_type": "execute_result"
    }
   ],
   "source": [
    "data = {'info':head_list, 'CWE ID':cwes_names, 'code':codes_list, 'vul':vul_list}\n",
    "df = pd.DataFrame(data=data)\n",
    "df.head(10)"
   ]
  },
  {
   "cell_type": "markdown",
   "id": "395437f9",
   "metadata": {},
   "source": [
    "### Save dataframe to csv file"
   ]
  },
  {
   "cell_type": "code",
   "execution_count": 13,
   "id": "8d611fe9",
   "metadata": {},
   "outputs": [],
   "source": [
    "df.to_csv(\"preprocessed dataset/MVD.csv\")"
   ]
  }
 ],
 "metadata": {
  "kernelspec": {
   "display_name": "Python 3 (ipykernel)",
   "language": "python",
   "name": "python3"
  },
  "language_info": {
   "codemirror_mode": {
    "name": "ipython",
    "version": 3
   },
   "file_extension": ".py",
   "mimetype": "text/x-python",
   "name": "python",
   "nbconvert_exporter": "python",
   "pygments_lexer": "ipython3",
   "version": "3.9.13"
  }
 },
 "nbformat": 4,
 "nbformat_minor": 5
}
