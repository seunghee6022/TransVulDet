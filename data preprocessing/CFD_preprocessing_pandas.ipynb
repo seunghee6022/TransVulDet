{
 "cells": [
  {
   "cell_type": "code",
   "execution_count": 25,
   "id": "f5d3c347",
   "metadata": {},
   "outputs": [],
   "source": [
    "import pandas as pd\n",
    "import sys\n",
    "import csv\n",
    "maxInt = sys.maxsize\n",
    "\n",
    "while True:\n",
    "    # decrease the maxInt value by factor 10\n",
    "    # as long as the OverflowError occurs.\n",
    "\n",
    "    try:\n",
    "        csv.field_size_limit(maxInt)\n",
    "        break\n",
    "    except OverflowError:\n",
    "        maxInt = int(maxInt/10)\n"
   ]
  },
  {
   "cell_type": "code",
   "execution_count": 26,
   "id": "d594f10f",
   "metadata": {},
   "outputs": [
    {
     "name": "stderr",
     "output_type": "stream",
     "text": [
      "/tmp/ipykernel_31155/4186414312.py:1: FutureWarning: The error_bad_lines argument has been deprecated and will be removed in a future version. Use on_bad_lines in the future.\n",
      "\n",
      "\n",
      "  cfd_df = pd.read_csv('CFD/cdf_chunk_cnt3_¤.csv', chunksize=10000, delimiter='¤', engine='python',error_bad_lines=False, quoting=3, encoding='utf-8')\n"
     ]
    }
   ],
   "source": [
    "cfd_df = pd.read_csv('CFD/cdf_chunk_cnt3_¤.csv', chunksize=10000, delimiter='¤', engine='python',error_bad_lines=False, quoting=3, encoding='utf-8')"
   ]
  },
  {
   "cell_type": "code",
   "execution_count": 27,
   "id": "c55e61ae",
   "metadata": {},
   "outputs": [],
   "source": [
    "def concat_to_df(df):\n",
    "    df_temp = []\n",
    "    cnt = 0\n",
    "    for chunk in df:\n",
    "        if cnt < 3:\n",
    "            df_temp.append(chunk)\n",
    "            cnt+=1\n",
    "        else: break\n",
    "    df = pd.concat(df_temp, ignore_index=True)\n",
    "    return df"
   ]
  },
  {
   "cell_type": "code",
   "execution_count": 28,
   "id": "188b8607",
   "metadata": {},
   "outputs": [
    {
     "name": "stdout",
     "output_type": "stream",
     "text": [
      "cfd_df - Total rows before removing NaN (25367, 10)\n"
     ]
    }
   ],
   "source": [
    "cfd_df = concat_to_df(cfd_df)\n",
    "print(\"cfd_df - Total rows before removing NaN\", cfd_df.shape)\n"
   ]
  },
  {
   "cell_type": "code",
   "execution_count": 29,
   "id": "7274c479",
   "metadata": {},
   "outputs": [
    {
     "name": "stdout",
     "output_type": "stream",
     "text": [
      "Column -- value\n",
      "Value in column 'Unnamed: 0.1' and first row:    Copyright (C) 1995, 1996, 1997, 1998, 1999 Free Software Foundation, Inc.\n",
      "Value in column 'Unnamed: 0' and first row: None\n",
      "Value in column 'cve_id' and first row: None\n",
      "Value in column 'code_before' and first row: None\n",
      "Value in column 'code_after' and first row: None\n",
      "Value in column 'programming_language' and first row: None\n",
      "Value in column 'cwe_id' and first row: nan\n",
      "Value in column 'is_category' and first row: nan\n",
      "Value in column 'cwe_name' and first row: nan\n",
      "Value in column 'code' and first row: nan\n"
     ]
    }
   ],
   "source": [
    "print(\"Column -- value\")\n",
    "# iterate through the columns of the DataFrame\n",
    "for col in cfd_df.columns:\n",
    "    # access the value in the first row of each column\n",
    "    value = cfd_df.loc[1, col]\n",
    "    print(f\"Value in column '{col}' and first row: {value}\")\n",
    "\n"
   ]
  },
  {
   "cell_type": "code",
   "execution_count": 30,
   "id": "4e37d6fe",
   "metadata": {},
   "outputs": [
    {
     "name": "stdout",
     "output_type": "stream",
     "text": [
      "cfd_df - DataFrame Head\n"
     ]
    },
    {
     "data": {
      "text/html": [
       "<div>\n",
       "<style scoped>\n",
       "    .dataframe tbody tr th:only-of-type {\n",
       "        vertical-align: middle;\n",
       "    }\n",
       "\n",
       "    .dataframe tbody tr th {\n",
       "        vertical-align: top;\n",
       "    }\n",
       "\n",
       "    .dataframe thead th {\n",
       "        text-align: right;\n",
       "    }\n",
       "</style>\n",
       "<table border=\"1\" class=\"dataframe\">\n",
       "  <thead>\n",
       "    <tr style=\"text-align: right;\">\n",
       "      <th></th>\n",
       "      <th>Unnamed: 0.1</th>\n",
       "      <th>Unnamed: 0</th>\n",
       "      <th>cve_id</th>\n",
       "      <th>code_before</th>\n",
       "      <th>code_after</th>\n",
       "      <th>programming_language</th>\n",
       "      <th>cwe_id</th>\n",
       "      <th>is_category</th>\n",
       "      <th>cwe_name</th>\n",
       "      <th>code</th>\n",
       "    </tr>\n",
       "  </thead>\n",
       "  <tbody>\n",
       "    <tr>\n",
       "      <th>0</th>\n",
       "      <td>0</td>\n",
       "      <td>0</td>\n",
       "      <td>CVE-1999-0199</td>\n",
       "      <td>\"/* Map in a shared object's segments from the...</td>\n",
       "      <td>None</td>\n",
       "      <td>None</td>\n",
       "      <td>NaN</td>\n",
       "      <td>NaN</td>\n",
       "      <td>NaN</td>\n",
       "      <td>NaN</td>\n",
       "    </tr>\n",
       "    <tr>\n",
       "      <th>1</th>\n",
       "      <td>Copyright (C) 1995, 1996, 1997, 1998, 1999 ...</td>\n",
       "      <td>None</td>\n",
       "      <td>None</td>\n",
       "      <td>None</td>\n",
       "      <td>None</td>\n",
       "      <td>None</td>\n",
       "      <td>NaN</td>\n",
       "      <td>NaN</td>\n",
       "      <td>NaN</td>\n",
       "      <td>NaN</td>\n",
       "    </tr>\n",
       "    <tr>\n",
       "      <th>2</th>\n",
       "      <td>This file is part of the GNU C Library.</td>\n",
       "      <td>None</td>\n",
       "      <td>None</td>\n",
       "      <td>None</td>\n",
       "      <td>None</td>\n",
       "      <td>None</td>\n",
       "      <td>NaN</td>\n",
       "      <td>NaN</td>\n",
       "      <td>NaN</td>\n",
       "      <td>NaN</td>\n",
       "    </tr>\n",
       "    <tr>\n",
       "      <th>3</th>\n",
       "      <td>The GNU C Library is free software; you can...</td>\n",
       "      <td>None</td>\n",
       "      <td>None</td>\n",
       "      <td>None</td>\n",
       "      <td>None</td>\n",
       "      <td>None</td>\n",
       "      <td>NaN</td>\n",
       "      <td>NaN</td>\n",
       "      <td>NaN</td>\n",
       "      <td>NaN</td>\n",
       "    </tr>\n",
       "    <tr>\n",
       "      <th>4</th>\n",
       "      <td>modify it under the terms of the GNU Librar...</td>\n",
       "      <td>None</td>\n",
       "      <td>None</td>\n",
       "      <td>None</td>\n",
       "      <td>None</td>\n",
       "      <td>None</td>\n",
       "      <td>NaN</td>\n",
       "      <td>NaN</td>\n",
       "      <td>NaN</td>\n",
       "      <td>NaN</td>\n",
       "    </tr>\n",
       "  </tbody>\n",
       "</table>\n",
       "</div>"
      ],
      "text/plain": [
       "                                        Unnamed: 0.1 Unnamed: 0  \\\n",
       "0                                                  0          0   \n",
       "1     Copyright (C) 1995, 1996, 1997, 1998, 1999 ...       None   \n",
       "2            This file is part of the GNU C Library.       None   \n",
       "3     The GNU C Library is free software; you can...       None   \n",
       "4     modify it under the terms of the GNU Librar...       None   \n",
       "\n",
       "          cve_id                                        code_before  \\\n",
       "0  CVE-1999-0199  \"/* Map in a shared object's segments from the...   \n",
       "1           None                                               None   \n",
       "2           None                                               None   \n",
       "3           None                                               None   \n",
       "4           None                                               None   \n",
       "\n",
       "  code_after programming_language  cwe_id  is_category  cwe_name  code  \n",
       "0       None                 None     NaN          NaN       NaN   NaN  \n",
       "1       None                 None     NaN          NaN       NaN   NaN  \n",
       "2       None                 None     NaN          NaN       NaN   NaN  \n",
       "3       None                 None     NaN          NaN       NaN   NaN  \n",
       "4       None                 None     NaN          NaN       NaN   NaN  "
      ]
     },
     "execution_count": 30,
     "metadata": {},
     "output_type": "execute_result"
    }
   ],
   "source": [
    "print(\"cfd_df - DataFrame Head\")\n",
    "cfd_df.head(5)"
   ]
  },
  {
   "cell_type": "code",
   "execution_count": 31,
   "id": "304c3b58",
   "metadata": {},
   "outputs": [
    {
     "name": "stdout",
     "output_type": "stream",
     "text": [
      "Total rows after removing NaN in CWE ID (0, 10)\n"
     ]
    }
   ],
   "source": [
    "# drop rows where column contains NaN values\n",
    "cfd_df = cfd_df.dropna(subset=['cwe_id'])\n",
    "print(\"Total rows after removing NaN in CWE ID\", cfd_df.shape)\n"
   ]
  },
  {
   "cell_type": "code",
   "execution_count": 32,
   "id": "ac3ff45d",
   "metadata": {},
   "outputs": [
    {
     "name": "stdout",
     "output_type": "stream",
     "text": [
      "Total rows after removing NaN in code_before (0, 10)\n"
     ]
    }
   ],
   "source": [
    "cfd_df = cfd_df.dropna(subset=['code_before'])\n",
    "print(\"Total rows after removing NaN in code_before\", cfd_df.shape)\n"
   ]
  },
  {
   "cell_type": "code",
   "execution_count": 33,
   "id": "2c5aa680",
   "metadata": {},
   "outputs": [
    {
     "name": "stdout",
     "output_type": "stream",
     "text": [
      "DataFrame Head\n"
     ]
    },
    {
     "data": {
      "text/html": [
       "<div>\n",
       "<style scoped>\n",
       "    .dataframe tbody tr th:only-of-type {\n",
       "        vertical-align: middle;\n",
       "    }\n",
       "\n",
       "    .dataframe tbody tr th {\n",
       "        vertical-align: top;\n",
       "    }\n",
       "\n",
       "    .dataframe thead th {\n",
       "        text-align: right;\n",
       "    }\n",
       "</style>\n",
       "<table border=\"1\" class=\"dataframe\">\n",
       "  <thead>\n",
       "    <tr style=\"text-align: right;\">\n",
       "      <th></th>\n",
       "      <th>Unnamed: 0.1</th>\n",
       "      <th>Unnamed: 0</th>\n",
       "      <th>cve_id</th>\n",
       "      <th>code_before</th>\n",
       "      <th>code_after</th>\n",
       "      <th>programming_language</th>\n",
       "      <th>cwe_id</th>\n",
       "      <th>is_category</th>\n",
       "      <th>cwe_name</th>\n",
       "      <th>code</th>\n",
       "    </tr>\n",
       "  </thead>\n",
       "  <tbody>\n",
       "  </tbody>\n",
       "</table>\n",
       "</div>"
      ],
      "text/plain": [
       "Empty DataFrame\n",
       "Columns: [Unnamed: 0.1, Unnamed: 0, cve_id, code_before, code_after, programming_language, cwe_id, is_category, cwe_name, code]\n",
       "Index: []"
      ]
     },
     "execution_count": 33,
     "metadata": {},
     "output_type": "execute_result"
    }
   ],
   "source": [
    "print(\"DataFrame Head\")\n",
    "cfd_df.head(5)\n"
   ]
  },
  {
   "cell_type": "code",
   "execution_count": null,
   "id": "66e55589",
   "metadata": {},
   "outputs": [],
   "source": []
  },
  {
   "cell_type": "code",
   "execution_count": 34,
   "id": "8c213e01",
   "metadata": {},
   "outputs": [
    {
     "name": "stderr",
     "output_type": "stream",
     "text": [
      "/tmp/ipykernel_31155/2640914786.py:1: FutureWarning: The error_bad_lines argument has been deprecated and will be removed in a future version. Use on_bad_lines in the future.\n",
      "\n",
      "\n",
      "  df = pd.read_csv('CFD/CFD_.csv', chunksize=10000, engine='python',error_bad_lines=False, quoting=3, encoding='utf-8')\n"
     ]
    }
   ],
   "source": [
    "df = pd.read_csv('CFD/CFD_.csv', chunksize=10000, engine='python',error_bad_lines=False, quoting=3, encoding='utf-8')"
   ]
  },
  {
   "cell_type": "code",
   "execution_count": 35,
   "id": "78ab48b2",
   "metadata": {},
   "outputs": [
    {
     "name": "stdout",
     "output_type": "stream",
     "text": [
      "df -Total rows before removing NaN (25367, 9)\n"
     ]
    }
   ],
   "source": [
    "df = concat_to_df(df)\n",
    "print(\"df -Total rows before removing NaN\", df.shape)"
   ]
  },
  {
   "cell_type": "code",
   "execution_count": 37,
   "id": "3f053fce",
   "metadata": {},
   "outputs": [
    {
     "name": "stdout",
     "output_type": "stream",
     "text": [
      "df - DataFrame Head\n"
     ]
    },
    {
     "data": {
      "text/html": [
       "<div>\n",
       "<style scoped>\n",
       "    .dataframe tbody tr th:only-of-type {\n",
       "        vertical-align: middle;\n",
       "    }\n",
       "\n",
       "    .dataframe tbody tr th {\n",
       "        vertical-align: top;\n",
       "    }\n",
       "\n",
       "    .dataframe thead th {\n",
       "        text-align: right;\n",
       "    }\n",
       "</style>\n",
       "<table border=\"1\" class=\"dataframe\">\n",
       "  <thead>\n",
       "    <tr style=\"text-align: right;\">\n",
       "      <th></th>\n",
       "      <th>Unnamed: 0</th>\n",
       "      <th>cve_id</th>\n",
       "      <th>code_before</th>\n",
       "      <th>code_after</th>\n",
       "      <th>programming_language</th>\n",
       "      <th>cwe_id</th>\n",
       "      <th>is_category</th>\n",
       "      <th>cwe_name</th>\n",
       "      <th>code</th>\n",
       "    </tr>\n",
       "  </thead>\n",
       "  <tbody>\n",
       "    <tr>\n",
       "      <th>0</th>\n",
       "      <td>0</td>\n",
       "      <td>CVE-1999-0199</td>\n",
       "      <td>\"/* Map in a shared object's segments from the...</td>\n",
       "      <td>None</td>\n",
       "      <td>None</td>\n",
       "      <td>None</td>\n",
       "      <td>None</td>\n",
       "      <td>None</td>\n",
       "      <td>NaN</td>\n",
       "    </tr>\n",
       "    <tr>\n",
       "      <th>1</th>\n",
       "      <td>Copyright (C) 1995</td>\n",
       "      <td>1996</td>\n",
       "      <td>1997</td>\n",
       "      <td>1998</td>\n",
       "      <td>1999 Free Software Foundation</td>\n",
       "      <td>Inc.</td>\n",
       "      <td>None</td>\n",
       "      <td>None</td>\n",
       "      <td>NaN</td>\n",
       "    </tr>\n",
       "    <tr>\n",
       "      <th>2</th>\n",
       "      <td>This file is part of the GNU C Library.</td>\n",
       "      <td>None</td>\n",
       "      <td>None</td>\n",
       "      <td>None</td>\n",
       "      <td>None</td>\n",
       "      <td>None</td>\n",
       "      <td>None</td>\n",
       "      <td>None</td>\n",
       "      <td>NaN</td>\n",
       "    </tr>\n",
       "    <tr>\n",
       "      <th>3</th>\n",
       "      <td>The GNU C Library is free software; you can...</td>\n",
       "      <td>None</td>\n",
       "      <td>None</td>\n",
       "      <td>None</td>\n",
       "      <td>None</td>\n",
       "      <td>None</td>\n",
       "      <td>None</td>\n",
       "      <td>None</td>\n",
       "      <td>NaN</td>\n",
       "    </tr>\n",
       "    <tr>\n",
       "      <th>4</th>\n",
       "      <td>modify it under the terms of the GNU Librar...</td>\n",
       "      <td>None</td>\n",
       "      <td>None</td>\n",
       "      <td>None</td>\n",
       "      <td>None</td>\n",
       "      <td>None</td>\n",
       "      <td>None</td>\n",
       "      <td>None</td>\n",
       "      <td>NaN</td>\n",
       "    </tr>\n",
       "  </tbody>\n",
       "</table>\n",
       "</div>"
      ],
      "text/plain": [
       "                                          Unnamed: 0         cve_id  \\\n",
       "0                                                  0  CVE-1999-0199   \n",
       "1                                 Copyright (C) 1995           1996   \n",
       "2            This file is part of the GNU C Library.           None   \n",
       "3     The GNU C Library is free software; you can...           None   \n",
       "4     modify it under the terms of the GNU Librar...           None   \n",
       "\n",
       "                                         code_before code_after  \\\n",
       "0  \"/* Map in a shared object's segments from the...       None   \n",
       "1                                               1997       1998   \n",
       "2                                               None       None   \n",
       "3                                               None       None   \n",
       "4                                               None       None   \n",
       "\n",
       "             programming_language cwe_id is_category cwe_name code  \n",
       "0                            None   None        None     None  NaN  \n",
       "1   1999 Free Software Foundation   Inc.        None     None  NaN  \n",
       "2                            None   None        None     None  NaN  \n",
       "3                            None   None        None     None  NaN  \n",
       "4                            None   None        None     None  NaN  "
      ]
     },
     "execution_count": 37,
     "metadata": {},
     "output_type": "execute_result"
    }
   ],
   "source": [
    "print(\"df - DataFrame Head\")\n",
    "df.head(5)"
   ]
  },
  {
   "cell_type": "code",
   "execution_count": null,
   "id": "6d11d2f7",
   "metadata": {},
   "outputs": [],
   "source": []
  }
 ],
 "metadata": {
  "kernelspec": {
   "display_name": "Python 3 (ipykernel)",
   "language": "python",
   "name": "python3"
  },
  "language_info": {
   "codemirror_mode": {
    "name": "ipython",
    "version": 3
   },
   "file_extension": ".py",
   "mimetype": "text/x-python",
   "name": "python",
   "nbconvert_exporter": "python",
   "pygments_lexer": "ipython3",
   "version": "3.10.0"
  }
 },
 "nbformat": 4,
 "nbformat_minor": 5
}
