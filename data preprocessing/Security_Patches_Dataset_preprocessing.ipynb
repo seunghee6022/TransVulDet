{
 "cells": [
  {
   "cell_type": "markdown",
   "id": "be38b867",
   "metadata": {},
   "source": [
    "# Security_Patches_Dataset\n",
    "\n",
    "In abstract,\n",
    "\n",
    "\n",
    "...We scraped the entire CVE details database for GitHub references and augmented the data with 3 security-related datasets. We used the data to create a ground-truth dataset of natural language artifacts (such as commit messages, commits comments, and summaries), meta-data and code changes. __Our dataset integrates a total of 8057 security-relevant commits -- the equivalent to 5942 security patches -- from 1339 different projects spanning 146 different types of vulnerabilities and 20 languages.__ A dataset of 110k non-security-related commits is also provided. Data and scripts are all available on GitHub. Data is stored in a .CSV file. ...\n",
    "\n",
    "https://arxiv.org/abs/2110.09635\n",
    "\n",
    "\n",
    "After preprocessing, total 6902"
   ]
  },
  {
   "cell_type": "code",
   "execution_count": 3,
   "id": "bd1e6757",
   "metadata": {},
   "outputs": [],
   "source": [
    "import pandas as pd\n",
    "import numpy as np "
   ]
  },
  {
   "cell_type": "code",
   "execution_count": 4,
   "id": "14dd4bcf",
   "metadata": {},
   "outputs": [],
   "source": [
    "def concat_to_df(df):\n",
    "    df_temp = []\n",
    "    for chunk in df:\n",
    "        df_temp.append(chunk)\n",
    "\n",
    "    df = pd.concat(df_temp,ignore_index = True)\n",
    "    return df"
   ]
  },
  {
   "cell_type": "markdown",
   "id": "04cd9ad4",
   "metadata": {},
   "source": [
    "## Respective Dataset Analysis"
   ]
  },
  {
   "cell_type": "code",
   "execution_count": 5,
   "id": "26f05bbd",
   "metadata": {},
   "outputs": [],
   "source": [
    "data_dir = 'security-patches-dataset/data/'"
   ]
  },
  {
   "cell_type": "code",
   "execution_count": 6,
   "id": "60244db8",
   "metadata": {},
   "outputs": [],
   "source": [
    "big_vul = pd.read_csv(data_dir+\"bigvul/all-bigvul-patches.csv\", on_bad_lines='skip', chunksize=10000)\n",
    "\n",
    "cve_details = pd.read_csv(data_dir+\"cve-details/all-cve-details-patches.csv\", on_bad_lines='skip', chunksize=10000)\n",
    "\n",
    "osv = pd.read_csv(data_dir+\"osv/all-osv-patches.csv\", on_bad_lines='skip', chunksize=10000)\n",
    "\n",
    "nvd = pd.read_csv(data_dir+\"nvd/all-nvd-patches.csv\", on_bad_lines='skip', chunksize=10000)\n",
    "\n",
    "sap = pd.read_csv(data_dir+\"sap/all-sap-patches.csv\", on_bad_lines='skip', chunksize=10000)\n",
    "\n",
    "secbench = pd.read_csv(data_dir+\"secbench/github-secbench-patches.csv\", on_bad_lines='skip', chunksize=10000)"
   ]
  },
  {
   "cell_type": "code",
   "execution_count": 7,
   "id": "dbe3c40e",
   "metadata": {},
   "outputs": [
    {
     "name": "stdout",
     "output_type": "stream",
     "text": [
      "9546\n"
     ]
    },
    {
     "data": {
      "text/html": [
       "<div>\n",
       "<style scoped>\n",
       "    .dataframe tbody tr th:only-of-type {\n",
       "        vertical-align: middle;\n",
       "    }\n",
       "\n",
       "    .dataframe tbody tr th {\n",
       "        vertical-align: top;\n",
       "    }\n",
       "\n",
       "    .dataframe thead th {\n",
       "        text-align: right;\n",
       "    }\n",
       "</style>\n",
       "<table border=\"1\" class=\"dataframe\">\n",
       "  <thead>\n",
       "    <tr style=\"text-align: right;\">\n",
       "      <th></th>\n",
       "      <th>Unnamed: 0</th>\n",
       "      <th>authentication_required</th>\n",
       "      <th>availability_impact</th>\n",
       "      <th>cve_id</th>\n",
       "      <th>cve_page</th>\n",
       "      <th>cwe_id</th>\n",
       "      <th>access_complexity</th>\n",
       "      <th>confidentiality_impact</th>\n",
       "      <th>integrity_impact</th>\n",
       "      <th>publish_date</th>\n",
       "      <th>...</th>\n",
       "      <th>vulnerability_classification</th>\n",
       "      <th>refs</th>\n",
       "      <th>commit_id</th>\n",
       "      <th>commit_message</th>\n",
       "      <th>files_changed</th>\n",
       "      <th>lang</th>\n",
       "      <th>project</th>\n",
       "      <th>version_after_fix</th>\n",
       "      <th>version_before_fix</th>\n",
       "      <th>code_refs</th>\n",
       "    </tr>\n",
       "  </thead>\n",
       "  <tbody>\n",
       "    <tr>\n",
       "      <th>0</th>\n",
       "      <td>{\\sha\\\": \\\"8fb70313eb8835dcce812a86209e2a7d884...</td>\n",
       "      <td>\\\"filename\\\": \\\"pango/glyphstring.c\\\"</td>\n",
       "      <td>\\\"status\\\": \\\"modified\\\"</td>\n",
       "      <td>\\\"additions\\\": 20</td>\n",
       "      <td>\\\"deletions\\\": 6</td>\n",
       "      <td>\\\"changes\\\": 26</td>\n",
       "      <td>\\\"blob_url\\\": \\\"https://github.com/bratsche/p...</td>\n",
       "      <td>\\\"raw_url\\\": \\\"https://github.com/bratsche/pa...</td>\n",
       "      <td>\\\"contents_url\\\": \\\"https://api.github.com/re...</td>\n",
       "      <td>\\\"patch\\\": \\\"@@ -61</td>\n",
       "      <td>...</td>\n",
       "      <td>truncated\\\\\\\");\\\\n-\\\\t  new_len = string-&gt;spa...</td>\n",
       "      <td>G_MAXSIZE / MAX (sizeof(PangoGlyphInfo)</td>\n",
       "      <td>sizeof(gint)));\\\\n+\\\\n+\\\\t  guint more_space ...</td>\n",
       "      <td>\\\\n+\\\\t\\\\t\\\\t   G_STRLOC</td>\n",
       "      <td>new_len);\\\\n+\\\\t\\\\t}\\\\n+\\\\t    }\\\\n+\\\\n+\\\\t  ...</td>\n",
       "      <td>C</td>\n",
       "      <td>pango</td>\n",
       "      <td>4de30e5500eaeb49f4bf0b7a07f718e149a2ed5e</td>\n",
       "      <td>1c9433bfe43890b102c8cead8ab3ee34b44c5c37</td>\n",
       "      <td>{'https://github.com/bratsche/pango/commit/4de...</td>\n",
       "    </tr>\n",
       "  </tbody>\n",
       "</table>\n",
       "<p>1 rows × 23 columns</p>\n",
       "</div>"
      ],
      "text/plain": [
       "                                          Unnamed: 0  \\\n",
       "0  {\\sha\\\": \\\"8fb70313eb8835dcce812a86209e2a7d884...   \n",
       "\n",
       "                  authentication_required        availability_impact  \\\n",
       "0   \\\"filename\\\": \\\"pango/glyphstring.c\\\"   \\\"status\\\": \\\"modified\\\"   \n",
       "\n",
       "               cve_id           cve_page            cwe_id  \\\n",
       "0   \\\"additions\\\": 20   \\\"deletions\\\": 6   \\\"changes\\\": 26   \n",
       "\n",
       "                                   access_complexity  \\\n",
       "0   \\\"blob_url\\\": \\\"https://github.com/bratsche/p...   \n",
       "\n",
       "                              confidentiality_impact  \\\n",
       "0   \\\"raw_url\\\": \\\"https://github.com/bratsche/pa...   \n",
       "\n",
       "                                    integrity_impact          publish_date  \\\n",
       "0   \\\"contents_url\\\": \\\"https://api.github.com/re...   \\\"patch\\\": \\\"@@ -61   \n",
       "\n",
       "   ...                       vulnerability_classification  \\\n",
       "0  ...   truncated\\\\\\\");\\\\n-\\\\t  new_len = string->spa...   \n",
       "\n",
       "                                       refs  \\\n",
       "0   G_MAXSIZE / MAX (sizeof(PangoGlyphInfo)   \n",
       "\n",
       "                                           commit_id  \\\n",
       "0   sizeof(gint)));\\\\n+\\\\n+\\\\t  guint more_space ...   \n",
       "\n",
       "             commit_message  \\\n",
       "0  \\\\n+\\\\t\\\\t\\\\t   G_STRLOC   \n",
       "\n",
       "                                       files_changed lang project  \\\n",
       "0   new_len);\\\\n+\\\\t\\\\t}\\\\n+\\\\t    }\\\\n+\\\\n+\\\\t  ...    C   pango   \n",
       "\n",
       "                          version_after_fix  \\\n",
       "0  4de30e5500eaeb49f4bf0b7a07f718e149a2ed5e   \n",
       "\n",
       "                         version_before_fix  \\\n",
       "0  1c9433bfe43890b102c8cead8ab3ee34b44c5c37   \n",
       "\n",
       "                                           code_refs  \n",
       "0  {'https://github.com/bratsche/pango/commit/4de...  \n",
       "\n",
       "[1 rows x 23 columns]"
      ]
     },
     "execution_count": 7,
     "metadata": {},
     "output_type": "execute_result"
    }
   ],
   "source": [
    "big_vul_df = concat_to_df(big_vul)\n",
    "print(big_vul_df.shape[0])\n",
    "big_vul_df.head(1)"
   ]
  },
  {
   "cell_type": "code",
   "execution_count": 8,
   "id": "cb4a4d23",
   "metadata": {},
   "outputs": [
    {
     "data": {
      "text/html": [
       "<div>\n",
       "<style scoped>\n",
       "    .dataframe tbody tr th:only-of-type {\n",
       "        vertical-align: middle;\n",
       "    }\n",
       "\n",
       "    .dataframe tbody tr th {\n",
       "        vertical-align: top;\n",
       "    }\n",
       "\n",
       "    .dataframe thead th {\n",
       "        text-align: right;\n",
       "    }\n",
       "</style>\n",
       "<table border=\"1\" class=\"dataframe\">\n",
       "  <thead>\n",
       "    <tr style=\"text-align: right;\">\n",
       "      <th></th>\n",
       "      <th>vulnerability_classification</th>\n",
       "      <th>cwe_id</th>\n",
       "      <th>lang</th>\n",
       "      <th>version_after_fix</th>\n",
       "      <th>version_before_fix</th>\n",
       "    </tr>\n",
       "  </thead>\n",
       "  <tbody>\n",
       "    <tr>\n",
       "      <th>0</th>\n",
       "      <td>truncated\\\\\\\");\\\\n-\\\\t  new_len = string-&gt;spa...</td>\n",
       "      <td>\\\"changes\\\": 26</td>\n",
       "      <td>C</td>\n",
       "      <td>4de30e5500eaeb49f4bf0b7a07f718e149a2ed5e</td>\n",
       "      <td>1c9433bfe43890b102c8cead8ab3ee34b44c5c37</td>\n",
       "    </tr>\n",
       "    <tr>\n",
       "      <th>1</th>\n",
       "      <td>C</td>\n",
       "      <td>\\\"changes\\\": 2</td>\n",
       "      <td>NaN</td>\n",
       "      <td>NaN</td>\n",
       "      <td>NaN</td>\n",
       "    </tr>\n",
       "    <tr>\n",
       "      <th>2</th>\n",
       "      <td>7 @@ void parser(void)\\\\n             addreply...</td>\n",
       "      <td>\\\"changes\\\": 11</td>\n",
       "      <td>67b0385e0871ad3fc48b2244abb30eb673161146</td>\n",
       "      <td>NaN</td>\n",
       "      <td>NaN</td>\n",
       "    </tr>\n",
       "    <tr>\n",
       "      <th>3</th>\n",
       "      <td>7 @@ int mainloop(CLIENT *client) {\\\\n \\\\n \\\\t...</td>\n",
       "      <td>\\\"changes\\\": 4</td>\n",
       "      <td>3ef52043861ab16352d49af89e048ba6339d6df8</td>\n",
       "      <td>{'https://github.com/yoe/nbd/commit/3ef5204386...</td>\n",
       "      <td>NaN</td>\n",
       "    </tr>\n",
       "    <tr>\n",
       "      <th>4</th>\n",
       "      <td>zone);\\\\n-\\\\telse\\\\n-\\\\t\\\\tzone_pcp_update(zo...</td>\n",
       "      <td>\\\"changes\\\": 15</td>\n",
       "      <td>linux</td>\n",
       "      <td>9adb62a5df9c0fbef7b4665919329f73a34651ed</td>\n",
       "      <td>{'https://github.com/torvalds/linux/commit/08d...</td>\n",
       "    </tr>\n",
       "    <tr>\n",
       "      <th>5</th>\n",
       "      <td>NaN</td>\n",
       "      <td>NaN</td>\n",
       "      <td>NaN</td>\n",
       "      <td>NaN</td>\n",
       "      <td>NaN</td>\n",
       "    </tr>\n",
       "    <tr>\n",
       "      <th>6</th>\n",
       "      <td>NaN</td>\n",
       "      <td>NaN</td>\n",
       "      <td>NaN</td>\n",
       "      <td>NaN</td>\n",
       "      <td>NaN</td>\n",
       "    </tr>\n",
       "    <tr>\n",
       "      <th>7</th>\n",
       "      <td>NaN</td>\n",
       "      <td>NaN</td>\n",
       "      <td>NaN</td>\n",
       "      <td>NaN</td>\n",
       "      <td>NaN</td>\n",
       "    </tr>\n",
       "    <tr>\n",
       "      <th>8</th>\n",
       "      <td>NaN</td>\n",
       "      <td>NaN</td>\n",
       "      <td>NaN</td>\n",
       "      <td>NaN</td>\n",
       "      <td>NaN</td>\n",
       "    </tr>\n",
       "    <tr>\n",
       "      <th>9</th>\n",
       "      <td>NaN</td>\n",
       "      <td>NaN</td>\n",
       "      <td>NaN</td>\n",
       "      <td>NaN</td>\n",
       "      <td>NaN</td>\n",
       "    </tr>\n",
       "  </tbody>\n",
       "</table>\n",
       "</div>"
      ],
      "text/plain": [
       "                        vulnerability_classification            cwe_id  \\\n",
       "0   truncated\\\\\\\");\\\\n-\\\\t  new_len = string->spa...   \\\"changes\\\": 26   \n",
       "1                                                  C    \\\"changes\\\": 2   \n",
       "2  7 @@ void parser(void)\\\\n             addreply...   \\\"changes\\\": 11   \n",
       "3  7 @@ int mainloop(CLIENT *client) {\\\\n \\\\n \\\\t...    \\\"changes\\\": 4   \n",
       "4   zone);\\\\n-\\\\telse\\\\n-\\\\t\\\\tzone_pcp_update(zo...   \\\"changes\\\": 15   \n",
       "5                                                NaN               NaN   \n",
       "6                                                NaN               NaN   \n",
       "7                                                NaN               NaN   \n",
       "8                                                NaN               NaN   \n",
       "9                                                NaN               NaN   \n",
       "\n",
       "                                       lang  \\\n",
       "0                                         C   \n",
       "1                                       NaN   \n",
       "2  67b0385e0871ad3fc48b2244abb30eb673161146   \n",
       "3  3ef52043861ab16352d49af89e048ba6339d6df8   \n",
       "4                                     linux   \n",
       "5                                       NaN   \n",
       "6                                       NaN   \n",
       "7                                       NaN   \n",
       "8                                       NaN   \n",
       "9                                       NaN   \n",
       "\n",
       "                                   version_after_fix  \\\n",
       "0           4de30e5500eaeb49f4bf0b7a07f718e149a2ed5e   \n",
       "1                                                NaN   \n",
       "2                                                NaN   \n",
       "3  {'https://github.com/yoe/nbd/commit/3ef5204386...   \n",
       "4           9adb62a5df9c0fbef7b4665919329f73a34651ed   \n",
       "5                                                NaN   \n",
       "6                                                NaN   \n",
       "7                                                NaN   \n",
       "8                                                NaN   \n",
       "9                                                NaN   \n",
       "\n",
       "                                  version_before_fix  \n",
       "0           1c9433bfe43890b102c8cead8ab3ee34b44c5c37  \n",
       "1                                                NaN  \n",
       "2                                                NaN  \n",
       "3                                                NaN  \n",
       "4  {'https://github.com/torvalds/linux/commit/08d...  \n",
       "5                                                NaN  \n",
       "6                                                NaN  \n",
       "7                                                NaN  \n",
       "8                                                NaN  \n",
       "9                                                NaN  "
      ]
     },
     "execution_count": 8,
     "metadata": {},
     "output_type": "execute_result"
    }
   ],
   "source": [
    "big_vul_df =big_vul_df.loc[:,['vulnerability_classification','cwe_id','lang','version_after_fix','version_before_fix']]\n",
    "big_vul_df.head(10)"
   ]
  },
  {
   "cell_type": "code",
   "execution_count": 9,
   "id": "d507104b",
   "metadata": {},
   "outputs": [
    {
     "name": "stdout",
     "output_type": "stream",
     "text": [
      "140284\n"
     ]
    },
    {
     "data": {
      "text/html": [
       "<div>\n",
       "<style scoped>\n",
       "    .dataframe tbody tr th:only-of-type {\n",
       "        vertical-align: middle;\n",
       "    }\n",
       "\n",
       "    .dataframe tbody tr th {\n",
       "        vertical-align: top;\n",
       "    }\n",
       "\n",
       "    .dataframe thead th {\n",
       "        text-align: right;\n",
       "    }\n",
       "</style>\n",
       "<table border=\"1\" class=\"dataframe\">\n",
       "  <thead>\n",
       "    <tr style=\"text-align: right;\">\n",
       "      <th></th>\n",
       "      <th>cve_id</th>\n",
       "      <th>cve_href</th>\n",
       "      <th>cwe_id</th>\n",
       "      <th>vuln_type</th>\n",
       "      <th>publish_date</th>\n",
       "      <th>update_date</th>\n",
       "      <th>score</th>\n",
       "      <th>acces_level</th>\n",
       "      <th>access</th>\n",
       "      <th>complexity</th>\n",
       "      <th>authentication</th>\n",
       "      <th>confidentiality</th>\n",
       "      <th>integrity</th>\n",
       "      <th>availability</th>\n",
       "      <th>summary</th>\n",
       "      <th>refs</th>\n",
       "      <th>code_refs</th>\n",
       "    </tr>\n",
       "  </thead>\n",
       "  <tbody>\n",
       "    <tr>\n",
       "      <th>0</th>\n",
       "      <td>CVE-2008-5619</td>\n",
       "      <td>https://www.cvedetails.com/cve/CVE-2008-5619/</td>\n",
       "      <td>CWE-94</td>\n",
       "      <td>Exec Code</td>\n",
       "      <td>2008-12-17</td>\n",
       "      <td>2018-10-11</td>\n",
       "      <td>10.0</td>\n",
       "      <td>None</td>\n",
       "      <td>Remote</td>\n",
       "      <td>Low</td>\n",
       "      <td>Not required</td>\n",
       "      <td>Complete</td>\n",
       "      <td>Complete</td>\n",
       "      <td>Complete</td>\n",
       "      <td>html2text.php in Chuggnutt HTML to Text Conver...</td>\n",
       "      <td>{'https://www.redhat.com/archives/fedora-packa...</td>\n",
       "      <td>{'https://github.com/PHPMailer/PHPMailer/commi...</td>\n",
       "    </tr>\n",
       "    <tr>\n",
       "      <th>1</th>\n",
       "      <td>CVE-2008-5189</td>\n",
       "      <td>https://www.cvedetails.com/cve/CVE-2008-5189/</td>\n",
       "      <td>CWE-352</td>\n",
       "      <td>Http R.Spl.</td>\n",
       "      <td>2008-11-21</td>\n",
       "      <td>2019-08-08</td>\n",
       "      <td>5.0</td>\n",
       "      <td>None</td>\n",
       "      <td>Remote</td>\n",
       "      <td>Low</td>\n",
       "      <td>Not required</td>\n",
       "      <td>None</td>\n",
       "      <td>Partial</td>\n",
       "      <td>None</td>\n",
       "      <td>CRLF injection vulnerability in Ruby on Rails ...</td>\n",
       "      <td>{'http://lists.opensuse.org/opensuse-security-...</td>\n",
       "      <td>{'https://github.com/rails/rails/commit/7282ed...</td>\n",
       "    </tr>\n",
       "    <tr>\n",
       "      <th>2</th>\n",
       "      <td>CVE-2020-35848</td>\n",
       "      <td>https://www.cvedetails.com/cve/CVE-2020-35848/</td>\n",
       "      <td>CWE-89</td>\n",
       "      <td>Sql</td>\n",
       "      <td>2020-12-30</td>\n",
       "      <td>2021-08-10</td>\n",
       "      <td>7.5</td>\n",
       "      <td>None</td>\n",
       "      <td>Remote</td>\n",
       "      <td>Low</td>\n",
       "      <td>Not required</td>\n",
       "      <td>Partial</td>\n",
       "      <td>Partial</td>\n",
       "      <td>Partial</td>\n",
       "      <td>Agentejo Cockpit before 0.11.2 allows NoSQL in...</td>\n",
       "      <td>{'https://github.com/agentejo/cockpit/commit/7...</td>\n",
       "      <td>{'https://github.com/agentejo/cockpit/commit/2...</td>\n",
       "    </tr>\n",
       "  </tbody>\n",
       "</table>\n",
       "</div>"
      ],
      "text/plain": [
       "           cve_id                                        cve_href   cwe_id  \\\n",
       "0   CVE-2008-5619   https://www.cvedetails.com/cve/CVE-2008-5619/   CWE-94   \n",
       "1   CVE-2008-5189   https://www.cvedetails.com/cve/CVE-2008-5189/  CWE-352   \n",
       "2  CVE-2020-35848  https://www.cvedetails.com/cve/CVE-2020-35848/   CWE-89   \n",
       "\n",
       "     vuln_type publish_date update_date  score acces_level  access complexity  \\\n",
       "0    Exec Code   2008-12-17  2018-10-11   10.0        None  Remote        Low   \n",
       "1  Http R.Spl.   2008-11-21  2019-08-08    5.0        None  Remote        Low   \n",
       "2          Sql   2020-12-30  2021-08-10    7.5        None  Remote        Low   \n",
       "\n",
       "  authentication confidentiality integrity availability  \\\n",
       "0   Not required        Complete  Complete     Complete   \n",
       "1   Not required            None   Partial         None   \n",
       "2   Not required         Partial   Partial      Partial   \n",
       "\n",
       "                                             summary  \\\n",
       "0  html2text.php in Chuggnutt HTML to Text Conver...   \n",
       "1  CRLF injection vulnerability in Ruby on Rails ...   \n",
       "2  Agentejo Cockpit before 0.11.2 allows NoSQL in...   \n",
       "\n",
       "                                                refs  \\\n",
       "0  {'https://www.redhat.com/archives/fedora-packa...   \n",
       "1  {'http://lists.opensuse.org/opensuse-security-...   \n",
       "2  {'https://github.com/agentejo/cockpit/commit/7...   \n",
       "\n",
       "                                           code_refs  \n",
       "0  {'https://github.com/PHPMailer/PHPMailer/commi...  \n",
       "1  {'https://github.com/rails/rails/commit/7282ed...  \n",
       "2  {'https://github.com/agentejo/cockpit/commit/2...  "
      ]
     },
     "execution_count": 9,
     "metadata": {},
     "output_type": "execute_result"
    }
   ],
   "source": [
    "cve_details_df = concat_to_df(cve_details)\n",
    "print(cve_details_df.size)\n",
    "cve_details_df.head(3)"
   ]
  },
  {
   "cell_type": "code",
   "execution_count": 10,
   "id": "3871b549",
   "metadata": {},
   "outputs": [
    {
     "name": "stdout",
     "output_type": "stream",
     "text": [
      "20382\n"
     ]
    },
    {
     "data": {
      "text/html": [
       "<div>\n",
       "<style scoped>\n",
       "    .dataframe tbody tr th:only-of-type {\n",
       "        vertical-align: middle;\n",
       "    }\n",
       "\n",
       "    .dataframe tbody tr th {\n",
       "        vertical-align: top;\n",
       "    }\n",
       "\n",
       "    .dataframe thead th {\n",
       "        text-align: right;\n",
       "    }\n",
       "</style>\n",
       "<table border=\"1\" class=\"dataframe\">\n",
       "  <thead>\n",
       "    <tr style=\"text-align: right;\">\n",
       "      <th></th>\n",
       "      <th>ecosystem</th>\n",
       "      <th>vuln_id</th>\n",
       "      <th>summary</th>\n",
       "      <th>details</th>\n",
       "      <th>aliases</th>\n",
       "      <th>modified_date</th>\n",
       "      <th>published_date</th>\n",
       "      <th>severity</th>\n",
       "      <th>score</th>\n",
       "      <th>cwe_id</th>\n",
       "      <th>refs</th>\n",
       "      <th>introduced</th>\n",
       "      <th>code_refs</th>\n",
       "    </tr>\n",
       "  </thead>\n",
       "  <tbody>\n",
       "    <tr>\n",
       "      <th>0</th>\n",
       "      <td>GHSA</td>\n",
       "      <td>GHSA-227g-7cvv-6ff3</td>\n",
       "      <td>Apache Tapestry 5.8.1 vulnerable to ReDoS via ...</td>\n",
       "      <td>Apache Tapestry up to version 5.8.1 is vulnera...</td>\n",
       "      <td>{'CVE-2022-31781'}</td>\n",
       "      <td>2022-07-22T16:31:44Z</td>\n",
       "      <td>2022-07-14T00:00:23Z</td>\n",
       "      <td>HIGH</td>\n",
       "      <td>7.5</td>\n",
       "      <td>{'CWE-1333'}</td>\n",
       "      <td>{'https://www.openwall.com/lists/oss-security/...</td>\n",
       "      <td>NaN</td>\n",
       "      <td>{'https://github.com/apache/tapestry-5/commit/...</td>\n",
       "    </tr>\n",
       "    <tr>\n",
       "      <th>1</th>\n",
       "      <td>GHSA</td>\n",
       "      <td>GHSA-22hc-47cc-7x6f</td>\n",
       "      <td>Cross-site Scripting in Pimcore</td>\n",
       "      <td>Pimcore prior to 10.4.0 is vulnerable to store...</td>\n",
       "      <td>{'CVE-2022-0894'}</td>\n",
       "      <td>2022-03-29T21:21:30Z</td>\n",
       "      <td>2022-03-16T00:00:48Z</td>\n",
       "      <td>MODERATE</td>\n",
       "      <td>5.4</td>\n",
       "      <td>{'CWE-79'}</td>\n",
       "      <td>{'https://github.com/pimcore/pimcore/commit/6e...</td>\n",
       "      <td>NaN</td>\n",
       "      <td>{'https://github.com/pimcore/pimcore/commit/6e...</td>\n",
       "    </tr>\n",
       "    <tr>\n",
       "      <th>2</th>\n",
       "      <td>GHSA</td>\n",
       "      <td>GHSA-22p3-qrh9-cx32</td>\n",
       "      <td>URL previews of unusual or maliciously-crafted...</td>\n",
       "      <td>### Impact\\n\\nURL previews of some web pages c...</td>\n",
       "      <td>{'CVE-2022-31052'}</td>\n",
       "      <td>2022-07-11T19:26:17Z</td>\n",
       "      <td>2022-06-29T21:51:23Z</td>\n",
       "      <td>MODERATE</td>\n",
       "      <td>6.5</td>\n",
       "      <td>{'CWE-674'}</td>\n",
       "      <td>{'https://lists.fedoraproject.org/archives/lis...</td>\n",
       "      <td>NaN</td>\n",
       "      <td>{'https://github.com/matrix-org/synapse/commit...</td>\n",
       "    </tr>\n",
       "  </tbody>\n",
       "</table>\n",
       "</div>"
      ],
      "text/plain": [
       "  ecosystem              vuln_id  \\\n",
       "0      GHSA  GHSA-227g-7cvv-6ff3   \n",
       "1      GHSA  GHSA-22hc-47cc-7x6f   \n",
       "2      GHSA  GHSA-22p3-qrh9-cx32   \n",
       "\n",
       "                                             summary  \\\n",
       "0  Apache Tapestry 5.8.1 vulnerable to ReDoS via ...   \n",
       "1                    Cross-site Scripting in Pimcore   \n",
       "2  URL previews of unusual or maliciously-crafted...   \n",
       "\n",
       "                                             details             aliases  \\\n",
       "0  Apache Tapestry up to version 5.8.1 is vulnera...  {'CVE-2022-31781'}   \n",
       "1  Pimcore prior to 10.4.0 is vulnerable to store...   {'CVE-2022-0894'}   \n",
       "2  ### Impact\\n\\nURL previews of some web pages c...  {'CVE-2022-31052'}   \n",
       "\n",
       "          modified_date        published_date  severity score        cwe_id  \\\n",
       "0  2022-07-22T16:31:44Z  2022-07-14T00:00:23Z      HIGH   7.5  {'CWE-1333'}   \n",
       "1  2022-03-29T21:21:30Z  2022-03-16T00:00:48Z  MODERATE   5.4    {'CWE-79'}   \n",
       "2  2022-07-11T19:26:17Z  2022-06-29T21:51:23Z  MODERATE   6.5   {'CWE-674'}   \n",
       "\n",
       "                                                refs introduced  \\\n",
       "0  {'https://www.openwall.com/lists/oss-security/...        NaN   \n",
       "1  {'https://github.com/pimcore/pimcore/commit/6e...        NaN   \n",
       "2  {'https://lists.fedoraproject.org/archives/lis...        NaN   \n",
       "\n",
       "                                           code_refs  \n",
       "0  {'https://github.com/apache/tapestry-5/commit/...  \n",
       "1  {'https://github.com/pimcore/pimcore/commit/6e...  \n",
       "2  {'https://github.com/matrix-org/synapse/commit...  "
      ]
     },
     "execution_count": 10,
     "metadata": {},
     "output_type": "execute_result"
    }
   ],
   "source": [
    "osv_df = concat_to_df(osv)\n",
    "print(osv_df.shape[0])\n",
    "osv_df.head(3)"
   ]
  },
  {
   "cell_type": "code",
   "execution_count": 11,
   "id": "c7864408",
   "metadata": {},
   "outputs": [
    {
     "name": "stdout",
     "output_type": "stream",
     "text": [
      "9618\n"
     ]
    },
    {
     "data": {
      "text/html": [
       "<div>\n",
       "<style scoped>\n",
       "    .dataframe tbody tr th:only-of-type {\n",
       "        vertical-align: middle;\n",
       "    }\n",
       "\n",
       "    .dataframe tbody tr th {\n",
       "        vertical-align: top;\n",
       "    }\n",
       "\n",
       "    .dataframe thead th {\n",
       "        text-align: right;\n",
       "    }\n",
       "</style>\n",
       "<table border=\"1\" class=\"dataframe\">\n",
       "  <thead>\n",
       "    <tr style=\"text-align: right;\">\n",
       "      <th></th>\n",
       "      <th>cve_id</th>\n",
       "      <th>cwes</th>\n",
       "      <th>description</th>\n",
       "      <th>severity</th>\n",
       "      <th>exploitability</th>\n",
       "      <th>impact</th>\n",
       "      <th>published_date</th>\n",
       "      <th>last_modified_date</th>\n",
       "      <th>refs</th>\n",
       "      <th>code_refs</th>\n",
       "    </tr>\n",
       "  </thead>\n",
       "  <tbody>\n",
       "    <tr>\n",
       "      <th>0</th>\n",
       "      <td>CVE-1999-0199</td>\n",
       "      <td>{'CWE-252'}</td>\n",
       "      <td>manual/search.texi in the GNU C Library (aka g...</td>\n",
       "      <td>HIGH</td>\n",
       "      <td>10.0</td>\n",
       "      <td>6.4</td>\n",
       "      <td>2020-10-06T13:15Z</td>\n",
       "      <td>2020-12-03T16:52Z</td>\n",
       "      <td>{'https://github.com/bminor/glibc/commit/2864e...</td>\n",
       "      <td>{'https://github.com/bminor/glibc/commit/2864e...</td>\n",
       "    </tr>\n",
       "    <tr>\n",
       "      <th>1</th>\n",
       "      <td>CVE-1999-0731</td>\n",
       "      <td>{'NVD-CWE-Other'}</td>\n",
       "      <td>The KDE klock program allows local users to un...</td>\n",
       "      <td>MEDIUM</td>\n",
       "      <td>3.9</td>\n",
       "      <td>6.4</td>\n",
       "      <td>1999-06-23T04:00Z</td>\n",
       "      <td>2021-01-20T01:15Z</td>\n",
       "      <td>{'http://www.securityfocus.com/bid/489', 'http...</td>\n",
       "      <td>{'https://github.com/KDE/kde1-kdebase/commit/0...</td>\n",
       "    </tr>\n",
       "    <tr>\n",
       "      <th>2</th>\n",
       "      <td>CVE-2002-2443</td>\n",
       "      <td>{'CWE-20'}</td>\n",
       "      <td>schpw.c in the kpasswd service in kadmind in M...</td>\n",
       "      <td>MEDIUM</td>\n",
       "      <td>10.0</td>\n",
       "      <td>2.9</td>\n",
       "      <td>2013-05-29T14:29Z</td>\n",
       "      <td>2021-02-02T18:44Z</td>\n",
       "      <td>{'http://www.ubuntu.com/usn/USN-2810-1', 'http...</td>\n",
       "      <td>{'https://github.com/krb5/krb5/commit/cf1a0c41...</td>\n",
       "    </tr>\n",
       "  </tbody>\n",
       "</table>\n",
       "</div>"
      ],
      "text/plain": [
       "          cve_id               cwes  \\\n",
       "0  CVE-1999-0199        {'CWE-252'}   \n",
       "1  CVE-1999-0731  {'NVD-CWE-Other'}   \n",
       "2  CVE-2002-2443         {'CWE-20'}   \n",
       "\n",
       "                                         description severity  exploitability  \\\n",
       "0  manual/search.texi in the GNU C Library (aka g...     HIGH            10.0   \n",
       "1  The KDE klock program allows local users to un...   MEDIUM             3.9   \n",
       "2  schpw.c in the kpasswd service in kadmind in M...   MEDIUM            10.0   \n",
       "\n",
       "  impact     published_date last_modified_date  \\\n",
       "0    6.4  2020-10-06T13:15Z  2020-12-03T16:52Z   \n",
       "1    6.4  1999-06-23T04:00Z  2021-01-20T01:15Z   \n",
       "2    2.9  2013-05-29T14:29Z  2021-02-02T18:44Z   \n",
       "\n",
       "                                                refs  \\\n",
       "0  {'https://github.com/bminor/glibc/commit/2864e...   \n",
       "1  {'http://www.securityfocus.com/bid/489', 'http...   \n",
       "2  {'http://www.ubuntu.com/usn/USN-2810-1', 'http...   \n",
       "\n",
       "                                           code_refs  \n",
       "0  {'https://github.com/bminor/glibc/commit/2864e...  \n",
       "1  {'https://github.com/KDE/kde1-kdebase/commit/0...  \n",
       "2  {'https://github.com/krb5/krb5/commit/cf1a0c41...  "
      ]
     },
     "execution_count": 11,
     "metadata": {},
     "output_type": "execute_result"
    }
   ],
   "source": [
    "nvd_df = concat_to_df(nvd)\n",
    "print(nvd_df.shape[0])\n",
    "nvd_df.head(3)"
   ]
  },
  {
   "cell_type": "code",
   "execution_count": 12,
   "id": "b9949f04",
   "metadata": {},
   "outputs": [
    {
     "name": "stdout",
     "output_type": "stream",
     "text": [
      "6410\n"
     ]
    },
    {
     "data": {
      "text/html": [
       "<div>\n",
       "<style scoped>\n",
       "    .dataframe tbody tr th:only-of-type {\n",
       "        vertical-align: middle;\n",
       "    }\n",
       "\n",
       "    .dataframe tbody tr th {\n",
       "        vertical-align: top;\n",
       "    }\n",
       "\n",
       "    .dataframe thead th {\n",
       "        text-align: right;\n",
       "    }\n",
       "</style>\n",
       "<table border=\"1\" class=\"dataframe\">\n",
       "  <thead>\n",
       "    <tr style=\"text-align: right;\">\n",
       "      <th></th>\n",
       "      <th>cve_id</th>\n",
       "      <th>project</th>\n",
       "      <th>sha</th>\n",
       "      <th>type</th>\n",
       "      <th>refs</th>\n",
       "    </tr>\n",
       "  </thead>\n",
       "  <tbody>\n",
       "    <tr>\n",
       "      <th>0</th>\n",
       "      <td>CVE-2017-4971</td>\n",
       "      <td>https://github.com/spring-projects/spring-webflow</td>\n",
       "      <td>57f2ccb66946943fbf3b3f2165eac1c8eb6b1523</td>\n",
       "      <td>pos</td>\n",
       "      <td>https://github.com/spring-projects/spring-webf...</td>\n",
       "    </tr>\n",
       "    <tr>\n",
       "      <th>1</th>\n",
       "      <td>CVE-2018-1000134</td>\n",
       "      <td>https://github.com/pingidentity/ldapsdk</td>\n",
       "      <td>8471904a02438c03965d21367890276bc25fa5a6</td>\n",
       "      <td>pos</td>\n",
       "      <td>https://github.com/pingidentity/ldapsdk/commit...</td>\n",
       "    </tr>\n",
       "    <tr>\n",
       "      <th>2</th>\n",
       "      <td>CVE-2016-8749</td>\n",
       "      <td>https://github.com/apache/camel</td>\n",
       "      <td>57d01e2fc8923263df896e9810329ee5b7f9b69</td>\n",
       "      <td>pos</td>\n",
       "      <td>https://github.com/apache/camel/commit/57d01e2...</td>\n",
       "    </tr>\n",
       "  </tbody>\n",
       "</table>\n",
       "</div>"
      ],
      "text/plain": [
       "             cve_id                                            project  \\\n",
       "0     CVE-2017-4971  https://github.com/spring-projects/spring-webflow   \n",
       "1  CVE-2018-1000134            https://github.com/pingidentity/ldapsdk   \n",
       "2     CVE-2016-8749                    https://github.com/apache/camel   \n",
       "\n",
       "                                        sha type  \\\n",
       "0  57f2ccb66946943fbf3b3f2165eac1c8eb6b1523  pos   \n",
       "1  8471904a02438c03965d21367890276bc25fa5a6  pos   \n",
       "2   57d01e2fc8923263df896e9810329ee5b7f9b69  pos   \n",
       "\n",
       "                                                refs  \n",
       "0  https://github.com/spring-projects/spring-webf...  \n",
       "1  https://github.com/pingidentity/ldapsdk/commit...  \n",
       "2  https://github.com/apache/camel/commit/57d01e2...  "
      ]
     },
     "execution_count": 12,
     "metadata": {},
     "output_type": "execute_result"
    }
   ],
   "source": [
    "# PONTAS - No CWE\n",
    "sap_df = concat_to_df(sap)\n",
    "print(sap_df.size)\n",
    "sap_df.head(3)"
   ]
  },
  {
   "cell_type": "code",
   "execution_count": 13,
   "id": "9b1f3854",
   "metadata": {},
   "outputs": [
    {
     "name": "stdout",
     "output_type": "stream",
     "text": [
      "676\n"
     ]
    },
    {
     "data": {
      "text/html": [
       "<div>\n",
       "<style scoped>\n",
       "    .dataframe tbody tr th:only-of-type {\n",
       "        vertical-align: middle;\n",
       "    }\n",
       "\n",
       "    .dataframe tbody tr th {\n",
       "        vertical-align: top;\n",
       "    }\n",
       "\n",
       "    .dataframe thead th {\n",
       "        text-align: right;\n",
       "    }\n",
       "</style>\n",
       "<table border=\"1\" class=\"dataframe\">\n",
       "  <thead>\n",
       "    <tr style=\"text-align: right;\">\n",
       "      <th></th>\n",
       "      <th>owner</th>\n",
       "      <th>project</th>\n",
       "      <th>sha</th>\n",
       "      <th>sha-p</th>\n",
       "      <th>year</th>\n",
       "      <th>language</th>\n",
       "      <th>cve_id</th>\n",
       "      <th>cwe_id</th>\n",
       "      <th>score</th>\n",
       "      <th>severity</th>\n",
       "    </tr>\n",
       "  </thead>\n",
       "  <tbody>\n",
       "    <tr>\n",
       "      <th>0</th>\n",
       "      <td>pfsense</td>\n",
       "      <td>pfsense</td>\n",
       "      <td>002bc4ab3268e6e5cb3a01ce73a4c1624d09050a</td>\n",
       "      <td>d6a0379d291f5e98500776618559343f40254e40</td>\n",
       "      <td>2010</td>\n",
       "      <td>php</td>\n",
       "      <td>NaN</td>\n",
       "      <td>CWE-77</td>\n",
       "      <td>NaN</td>\n",
       "      <td>NaN</td>\n",
       "    </tr>\n",
       "    <tr>\n",
       "      <th>1</th>\n",
       "      <td>nextcloud</td>\n",
       "      <td>server</td>\n",
       "      <td>0074062b5329c3d43679909fddce2d70608a4475</td>\n",
       "      <td>5c6a7172cafc395d38c58d1b5afd6b36efb33ad5</td>\n",
       "      <td>2012</td>\n",
       "      <td>php</td>\n",
       "      <td>NaN</td>\n",
       "      <td>CWE-79</td>\n",
       "      <td>NaN</td>\n",
       "      <td>NaN</td>\n",
       "    </tr>\n",
       "    <tr>\n",
       "      <th>2</th>\n",
       "      <td>nextcloud</td>\n",
       "      <td>server</td>\n",
       "      <td>0241ddc759f7e2d2695c4626df5d2ac27b8b1d90</td>\n",
       "      <td>c2e2c59ca7aa873bd07de04ea701a8b351383aec</td>\n",
       "      <td>2014</td>\n",
       "      <td>php</td>\n",
       "      <td>NaN</td>\n",
       "      <td>CWE-384</td>\n",
       "      <td>NaN</td>\n",
       "      <td>NaN</td>\n",
       "    </tr>\n",
       "  </tbody>\n",
       "</table>\n",
       "</div>"
      ],
      "text/plain": [
       "       owner  project                                       sha  \\\n",
       "0    pfsense  pfsense  002bc4ab3268e6e5cb3a01ce73a4c1624d09050a   \n",
       "1  nextcloud   server  0074062b5329c3d43679909fddce2d70608a4475   \n",
       "2  nextcloud   server  0241ddc759f7e2d2695c4626df5d2ac27b8b1d90   \n",
       "\n",
       "                                      sha-p  year language cve_id   cwe_id  \\\n",
       "0  d6a0379d291f5e98500776618559343f40254e40  2010      php    NaN   CWE-77   \n",
       "1  5c6a7172cafc395d38c58d1b5afd6b36efb33ad5  2012      php    NaN   CWE-79   \n",
       "2  c2e2c59ca7aa873bd07de04ea701a8b351383aec  2014      php    NaN  CWE-384   \n",
       "\n",
       "   score severity  \n",
       "0    NaN      NaN  \n",
       "1    NaN      NaN  \n",
       "2    NaN      NaN  "
      ]
     },
     "execution_count": 13,
     "metadata": {},
     "output_type": "execute_result"
    }
   ],
   "source": [
    "secbench_df = concat_to_df(secbench)\n",
    "print(secbench_df.shape[0])\n",
    "secbench_df.head(3)"
   ]
  },
  {
   "cell_type": "markdown",
   "id": "e67367fc",
   "metadata": {},
   "source": [
    "## Analysis of  security_patches_v1.0.csv\n",
    "* All vulnerable dataset\n",
    "* Dropped the missing values in CWE id"
   ]
  },
  {
   "cell_type": "code",
   "execution_count": 14,
   "id": "c166ac95",
   "metadata": {},
   "outputs": [],
   "source": [
    "security_patches = pd.read_csv(\"security-patches-dataset/dataset/security_patches_v1.0.csv\", on_bad_lines='skip', chunksize=10000)"
   ]
  },
  {
   "cell_type": "code",
   "execution_count": 15,
   "id": "602bc41d",
   "metadata": {
    "scrolled": true
   },
   "outputs": [
    {
     "name": "stdout",
     "output_type": "stream",
     "text": [
      "8057\n"
     ]
    },
    {
     "data": {
      "text/html": [
       "<div>\n",
       "<style scoped>\n",
       "    .dataframe tbody tr th:only-of-type {\n",
       "        vertical-align: middle;\n",
       "    }\n",
       "\n",
       "    .dataframe tbody tr th {\n",
       "        vertical-align: top;\n",
       "    }\n",
       "\n",
       "    .dataframe thead th {\n",
       "        text-align: right;\n",
       "    }\n",
       "</style>\n",
       "<table border=\"1\" class=\"dataframe\">\n",
       "  <thead>\n",
       "    <tr style=\"text-align: right;\">\n",
       "      <th></th>\n",
       "      <th>cve_id</th>\n",
       "      <th>project</th>\n",
       "      <th>sha</th>\n",
       "      <th>dataset</th>\n",
       "      <th>cwe_id</th>\n",
       "      <th>vuln_type</th>\n",
       "      <th>score</th>\n",
       "      <th>github</th>\n",
       "      <th>summary</th>\n",
       "      <th>language</th>\n",
       "      <th>vulnerable</th>\n",
       "      <th>message</th>\n",
       "      <th>author</th>\n",
       "      <th>date</th>\n",
       "      <th>comments</th>\n",
       "      <th>files</th>\n",
       "      <th>parents</th>\n",
       "      <th>ext_files</th>\n",
       "      <th>lang</th>\n",
       "    </tr>\n",
       "  </thead>\n",
       "  <tbody>\n",
       "    <tr>\n",
       "      <th>0</th>\n",
       "      <td>CVE-2016-6307</td>\n",
       "      <td>https://github.com/openssl/openssl</td>\n",
       "      <td>c1ef7c971d0bbf117c3c80f65b5875e2e7b024b1</td>\n",
       "      <td>SECBENCH</td>\n",
       "      <td>CWE-400</td>\n",
       "      <td>Denial Of Service</td>\n",
       "      <td>4.3</td>\n",
       "      <td>https://github.com/openssl/openssl/commit/c1ef...</td>\n",
       "      <td>The state-machine implementation in OpenSSL 1....</td>\n",
       "      <td>c</td>\n",
       "      <td>yes</td>\n",
       "      <td>Excessive allocation of memory in tls_get_mess...</td>\n",
       "      <td>Matt Caswell</td>\n",
       "      <td>09/19/2016, 10:39:21</td>\n",
       "      <td>{}</td>\n",
       "      <td>{'ssl/statem/statem.c': {'additions': 11, 'del...</td>\n",
       "      <td>{'41bff723c6784cc846054a4fd4add6dbec8c2c64'}</td>\n",
       "      <td>{'c'}</td>\n",
       "      <td>{'C/C++'}</td>\n",
       "    </tr>\n",
       "    <tr>\n",
       "      <th>1</th>\n",
       "      <td>NaN</td>\n",
       "      <td>https://github.com/AFNetworking/AFNetworking</td>\n",
       "      <td>c23c37ab4ab9b2401e824df717538e37bc5c85a4</td>\n",
       "      <td>SECBENCH</td>\n",
       "      <td>CWE-401</td>\n",
       "      <td>NaN</td>\n",
       "      <td>NaN</td>\n",
       "      <td>https://github.com/AFNetworking/AFNetworking/c...</td>\n",
       "      <td>NaN</td>\n",
       "      <td>m</td>\n",
       "      <td>yes</td>\n",
       "      <td>fix memory leak in NSURLSession</td>\n",
       "      <td>Oleg Naumenko</td>\n",
       "      <td>06/18/2015, 15:07:20</td>\n",
       "      <td>{}</td>\n",
       "      <td>{'AFNetworking/AFURLSessionManager.m': {'addit...</td>\n",
       "      <td>{'92006270b12ed6778095afc9d8bae9b54210df18'}</td>\n",
       "      <td>{'m'}</td>\n",
       "      <td>{'Objective-C'}</td>\n",
       "    </tr>\n",
       "    <tr>\n",
       "      <th>2</th>\n",
       "      <td>CVE-2017-6797</td>\n",
       "      <td>https://github.com/mantisbt/mantisbt</td>\n",
       "      <td>c272c3f65da9677e505ff692b1f1e476b3afa56e</td>\n",
       "      <td>SECBENCH</td>\n",
       "      <td>CWE-79</td>\n",
       "      <td>NaN</td>\n",
       "      <td>4.3</td>\n",
       "      <td>https://github.com/mantisbt/mantisbt/commit/c2...</td>\n",
       "      <td>A cross-site scripting (XSS) vulnerability in ...</td>\n",
       "      <td>php</td>\n",
       "      <td>yes</td>\n",
       "      <td>Fix XSS in bug_change_status_page.php\\n\\nThe v...</td>\n",
       "      <td>Damien Regad</td>\n",
       "      <td>03/07/2017, 11:34:16</td>\n",
       "      <td>{}</td>\n",
       "      <td>{'bug_change_status_page.php': {'additions': 1...</td>\n",
       "      <td>{'f8b2510febf47700b3e29b4d0c746e2d16c29487'}</td>\n",
       "      <td>{'php'}</td>\n",
       "      <td>{'PHP'}</td>\n",
       "    </tr>\n",
       "  </tbody>\n",
       "</table>\n",
       "</div>"
      ],
      "text/plain": [
       "          cve_id                                       project  \\\n",
       "0  CVE-2016-6307            https://github.com/openssl/openssl   \n",
       "1            NaN  https://github.com/AFNetworking/AFNetworking   \n",
       "2  CVE-2017-6797          https://github.com/mantisbt/mantisbt   \n",
       "\n",
       "                                        sha   dataset   cwe_id  \\\n",
       "0  c1ef7c971d0bbf117c3c80f65b5875e2e7b024b1  SECBENCH  CWE-400   \n",
       "1  c23c37ab4ab9b2401e824df717538e37bc5c85a4  SECBENCH  CWE-401   \n",
       "2  c272c3f65da9677e505ff692b1f1e476b3afa56e  SECBENCH   CWE-79   \n",
       "\n",
       "           vuln_type  score  \\\n",
       "0  Denial Of Service    4.3   \n",
       "1                NaN    NaN   \n",
       "2                NaN    4.3   \n",
       "\n",
       "                                              github  \\\n",
       "0  https://github.com/openssl/openssl/commit/c1ef...   \n",
       "1  https://github.com/AFNetworking/AFNetworking/c...   \n",
       "2  https://github.com/mantisbt/mantisbt/commit/c2...   \n",
       "\n",
       "                                             summary language vulnerable  \\\n",
       "0  The state-machine implementation in OpenSSL 1....        c        yes   \n",
       "1                                                NaN        m        yes   \n",
       "2  A cross-site scripting (XSS) vulnerability in ...      php        yes   \n",
       "\n",
       "                                             message         author  \\\n",
       "0  Excessive allocation of memory in tls_get_mess...   Matt Caswell   \n",
       "1                    fix memory leak in NSURLSession  Oleg Naumenko   \n",
       "2  Fix XSS in bug_change_status_page.php\\n\\nThe v...   Damien Regad   \n",
       "\n",
       "                   date comments  \\\n",
       "0  09/19/2016, 10:39:21       {}   \n",
       "1  06/18/2015, 15:07:20       {}   \n",
       "2  03/07/2017, 11:34:16       {}   \n",
       "\n",
       "                                               files  \\\n",
       "0  {'ssl/statem/statem.c': {'additions': 11, 'del...   \n",
       "1  {'AFNetworking/AFURLSessionManager.m': {'addit...   \n",
       "2  {'bug_change_status_page.php': {'additions': 1...   \n",
       "\n",
       "                                        parents ext_files             lang  \n",
       "0  {'41bff723c6784cc846054a4fd4add6dbec8c2c64'}     {'c'}        {'C/C++'}  \n",
       "1  {'92006270b12ed6778095afc9d8bae9b54210df18'}     {'m'}  {'Objective-C'}  \n",
       "2  {'f8b2510febf47700b3e29b4d0c746e2d16c29487'}   {'php'}          {'PHP'}  "
      ]
     },
     "execution_count": 15,
     "metadata": {},
     "output_type": "execute_result"
    }
   ],
   "source": [
    "security_patches_df = concat_to_df(security_patches)\n",
    "print(security_patches_df.shape[0])\n",
    "security_patches_df.head(3)"
   ]
  },
  {
   "cell_type": "code",
   "execution_count": 33,
   "id": "aab9b65e",
   "metadata": {},
   "outputs": [
    {
     "data": {
      "text/html": [
       "<div>\n",
       "<style scoped>\n",
       "    .dataframe tbody tr th:only-of-type {\n",
       "        vertical-align: middle;\n",
       "    }\n",
       "\n",
       "    .dataframe tbody tr th {\n",
       "        vertical-align: top;\n",
       "    }\n",
       "\n",
       "    .dataframe thead th {\n",
       "        text-align: right;\n",
       "    }\n",
       "</style>\n",
       "<table border=\"1\" class=\"dataframe\">\n",
       "  <thead>\n",
       "    <tr style=\"text-align: right;\">\n",
       "      <th></th>\n",
       "      <th>dataset</th>\n",
       "      <th>cwe_id</th>\n",
       "      <th>vulnerable</th>\n",
       "      <th>language</th>\n",
       "      <th>summary</th>\n",
       "      <th>files</th>\n",
       "    </tr>\n",
       "  </thead>\n",
       "  <tbody>\n",
       "    <tr>\n",
       "      <th>0</th>\n",
       "      <td>SECBENCH</td>\n",
       "      <td>CWE-400</td>\n",
       "      <td>yes</td>\n",
       "      <td>c</td>\n",
       "      <td>The state-machine implementation in OpenSSL 1....</td>\n",
       "      <td>{'ssl/statem/statem.c': {'additions': 11, 'del...</td>\n",
       "    </tr>\n",
       "    <tr>\n",
       "      <th>1</th>\n",
       "      <td>SECBENCH</td>\n",
       "      <td>CWE-401</td>\n",
       "      <td>yes</td>\n",
       "      <td>m</td>\n",
       "      <td>NaN</td>\n",
       "      <td>{'AFNetworking/AFURLSessionManager.m': {'addit...</td>\n",
       "    </tr>\n",
       "    <tr>\n",
       "      <th>2</th>\n",
       "      <td>SECBENCH</td>\n",
       "      <td>CWE-79</td>\n",
       "      <td>yes</td>\n",
       "      <td>php</td>\n",
       "      <td>A cross-site scripting (XSS) vulnerability in ...</td>\n",
       "      <td>{'bug_change_status_page.php': {'additions': 1...</td>\n",
       "    </tr>\n",
       "    <tr>\n",
       "      <th>3</th>\n",
       "      <td>SECBENCH</td>\n",
       "      <td>CWE-89</td>\n",
       "      <td>yes</td>\n",
       "      <td>php</td>\n",
       "      <td>NaN</td>\n",
       "      <td>{'libraries/joomla/installer/adapters/componen...</td>\n",
       "    </tr>\n",
       "    <tr>\n",
       "      <th>4</th>\n",
       "      <td>SECBENCH</td>\n",
       "      <td>CWE-401</td>\n",
       "      <td>yes</td>\n",
       "      <td>c</td>\n",
       "      <td>NaN</td>\n",
       "      <td>{'lib/formdata.c': {'additions': 25, 'deletion...</td>\n",
       "    </tr>\n",
       "    <tr>\n",
       "      <th>5</th>\n",
       "      <td>SECBENCH</td>\n",
       "      <td>CWE-189</td>\n",
       "      <td>yes</td>\n",
       "      <td>c</td>\n",
       "      <td>Integer underflow in OpenSSL before 0.9.8x, 1....</td>\n",
       "      <td>{'CHANGES': {'additions': 8, 'deletions': 0, '...</td>\n",
       "    </tr>\n",
       "    <tr>\n",
       "      <th>6</th>\n",
       "      <td>SECBENCH</td>\n",
       "      <td>CWE-89</td>\n",
       "      <td>yes</td>\n",
       "      <td>php</td>\n",
       "      <td>SQL injection vulnerability in include/functio...</td>\n",
       "      <td>{'docs/NEWS': {'additions': 3, 'deletions': 0,...</td>\n",
       "    </tr>\n",
       "    <tr>\n",
       "      <th>7</th>\n",
       "      <td>SECBENCH</td>\n",
       "      <td>CWE-401</td>\n",
       "      <td>yes</td>\n",
       "      <td>c</td>\n",
       "      <td>NaN</td>\n",
       "      <td>{'lib/vtls/mbedtls.c': {'additions': 11, 'dele...</td>\n",
       "    </tr>\n",
       "    <tr>\n",
       "      <th>8</th>\n",
       "      <td>SECBENCH</td>\n",
       "      <td>CWE-79</td>\n",
       "      <td>yes</td>\n",
       "      <td>php</td>\n",
       "      <td>NaN</td>\n",
       "      <td>{'ChangeLog': {'additions': 3, 'deletions': 0,...</td>\n",
       "    </tr>\n",
       "    <tr>\n",
       "      <th>9</th>\n",
       "      <td>SECBENCH</td>\n",
       "      <td>CWE-352</td>\n",
       "      <td>yes</td>\n",
       "      <td>php</td>\n",
       "      <td>NaN</td>\n",
       "      <td>{'src/Controller/Component/SecurityComponent.p...</td>\n",
       "    </tr>\n",
       "  </tbody>\n",
       "</table>\n",
       "</div>"
      ],
      "text/plain": [
       "    dataset   cwe_id vulnerable language  \\\n",
       "0  SECBENCH  CWE-400        yes        c   \n",
       "1  SECBENCH  CWE-401        yes        m   \n",
       "2  SECBENCH   CWE-79        yes      php   \n",
       "3  SECBENCH   CWE-89        yes      php   \n",
       "4  SECBENCH  CWE-401        yes        c   \n",
       "5  SECBENCH  CWE-189        yes        c   \n",
       "6  SECBENCH   CWE-89        yes      php   \n",
       "7  SECBENCH  CWE-401        yes        c   \n",
       "8  SECBENCH   CWE-79        yes      php   \n",
       "9  SECBENCH  CWE-352        yes      php   \n",
       "\n",
       "                                             summary  \\\n",
       "0  The state-machine implementation in OpenSSL 1....   \n",
       "1                                                NaN   \n",
       "2  A cross-site scripting (XSS) vulnerability in ...   \n",
       "3                                                NaN   \n",
       "4                                                NaN   \n",
       "5  Integer underflow in OpenSSL before 0.9.8x, 1....   \n",
       "6  SQL injection vulnerability in include/functio...   \n",
       "7                                                NaN   \n",
       "8                                                NaN   \n",
       "9                                                NaN   \n",
       "\n",
       "                                               files  \n",
       "0  {'ssl/statem/statem.c': {'additions': 11, 'del...  \n",
       "1  {'AFNetworking/AFURLSessionManager.m': {'addit...  \n",
       "2  {'bug_change_status_page.php': {'additions': 1...  \n",
       "3  {'libraries/joomla/installer/adapters/componen...  \n",
       "4  {'lib/formdata.c': {'additions': 25, 'deletion...  \n",
       "5  {'CHANGES': {'additions': 8, 'deletions': 0, '...  \n",
       "6  {'docs/NEWS': {'additions': 3, 'deletions': 0,...  \n",
       "7  {'lib/vtls/mbedtls.c': {'additions': 11, 'dele...  \n",
       "8  {'ChangeLog': {'additions': 3, 'deletions': 0,...  \n",
       "9  {'src/Controller/Component/SecurityComponent.p...  "
      ]
     },
     "execution_count": 33,
     "metadata": {},
     "output_type": "execute_result"
    }
   ],
   "source": [
    "df =security_patches_df.loc[:,['dataset','cwe_id','vulnerable','language','summary','files']]\n",
    "df.head(10)"
   ]
  },
  {
   "cell_type": "code",
   "execution_count": 54,
   "id": "61c627ea",
   "metadata": {},
   "outputs": [
    {
     "data": {
      "text/plain": [
       "\"{'ssl/statem/statem.c': {'additions': 11, 'deletions': 0, 'changes': 11, 'status': 'modified'}, 'ssl/statem/statem_lib.c': {'additions': 0, 'deletions': 10, 'changes': 10, 'status': 'modified'}}\""
      ]
     },
     "execution_count": 54,
     "metadata": {},
     "output_type": "execute_result"
    }
   ],
   "source": [
    "df['files'][0]"
   ]
  },
  {
   "cell_type": "markdown",
   "id": "38aa3692",
   "metadata": {},
   "source": [
    "### Dataset sources"
   ]
  },
  {
   "cell_type": "code",
   "execution_count": 34,
   "id": "1380286a",
   "metadata": {},
   "outputs": [
    {
     "data": {
      "text/plain": [
       "dataset\n",
       "BIGVUL        4047\n",
       "CVEDETAILS    2224\n",
       "PONTAS        1127\n",
       "SECBENCH       659\n",
       "dtype: int64"
      ]
     },
     "execution_count": 34,
     "metadata": {},
     "output_type": "execute_result"
    }
   ],
   "source": [
    "df.value_counts(subset='dataset')"
   ]
  },
  {
   "cell_type": "markdown",
   "id": "3c01667c",
   "metadata": {},
   "source": [
    "### Language counts"
   ]
  },
  {
   "cell_type": "code",
   "execution_count": 35,
   "id": "a3cf0bb1",
   "metadata": {},
   "outputs": [
    {
     "data": {
      "text/plain": [
       "language\n",
       "php             269\n",
       "c               164\n",
       "rb               73\n",
       "py               46\n",
       "java             29\n",
       "m                19\n",
       "js               13\n",
       "config_files     12\n",
       "mm                8\n",
       "cpp               7\n",
       "scala             5\n",
       "groovy            3\n",
       "h                 3\n",
       "inc               3\n",
       "cc                2\n",
       "html              1\n",
       "ctp               1\n",
       "tpl               1\n",
       "dtype: int64"
      ]
     },
     "execution_count": 35,
     "metadata": {},
     "output_type": "execute_result"
    }
   ],
   "source": [
    "df.value_counts(subset='language')"
   ]
  },
  {
   "cell_type": "markdown",
   "id": "dd931d7a",
   "metadata": {},
   "source": [
    "### Vulnerable data count"
   ]
  },
  {
   "cell_type": "code",
   "execution_count": 36,
   "id": "d51a2aa6",
   "metadata": {},
   "outputs": [
    {
     "name": "stdout",
     "output_type": "stream",
     "text": [
      "['yes']\n"
     ]
    }
   ],
   "source": [
    "print(df['vulnerable'].unique()) "
   ]
  },
  {
   "cell_type": "code",
   "execution_count": 37,
   "id": "8da48c94",
   "metadata": {},
   "outputs": [
    {
     "data": {
      "text/plain": [
       "vulnerable\n",
       "yes    8057\n",
       "dtype: int64"
      ]
     },
     "execution_count": 37,
     "metadata": {},
     "output_type": "execute_result"
    }
   ],
   "source": [
    "df.value_counts(subset='vulnerable',dropna=False)"
   ]
  },
  {
   "cell_type": "code",
   "execution_count": 38,
   "id": "7c28101a",
   "metadata": {},
   "outputs": [
    {
     "name": "stdout",
     "output_type": "stream",
     "text": [
      "0\n"
     ]
    }
   ],
   "source": [
    "num_missing = df['vulnerable'].isnull().sum().sum()\n",
    "print(num_missing)"
   ]
  },
  {
   "cell_type": "markdown",
   "id": "a1aefd81",
   "metadata": {},
   "source": [
    "## CWE Id analysis\n",
    "* nan : non-vulnerable? -> No, missing value\n",
    "* NVD-CWE-Other -> Drop"
   ]
  },
  {
   "cell_type": "code",
   "execution_count": 39,
   "id": "719d42e0",
   "metadata": {},
   "outputs": [
    {
     "name": "stdout",
     "output_type": "stream",
     "text": [
      "146\n",
      "['CWE-400' 'CWE-401' 'CWE-79' 'CWE-89' 'CWE-189' 'CWE-352' nan 'CWE-20'\n",
      " 'CWE-78' 'CWE-399' 'CWE-310' 'CWE-190' 'CWE-94' 'CWE-402' 'CWE-928'\n",
      " 'CWE-22' 'CWE-416' 'CWE-264' 'CWE-1021' 'CWE-404' 'CWE-119' 'CWE-384'\n",
      " 'CWE-74' 'CWE-17' 'CWE-843' 'NVD-CWE-Other' 'CWE-121' 'CWE-98' 'CWE-200'\n",
      " 'CWE-208' 'CWE-476' 'CWE-667' 'CWE-287' 'CWE-403' 'CWE-362' 'CWE-16'\n",
      " 'CWE-59' 'CWE-134' 'CWE-125' 'CWE-255' 'CWE-415' 'CWE-254' 'CWE-18'\n",
      " 'CWE-19' 'CWE-284' 'CWE-787' 'CWE-388' 'CWE-285' 'CWE-502' 'CWE-862'\n",
      " 'CWE-835' 'CWE-617' 'CWE-269' 'CWE-772' 'CWE-834' 'CWE-369' 'CWE-754'\n",
      " 'CWE-494' 'CWE-943' 'CWE-665' 'CWE-434' 'CWE-770' 'CWE-755' 'CWE-129'\n",
      " 'CWE-674' 'CWE-191' 'CWE-1187' 'CWE-682' 'CWE-732' 'CWE-522' 'CWE-918'\n",
      " 'CWE-358' 'CWE-295' 'CWE-346' 'CWE-532' 'CWE-320' 'CWE-426' 'CWE-77'\n",
      " 'CWE-704' 'CWE-116' 'CWE-347' 'CWE-824' 'CWE-693' 'CWE-436' 'CWE-90'\n",
      " 'CWE-290' 'CWE-763' 'CWE-120' 'CWE-611' 'CWE-345' 'CWE-93' 'CWE-601'\n",
      " 'CWE-706' 'CWE-361' 'CWE-281' 'CWE-311' 'CWE-668' 'CWE-664' 'CWE-275'\n",
      " 'CWE-1188' 'CWE-521' 'CWE-184' 'CWE-863' 'CWE-613' 'CWE-470' 'CWE-319'\n",
      " 'CWE-297' 'CWE-91' 'CWE-444' 'CWE-417' 'CWE-640' 'CWE-829' 'CWE-776'\n",
      " 'CWE-354' 'CWE-113' 'CWE-306' 'CWE-276' 'CWE-338' 'CWE-88' 'CWE-331'\n",
      " 'CWE-216' 'CWE-185' 'CWE-798' 'CWE-774' 'CWE-327' 'CWE-425' 'CWE-307'\n",
      " 'CWE-335' 'CWE-178' 'CWE-749' 'CWE-312' 'CWE-471' 'CWE-330' 'CWE-326'\n",
      " 'CWE-21' 'CWE-199' 'CWE-639' 'CWE-203' 'CWE-534' 'CWE-624' 'CWE-122'\n",
      " 'CWE-407' 'CWE-260' 'CWE-915' 'CWE-916' 'CWE-644']\n"
     ]
    }
   ],
   "source": [
    "print(len(df['cwe_id'].unique()))\n",
    "print(df['cwe_id'].unique()) "
   ]
  },
  {
   "cell_type": "markdown",
   "id": "1a85cc3d",
   "metadata": {},
   "source": [
    "### Drop the inconsistent vulnerable data \n",
    "* Exceptional label e.g. NVD-CWE-Other\n",
    "* No cwe id information (Vulnerable data should contain CWE ID )"
   ]
  },
  {
   "cell_type": "code",
   "execution_count": 40,
   "id": "4debb999",
   "metadata": {},
   "outputs": [
    {
     "name": "stdout",
     "output_type": "stream",
     "text": [
      "Drop 'NVD-CWE-Other' in cwe_id column successfully\n"
     ]
    }
   ],
   "source": [
    "# Drop the Exceptional label e.g. NVD-CWE-Other\n",
    "exp_drop_index = df[df['cwe_id']=='NVD-CWE-Other'].index\n",
    "df = df.drop(exp_drop_index, axis=0)\n",
    "if 'NVD-CWE-Other' in df['cwe_id'].unique():\n",
    "    print(\"Error - fail to drop 'NVD-CWE-Other'\")\n",
    "else:\n",
    "    print(\"Drop 'NVD-CWE-Other' in cwe_id column successfully\")"
   ]
  },
  {
   "cell_type": "code",
   "execution_count": 41,
   "id": "2d429bf7",
   "metadata": {},
   "outputs": [
    {
     "name": "stdout",
     "output_type": "stream",
     "text": [
      "# of NaN in cwe id column: 1149\n",
      "# of vulnerable dataset needed to be dropped in cwe id column: 1149\n"
     ]
    },
    {
     "data": {
      "text/html": [
       "<div>\n",
       "<style scoped>\n",
       "    .dataframe tbody tr th:only-of-type {\n",
       "        vertical-align: middle;\n",
       "    }\n",
       "\n",
       "    .dataframe tbody tr th {\n",
       "        vertical-align: top;\n",
       "    }\n",
       "\n",
       "    .dataframe thead th {\n",
       "        text-align: right;\n",
       "    }\n",
       "</style>\n",
       "<table border=\"1\" class=\"dataframe\">\n",
       "  <thead>\n",
       "    <tr style=\"text-align: right;\">\n",
       "      <th></th>\n",
       "      <th>dataset</th>\n",
       "      <th>cwe_id</th>\n",
       "      <th>vulnerable</th>\n",
       "      <th>language</th>\n",
       "      <th>summary</th>\n",
       "      <th>files</th>\n",
       "    </tr>\n",
       "  </thead>\n",
       "  <tbody>\n",
       "    <tr>\n",
       "      <th>10</th>\n",
       "      <td>SECBENCH</td>\n",
       "      <td>NaN</td>\n",
       "      <td>yes</td>\n",
       "      <td>php</td>\n",
       "      <td>NaN</td>\n",
       "      <td>{'ChangeLog': {'additions': 3, 'deletions': 0,...</td>\n",
       "    </tr>\n",
       "    <tr>\n",
       "      <th>32</th>\n",
       "      <td>SECBENCH</td>\n",
       "      <td>NaN</td>\n",
       "      <td>yes</td>\n",
       "      <td>php</td>\n",
       "      <td>NaN</td>\n",
       "      <td>{'wp-admin/categories.php': {'additions': 1, '...</td>\n",
       "    </tr>\n",
       "    <tr>\n",
       "      <th>33</th>\n",
       "      <td>SECBENCH</td>\n",
       "      <td>NaN</td>\n",
       "      <td>yes</td>\n",
       "      <td>php</td>\n",
       "      <td>NaN</td>\n",
       "      <td>{'app/Controller/EventsController.php': {'addi...</td>\n",
       "    </tr>\n",
       "  </tbody>\n",
       "</table>\n",
       "</div>"
      ],
      "text/plain": [
       "     dataset cwe_id vulnerable language summary  \\\n",
       "10  SECBENCH    NaN        yes      php     NaN   \n",
       "32  SECBENCH    NaN        yes      php     NaN   \n",
       "33  SECBENCH    NaN        yes      php     NaN   \n",
       "\n",
       "                                                files  \n",
       "10  {'ChangeLog': {'additions': 3, 'deletions': 0,...  \n",
       "32  {'wp-admin/categories.php': {'additions': 1, '...  \n",
       "33  {'app/Controller/EventsController.php': {'addi...  "
      ]
     },
     "execution_count": 41,
     "metadata": {},
     "output_type": "execute_result"
    }
   ],
   "source": [
    "print(f\"# of NaN in cwe id column: {df[df['cwe_id'].isna()].shape[0]}\")\n",
    "\n",
    "drop_df = df[(df['cwe_id'].isna()) & (df['vulnerable']=='yes')]\n",
    "print(f\"# of vulnerable dataset needed to be dropped in cwe id column: {drop_df.shape[0]}\")\n",
    "\n",
    "drop_df.head(3)"
   ]
  },
  {
   "cell_type": "markdown",
   "id": "d371d2a0",
   "metadata": {},
   "source": [
    "### Check if NaN in CWE id stands for Missing values"
   ]
  },
  {
   "cell_type": "code",
   "execution_count": 42,
   "id": "46d67a5a",
   "metadata": {},
   "outputs": [
    {
     "name": "stdout",
     "output_type": "stream",
     "text": [
      "# of vulnerable dataset needed to be dropped: 1149\n"
     ]
    },
    {
     "data": {
      "text/plain": [
       "vulnerable\n",
       "yes    1149\n",
       "dtype: int64"
      ]
     },
     "execution_count": 42,
     "metadata": {},
     "output_type": "execute_result"
    }
   ],
   "source": [
    "print(f\"# of vulnerable dataset needed to be dropped: {drop_df.shape[0]}\")\n",
    "drop_df.value_counts(subset='vulnerable',dropna=False)"
   ]
  },
  {
   "cell_type": "code",
   "execution_count": 43,
   "id": "210dcd65",
   "metadata": {},
   "outputs": [],
   "source": [
    "bef_df_size = df.shape[0]\n",
    "\n",
    "# drop the inconsistent rows\n",
    "vul_drop_indices = drop_df.index\n",
    "\n",
    "# check if indices exist in df before dropping\n",
    "vul_drop_indices = vul_drop_indices[vul_drop_indices.isin(df.index)]\n",
    "df = df.drop(vul_drop_indices, axis=0)\n"
   ]
  },
  {
   "cell_type": "code",
   "execution_count": 47,
   "id": "aead51b3",
   "metadata": {},
   "outputs": [
    {
     "name": "stdout",
     "output_type": "stream",
     "text": [
      "Dataset size before dropping missing value: 8051\n",
      "Dataset size after dropping missing value: 6902\n",
      "# of vulnerable dataset needed to be dropped: 0\n",
      "Drop the missing value successfully\n"
     ]
    }
   ],
   "source": [
    "# Confirm the drop is sucessfully done\n",
    "aft_df_size = df.shape[0]\n",
    "print(f\"Dataset size before dropping missing value: {bef_df_size}\")\n",
    "print(f\"Dataset size after dropping missing value: {aft_df_size}\")\n",
    "if (bef_df_size - aft_df_size == vul_drop_indices.size):\n",
    "    print(f\"# of vulnerable dataset needed to be dropped: {df[(df['cwe_id'].isna()) & (df['vulnerable'] =='yes' )].shape[0]}\")\n",
    "    print(\"Drop the missing value successfully\")\n",
    "else:\n",
    "    print(f\"Error - fail to drop the missing value: need to drop {vul_drop_list.size} but dropped {bef_df_size - aft_df_size}\")"
   ]
  },
  {
   "cell_type": "code",
   "execution_count": 48,
   "id": "0554c4d7",
   "metadata": {},
   "outputs": [
    {
     "name": "stdout",
     "output_type": "stream",
     "text": [
      "['CWE-400' 'CWE-401' 'CWE-79' 'CWE-89' 'CWE-189' 'CWE-352' 'CWE-20'\n",
      " 'CWE-78' 'CWE-399' 'CWE-310' 'CWE-190' 'CWE-94' 'CWE-402' 'CWE-928'\n",
      " 'CWE-22' 'CWE-416' 'CWE-264' 'CWE-1021' 'CWE-404' 'CWE-119' 'CWE-384'\n",
      " 'CWE-74' 'CWE-17' 'CWE-843' 'CWE-121' 'CWE-98' 'CWE-200' 'CWE-208'\n",
      " 'CWE-476' 'CWE-667' 'CWE-287' 'CWE-403' 'CWE-362' 'CWE-16' 'CWE-59'\n",
      " 'CWE-134' 'CWE-125' 'CWE-255' 'CWE-415' 'CWE-254' 'CWE-18' 'CWE-19'\n",
      " 'CWE-284' 'CWE-787' 'CWE-388' 'CWE-285' 'CWE-502' 'CWE-862' 'CWE-835'\n",
      " 'CWE-617' 'CWE-269' 'CWE-772' 'CWE-834' 'CWE-369' 'CWE-754' 'CWE-494'\n",
      " 'CWE-943' 'CWE-665' 'CWE-434' 'CWE-770' 'CWE-755' 'CWE-129' 'CWE-674'\n",
      " 'CWE-191' 'CWE-1187' 'CWE-682' 'CWE-732' 'CWE-522' 'CWE-918' 'CWE-358'\n",
      " 'CWE-295' 'CWE-346' 'CWE-532' 'CWE-320' 'CWE-426' 'CWE-77' 'CWE-704'\n",
      " 'CWE-116' 'CWE-347' 'CWE-824' 'CWE-693' 'CWE-436' 'CWE-90' 'CWE-290'\n",
      " 'CWE-763' 'CWE-120' 'CWE-611' 'CWE-345' 'CWE-93' 'CWE-601' 'CWE-706'\n",
      " 'CWE-361' 'CWE-281' 'CWE-311' 'CWE-668' 'CWE-664' 'CWE-275' 'CWE-1188'\n",
      " 'CWE-521' 'CWE-184' 'CWE-863' 'CWE-613' 'CWE-470' 'CWE-319' 'CWE-297'\n",
      " 'CWE-91' 'CWE-444' 'CWE-417' 'CWE-640' 'CWE-829' 'CWE-776' 'CWE-354'\n",
      " 'CWE-113' 'CWE-306' 'CWE-276' 'CWE-338' 'CWE-88' 'CWE-331' 'CWE-216'\n",
      " 'CWE-185' 'CWE-798' 'CWE-774' 'CWE-327' 'CWE-425' 'CWE-307' 'CWE-335'\n",
      " 'CWE-178' 'CWE-749' 'CWE-312' 'CWE-471' 'CWE-330' 'CWE-326' 'CWE-21'\n",
      " 'CWE-199' 'CWE-639' 'CWE-203' 'CWE-534' 'CWE-624' 'CWE-122' 'CWE-407'\n",
      " 'CWE-260' 'CWE-915' 'CWE-916' 'CWE-644']\n"
     ]
    }
   ],
   "source": [
    "# replace NaN to non-vulnerable in cwe id column\n",
    "df['cwe_id'] = df['cwe_id'].replace(np.nan, 'non-vulnerable')\n",
    "print(df['cwe_id'].unique()) "
   ]
  },
  {
   "cell_type": "markdown",
   "id": "a825391a",
   "metadata": {},
   "source": [
    "### Confirm that the all the rest dataset are consistent\n",
    "\n",
    "Checklist \n",
    "* No CWE ID && Vulnerable (shouldn't contain in the dataset) is 0\n",
    "* CWE ID && non-vulnerable (possibly existing but concerned) "
   ]
  },
  {
   "cell_type": "code",
   "execution_count": 49,
   "id": "ab050d2d",
   "metadata": {},
   "outputs": [
    {
     "name": "stdout",
     "output_type": "stream",
     "text": [
      "# of NaN(non-vulnerable) in cwe_id:  6902\n",
      "# of unmatched dataset (No cwe id & vulnerable):  6902\n",
      "# of unmatched dataset (cwe id & non-vulnerable):  0\n"
     ]
    }
   ],
   "source": [
    "# NaN means non-vulnerable? Yes\n",
    "print(\"# of NaN(non-vulnerable) in cwe_id: \", df['cwe_id'].isna().count())\n",
    "print(\"# of unmatched dataset (No cwe id & vulnerable): \", df[(df['cwe_id'].notnull()) & (df['vulnerable'] =='yes' )].shape[0])\n",
    "print(\"# of unmatched dataset (cwe id & non-vulnerable): \", df[(df['cwe_id'].isna()) & (df['vulnerable'] !='yes' )].shape[0])"
   ]
  },
  {
   "cell_type": "code",
   "execution_count": 50,
   "id": "a5f98e8c",
   "metadata": {},
   "outputs": [
    {
     "name": "stdout",
     "output_type": "stream",
     "text": [
      "cwe_id\n",
      "CWE-79     870\n",
      "CWE-20     712\n",
      "CWE-119    705\n",
      "CWE-200    419\n",
      "CWE-125    380\n",
      "          ... \n",
      "CWE-774      1\n",
      "CWE-776      1\n",
      "CWE-335      1\n",
      "CWE-331      1\n",
      "CWE-403      1\n",
      "Length: 144, dtype: int64\n"
     ]
    },
    {
     "data": {
      "text/plain": [
       "<Axes: xlabel='count', ylabel='cwe_id'>"
      ]
     },
     "execution_count": 50,
     "metadata": {},
     "output_type": "execute_result"
    },
    {
     "data": {
      "image/png": "[encoded data removed]",
      "text/plain": [
       "<Figure size 640x480 with 1 Axes>"
      ]
     },
     "metadata": {},
     "output_type": "display_data"
    }
   ],
   "source": [
    "print(df.value_counts(subset='cwe_id'))\n",
    "df.value_counts(subset='cwe_id').plot.barh(xlabel='count', ylabel='cwe_id',fontsize=3)"
   ]
  },
  {
   "cell_type": "code",
   "execution_count": 52,
   "id": "e29a54d7",
   "metadata": {},
   "outputs": [],
   "source": [
    "# Save it to csv file\n",
    "df.to_csv(\"preprocessed datasets/SPD.csv\")"
   ]
  }
 ],
 "metadata": {
  "kernelspec": {
   "display_name": "Python 3 (ipykernel)",
   "language": "python",
   "name": "python3"
  },
  "language_info": {
   "codemirror_mode": {
    "name": "ipython",
    "version": 3
   },
   "file_extension": ".py",
   "mimetype": "text/x-python",
   "name": "python",
   "nbconvert_exporter": "python",
   "pygments_lexer": "ipython3",
   "version": "3.10.0"
  }
 },
 "nbformat": 4,
 "nbformat_minor": 5
}
